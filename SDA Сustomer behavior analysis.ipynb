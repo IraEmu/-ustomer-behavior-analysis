{
 "cells": [
  {
   "cell_type": "markdown",
   "metadata": {},
   "source": [
    "# Сustomer behavior analysis"
   ]
  },
  {
   "cell_type": "markdown",
   "metadata": {},
   "source": [
    "The goal of this project is to support decision making for the commercial department. Megaline is the telecom operator. The company offers its clients two prepaid plans, Surf and Ultimate. Company wants to know which of the plans brings in more revenue in order to adjust the advertising budget. Preliminary analysis of the plans based on 500 Megaline clients: who the clients are, where they're from, which plan they use, and the number of calls they made and text messages they sent in 2018. \n",
    "\n",
    "Project goals and tasks:\n",
    "- data assesment.\n",
    "- probability computations, hypothesis testing on the data using Pandas, Numpy, and the statsmodels module in Python.\n",
    "- recommendations made on tarif plans for advertising budget"
   ]
  },
  {
   "cell_type": "markdown",
   "metadata": {},
   "source": [
    "## Step 1. Open the data file and study the general information"
   ]
  },
  {
   "cell_type": "code",
   "execution_count": 1,
   "metadata": {},
   "outputs": [],
   "source": [
    "import pandas as pd \n",
    "import numpy as np\n",
    "from matplotlib import pyplot as plt\n",
    "from scipy import stats as st"
   ]
  },
  {
   "cell_type": "code",
   "execution_count": 2,
   "metadata": {
    "scrolled": true
   },
   "outputs": [
    {
     "data": {
      "text/html": [
       "<div>\n",
       "<style scoped>\n",
       "    .dataframe tbody tr th:only-of-type {\n",
       "        vertical-align: middle;\n",
       "    }\n",
       "\n",
       "    .dataframe tbody tr th {\n",
       "        vertical-align: top;\n",
       "    }\n",
       "\n",
       "    .dataframe thead th {\n",
       "        text-align: right;\n",
       "    }\n",
       "</style>\n",
       "<table border=\"1\" class=\"dataframe\">\n",
       "  <thead>\n",
       "    <tr style=\"text-align: right;\">\n",
       "      <th></th>\n",
       "      <th>id</th>\n",
       "      <th>user_id</th>\n",
       "      <th>call_date</th>\n",
       "      <th>duration</th>\n",
       "    </tr>\n",
       "  </thead>\n",
       "  <tbody>\n",
       "    <tr>\n",
       "      <th>0</th>\n",
       "      <td>1000_93</td>\n",
       "      <td>1000</td>\n",
       "      <td>2018-12-27</td>\n",
       "      <td>8.52</td>\n",
       "    </tr>\n",
       "    <tr>\n",
       "      <th>1</th>\n",
       "      <td>1000_145</td>\n",
       "      <td>1000</td>\n",
       "      <td>2018-12-27</td>\n",
       "      <td>13.66</td>\n",
       "    </tr>\n",
       "    <tr>\n",
       "      <th>2</th>\n",
       "      <td>1000_247</td>\n",
       "      <td>1000</td>\n",
       "      <td>2018-12-27</td>\n",
       "      <td>14.48</td>\n",
       "    </tr>\n",
       "    <tr>\n",
       "      <th>3</th>\n",
       "      <td>1000_309</td>\n",
       "      <td>1000</td>\n",
       "      <td>2018-12-28</td>\n",
       "      <td>5.76</td>\n",
       "    </tr>\n",
       "    <tr>\n",
       "      <th>4</th>\n",
       "      <td>1000_380</td>\n",
       "      <td>1000</td>\n",
       "      <td>2018-12-30</td>\n",
       "      <td>4.22</td>\n",
       "    </tr>\n",
       "    <tr>\n",
       "      <th>5</th>\n",
       "      <td>1000_388</td>\n",
       "      <td>1000</td>\n",
       "      <td>2018-12-31</td>\n",
       "      <td>2.20</td>\n",
       "    </tr>\n",
       "    <tr>\n",
       "      <th>6</th>\n",
       "      <td>1000_510</td>\n",
       "      <td>1000</td>\n",
       "      <td>2018-12-27</td>\n",
       "      <td>5.75</td>\n",
       "    </tr>\n",
       "    <tr>\n",
       "      <th>7</th>\n",
       "      <td>1000_521</td>\n",
       "      <td>1000</td>\n",
       "      <td>2018-12-28</td>\n",
       "      <td>14.18</td>\n",
       "    </tr>\n",
       "    <tr>\n",
       "      <th>8</th>\n",
       "      <td>1000_530</td>\n",
       "      <td>1000</td>\n",
       "      <td>2018-12-28</td>\n",
       "      <td>5.77</td>\n",
       "    </tr>\n",
       "    <tr>\n",
       "      <th>9</th>\n",
       "      <td>1000_544</td>\n",
       "      <td>1000</td>\n",
       "      <td>2018-12-26</td>\n",
       "      <td>4.40</td>\n",
       "    </tr>\n",
       "  </tbody>\n",
       "</table>\n",
       "</div>"
      ],
      "text/plain": [
       "         id  user_id   call_date  duration\n",
       "0   1000_93     1000  2018-12-27      8.52\n",
       "1  1000_145     1000  2018-12-27     13.66\n",
       "2  1000_247     1000  2018-12-27     14.48\n",
       "3  1000_309     1000  2018-12-28      5.76\n",
       "4  1000_380     1000  2018-12-30      4.22\n",
       "5  1000_388     1000  2018-12-31      2.20\n",
       "6  1000_510     1000  2018-12-27      5.75\n",
       "7  1000_521     1000  2018-12-28     14.18\n",
       "8  1000_530     1000  2018-12-28      5.77\n",
       "9  1000_544     1000  2018-12-26      4.40"
      ]
     },
     "execution_count": 2,
     "metadata": {},
     "output_type": "execute_result"
    }
   ],
   "source": [
    "df_calls = pd.read_csv('megaline_calls.csv') \n",
    "df_calls.head(10)"
   ]
  },
  {
   "cell_type": "code",
   "execution_count": 3,
   "metadata": {
    "scrolled": false
   },
   "outputs": [
    {
     "name": "stdout",
     "output_type": "stream",
     "text": [
      "<class 'pandas.core.frame.DataFrame'>\n",
      "RangeIndex: 137735 entries, 0 to 137734\n",
      "Data columns (total 4 columns):\n",
      " #   Column     Non-Null Count   Dtype  \n",
      "---  ------     --------------   -----  \n",
      " 0   id         137735 non-null  object \n",
      " 1   user_id    137735 non-null  int64  \n",
      " 2   call_date  137735 non-null  object \n",
      " 3   duration   137735 non-null  float64\n",
      "dtypes: float64(1), int64(1), object(2)\n",
      "memory usage: 4.2+ MB\n"
     ]
    }
   ],
   "source": [
    "df_calls.info()"
   ]
  },
  {
   "cell_type": "code",
   "execution_count": 4,
   "metadata": {},
   "outputs": [
    {
     "data": {
      "image/png": "[encoded data removed]",
      "text/plain": [
       "<Figure size 432x288 with 1 Axes>"
      ]
     },
     "metadata": {
      "needs_background": "light"
     },
     "output_type": "display_data"
    }
   ],
   "source": [
    "df_calls['duration'].hist()\n",
    "plt.title('Duration distribution')\n",
    "plt.show()"
   ]
  },
  {
   "cell_type": "code",
   "execution_count": 5,
   "metadata": {
    "scrolled": true
   },
   "outputs": [
    {
     "data": {
      "text/html": [
       "<div>\n",
       "<style scoped>\n",
       "    .dataframe tbody tr th:only-of-type {\n",
       "        vertical-align: middle;\n",
       "    }\n",
       "\n",
       "    .dataframe tbody tr th {\n",
       "        vertical-align: top;\n",
       "    }\n",
       "\n",
       "    .dataframe thead th {\n",
       "        text-align: right;\n",
       "    }\n",
       "</style>\n",
       "<table border=\"1\" class=\"dataframe\">\n",
       "  <thead>\n",
       "    <tr style=\"text-align: right;\">\n",
       "      <th></th>\n",
       "      <th>user_id</th>\n",
       "      <th>duration</th>\n",
       "    </tr>\n",
       "  </thead>\n",
       "  <tbody>\n",
       "    <tr>\n",
       "      <th>count</th>\n",
       "      <td>137735.000000</td>\n",
       "      <td>137735.000000</td>\n",
       "    </tr>\n",
       "    <tr>\n",
       "      <th>mean</th>\n",
       "      <td>1247.658046</td>\n",
       "      <td>6.745927</td>\n",
       "    </tr>\n",
       "    <tr>\n",
       "      <th>std</th>\n",
       "      <td>139.416268</td>\n",
       "      <td>5.839241</td>\n",
       "    </tr>\n",
       "    <tr>\n",
       "      <th>min</th>\n",
       "      <td>1000.000000</td>\n",
       "      <td>0.000000</td>\n",
       "    </tr>\n",
       "    <tr>\n",
       "      <th>25%</th>\n",
       "      <td>1128.000000</td>\n",
       "      <td>1.290000</td>\n",
       "    </tr>\n",
       "    <tr>\n",
       "      <th>50%</th>\n",
       "      <td>1247.000000</td>\n",
       "      <td>5.980000</td>\n",
       "    </tr>\n",
       "    <tr>\n",
       "      <th>75%</th>\n",
       "      <td>1365.000000</td>\n",
       "      <td>10.690000</td>\n",
       "    </tr>\n",
       "    <tr>\n",
       "      <th>max</th>\n",
       "      <td>1499.000000</td>\n",
       "      <td>37.600000</td>\n",
       "    </tr>\n",
       "  </tbody>\n",
       "</table>\n",
       "</div>"
      ],
      "text/plain": [
       "             user_id       duration\n",
       "count  137735.000000  137735.000000\n",
       "mean     1247.658046       6.745927\n",
       "std       139.416268       5.839241\n",
       "min      1000.000000       0.000000\n",
       "25%      1128.000000       1.290000\n",
       "50%      1247.000000       5.980000\n",
       "75%      1365.000000      10.690000\n",
       "max      1499.000000      37.600000"
      ]
     },
     "execution_count": 5,
     "metadata": {},
     "output_type": "execute_result"
    }
   ],
   "source": [
    "df_calls.describe()"
   ]
  },
  {
   "cell_type": "code",
   "execution_count": 6,
   "metadata": {
    "scrolled": true
   },
   "outputs": [
    {
     "data": {
      "text/html": [
       "<div>\n",
       "<style scoped>\n",
       "    .dataframe tbody tr th:only-of-type {\n",
       "        vertical-align: middle;\n",
       "    }\n",
       "\n",
       "    .dataframe tbody tr th {\n",
       "        vertical-align: top;\n",
       "    }\n",
       "\n",
       "    .dataframe thead th {\n",
       "        text-align: right;\n",
       "    }\n",
       "</style>\n",
       "<table border=\"1\" class=\"dataframe\">\n",
       "  <thead>\n",
       "    <tr style=\"text-align: right;\">\n",
       "      <th></th>\n",
       "      <th>id</th>\n",
       "      <th>user_id</th>\n",
       "      <th>session_date</th>\n",
       "      <th>mb_used</th>\n",
       "    </tr>\n",
       "  </thead>\n",
       "  <tbody>\n",
       "    <tr>\n",
       "      <th>0</th>\n",
       "      <td>1000_13</td>\n",
       "      <td>1000</td>\n",
       "      <td>2018-12-29</td>\n",
       "      <td>89.86</td>\n",
       "    </tr>\n",
       "    <tr>\n",
       "      <th>1</th>\n",
       "      <td>1000_204</td>\n",
       "      <td>1000</td>\n",
       "      <td>2018-12-31</td>\n",
       "      <td>0.00</td>\n",
       "    </tr>\n",
       "    <tr>\n",
       "      <th>2</th>\n",
       "      <td>1000_379</td>\n",
       "      <td>1000</td>\n",
       "      <td>2018-12-28</td>\n",
       "      <td>660.40</td>\n",
       "    </tr>\n",
       "    <tr>\n",
       "      <th>3</th>\n",
       "      <td>1000_413</td>\n",
       "      <td>1000</td>\n",
       "      <td>2018-12-26</td>\n",
       "      <td>270.99</td>\n",
       "    </tr>\n",
       "    <tr>\n",
       "      <th>4</th>\n",
       "      <td>1000_442</td>\n",
       "      <td>1000</td>\n",
       "      <td>2018-12-27</td>\n",
       "      <td>880.22</td>\n",
       "    </tr>\n",
       "    <tr>\n",
       "      <th>5</th>\n",
       "      <td>1001_0</td>\n",
       "      <td>1001</td>\n",
       "      <td>2018-08-24</td>\n",
       "      <td>284.68</td>\n",
       "    </tr>\n",
       "    <tr>\n",
       "      <th>6</th>\n",
       "      <td>1001_3</td>\n",
       "      <td>1001</td>\n",
       "      <td>2018-12-09</td>\n",
       "      <td>656.04</td>\n",
       "    </tr>\n",
       "    <tr>\n",
       "      <th>7</th>\n",
       "      <td>1001_4</td>\n",
       "      <td>1001</td>\n",
       "      <td>2018-11-04</td>\n",
       "      <td>16.97</td>\n",
       "    </tr>\n",
       "    <tr>\n",
       "      <th>8</th>\n",
       "      <td>1001_10</td>\n",
       "      <td>1001</td>\n",
       "      <td>2018-11-27</td>\n",
       "      <td>135.18</td>\n",
       "    </tr>\n",
       "    <tr>\n",
       "      <th>9</th>\n",
       "      <td>1001_15</td>\n",
       "      <td>1001</td>\n",
       "      <td>2018-12-13</td>\n",
       "      <td>761.92</td>\n",
       "    </tr>\n",
       "    <tr>\n",
       "      <th>10</th>\n",
       "      <td>1001_16</td>\n",
       "      <td>1001</td>\n",
       "      <td>2018-10-28</td>\n",
       "      <td>501.53</td>\n",
       "    </tr>\n",
       "    <tr>\n",
       "      <th>11</th>\n",
       "      <td>1001_17</td>\n",
       "      <td>1001</td>\n",
       "      <td>2018-09-05</td>\n",
       "      <td>727.29</td>\n",
       "    </tr>\n",
       "    <tr>\n",
       "      <th>12</th>\n",
       "      <td>1001_24</td>\n",
       "      <td>1001</td>\n",
       "      <td>2018-09-05</td>\n",
       "      <td>622.03</td>\n",
       "    </tr>\n",
       "    <tr>\n",
       "      <th>13</th>\n",
       "      <td>1001_25</td>\n",
       "      <td>1001</td>\n",
       "      <td>2018-10-14</td>\n",
       "      <td>310.43</td>\n",
       "    </tr>\n",
       "    <tr>\n",
       "      <th>14</th>\n",
       "      <td>1001_26</td>\n",
       "      <td>1001</td>\n",
       "      <td>2018-09-17</td>\n",
       "      <td>0.00</td>\n",
       "    </tr>\n",
       "    <tr>\n",
       "      <th>15</th>\n",
       "      <td>1001_27</td>\n",
       "      <td>1001</td>\n",
       "      <td>2018-12-13</td>\n",
       "      <td>149.17</td>\n",
       "    </tr>\n",
       "    <tr>\n",
       "      <th>16</th>\n",
       "      <td>1001_28</td>\n",
       "      <td>1001</td>\n",
       "      <td>2018-10-17</td>\n",
       "      <td>0.00</td>\n",
       "    </tr>\n",
       "    <tr>\n",
       "      <th>17</th>\n",
       "      <td>1001_29</td>\n",
       "      <td>1001</td>\n",
       "      <td>2018-10-09</td>\n",
       "      <td>1067.99</td>\n",
       "    </tr>\n",
       "    <tr>\n",
       "      <th>18</th>\n",
       "      <td>1001_30</td>\n",
       "      <td>1001</td>\n",
       "      <td>2018-12-27</td>\n",
       "      <td>157.20</td>\n",
       "    </tr>\n",
       "    <tr>\n",
       "      <th>19</th>\n",
       "      <td>1001_33</td>\n",
       "      <td>1001</td>\n",
       "      <td>2018-09-27</td>\n",
       "      <td>236.40</td>\n",
       "    </tr>\n",
       "    <tr>\n",
       "      <th>20</th>\n",
       "      <td>1001_34</td>\n",
       "      <td>1001</td>\n",
       "      <td>2018-09-18</td>\n",
       "      <td>299.66</td>\n",
       "    </tr>\n",
       "    <tr>\n",
       "      <th>21</th>\n",
       "      <td>1001_37</td>\n",
       "      <td>1001</td>\n",
       "      <td>2018-12-26</td>\n",
       "      <td>694.50</td>\n",
       "    </tr>\n",
       "    <tr>\n",
       "      <th>22</th>\n",
       "      <td>1001_38</td>\n",
       "      <td>1001</td>\n",
       "      <td>2018-11-25</td>\n",
       "      <td>288.27</td>\n",
       "    </tr>\n",
       "    <tr>\n",
       "      <th>23</th>\n",
       "      <td>1001_40</td>\n",
       "      <td>1001</td>\n",
       "      <td>2018-12-27</td>\n",
       "      <td>632.84</td>\n",
       "    </tr>\n",
       "    <tr>\n",
       "      <th>24</th>\n",
       "      <td>1001_42</td>\n",
       "      <td>1001</td>\n",
       "      <td>2018-12-03</td>\n",
       "      <td>474.35</td>\n",
       "    </tr>\n",
       "    <tr>\n",
       "      <th>25</th>\n",
       "      <td>1001_43</td>\n",
       "      <td>1001</td>\n",
       "      <td>2018-11-16</td>\n",
       "      <td>196.94</td>\n",
       "    </tr>\n",
       "    <tr>\n",
       "      <th>26</th>\n",
       "      <td>1001_44</td>\n",
       "      <td>1001</td>\n",
       "      <td>2018-09-27</td>\n",
       "      <td>44.91</td>\n",
       "    </tr>\n",
       "    <tr>\n",
       "      <th>27</th>\n",
       "      <td>1001_45</td>\n",
       "      <td>1001</td>\n",
       "      <td>2018-10-23</td>\n",
       "      <td>483.49</td>\n",
       "    </tr>\n",
       "    <tr>\n",
       "      <th>28</th>\n",
       "      <td>1001_47</td>\n",
       "      <td>1001</td>\n",
       "      <td>2018-12-07</td>\n",
       "      <td>317.01</td>\n",
       "    </tr>\n",
       "    <tr>\n",
       "      <th>29</th>\n",
       "      <td>1001_48</td>\n",
       "      <td>1001</td>\n",
       "      <td>2018-09-08</td>\n",
       "      <td>284.97</td>\n",
       "    </tr>\n",
       "    <tr>\n",
       "      <th>30</th>\n",
       "      <td>1001_49</td>\n",
       "      <td>1001</td>\n",
       "      <td>2018-10-18</td>\n",
       "      <td>534.65</td>\n",
       "    </tr>\n",
       "    <tr>\n",
       "      <th>31</th>\n",
       "      <td>1001_50</td>\n",
       "      <td>1001</td>\n",
       "      <td>2018-11-27</td>\n",
       "      <td>618.84</td>\n",
       "    </tr>\n",
       "    <tr>\n",
       "      <th>32</th>\n",
       "      <td>1001_52</td>\n",
       "      <td>1001</td>\n",
       "      <td>2018-11-17</td>\n",
       "      <td>409.19</td>\n",
       "    </tr>\n",
       "    <tr>\n",
       "      <th>33</th>\n",
       "      <td>1001_53</td>\n",
       "      <td>1001</td>\n",
       "      <td>2018-11-10</td>\n",
       "      <td>418.75</td>\n",
       "    </tr>\n",
       "    <tr>\n",
       "      <th>34</th>\n",
       "      <td>1001_54</td>\n",
       "      <td>1001</td>\n",
       "      <td>2018-09-02</td>\n",
       "      <td>0.00</td>\n",
       "    </tr>\n",
       "    <tr>\n",
       "      <th>35</th>\n",
       "      <td>1001_61</td>\n",
       "      <td>1001</td>\n",
       "      <td>2018-11-28</td>\n",
       "      <td>121.30</td>\n",
       "    </tr>\n",
       "    <tr>\n",
       "      <th>36</th>\n",
       "      <td>1001_63</td>\n",
       "      <td>1001</td>\n",
       "      <td>2018-12-03</td>\n",
       "      <td>144.94</td>\n",
       "    </tr>\n",
       "    <tr>\n",
       "      <th>37</th>\n",
       "      <td>1001_64</td>\n",
       "      <td>1001</td>\n",
       "      <td>2018-12-10</td>\n",
       "      <td>14.03</td>\n",
       "    </tr>\n",
       "    <tr>\n",
       "      <th>38</th>\n",
       "      <td>1001_65</td>\n",
       "      <td>1001</td>\n",
       "      <td>2018-09-17</td>\n",
       "      <td>969.54</td>\n",
       "    </tr>\n",
       "    <tr>\n",
       "      <th>39</th>\n",
       "      <td>1001_66</td>\n",
       "      <td>1001</td>\n",
       "      <td>2018-10-17</td>\n",
       "      <td>976.69</td>\n",
       "    </tr>\n",
       "    <tr>\n",
       "      <th>40</th>\n",
       "      <td>1001_71</td>\n",
       "      <td>1001</td>\n",
       "      <td>2018-09-06</td>\n",
       "      <td>310.16</td>\n",
       "    </tr>\n",
       "    <tr>\n",
       "      <th>41</th>\n",
       "      <td>1001_73</td>\n",
       "      <td>1001</td>\n",
       "      <td>2018-10-04</td>\n",
       "      <td>501.87</td>\n",
       "    </tr>\n",
       "    <tr>\n",
       "      <th>42</th>\n",
       "      <td>1001_75</td>\n",
       "      <td>1001</td>\n",
       "      <td>2018-11-11</td>\n",
       "      <td>438.76</td>\n",
       "    </tr>\n",
       "    <tr>\n",
       "      <th>43</th>\n",
       "      <td>1001_77</td>\n",
       "      <td>1001</td>\n",
       "      <td>2018-10-31</td>\n",
       "      <td>0.00</td>\n",
       "    </tr>\n",
       "    <tr>\n",
       "      <th>44</th>\n",
       "      <td>1001_80</td>\n",
       "      <td>1001</td>\n",
       "      <td>2018-12-24</td>\n",
       "      <td>0.00</td>\n",
       "    </tr>\n",
       "    <tr>\n",
       "      <th>45</th>\n",
       "      <td>1001_82</td>\n",
       "      <td>1001</td>\n",
       "      <td>2018-11-28</td>\n",
       "      <td>255.14</td>\n",
       "    </tr>\n",
       "    <tr>\n",
       "      <th>46</th>\n",
       "      <td>1001_84</td>\n",
       "      <td>1001</td>\n",
       "      <td>2018-10-13</td>\n",
       "      <td>0.00</td>\n",
       "    </tr>\n",
       "    <tr>\n",
       "      <th>47</th>\n",
       "      <td>1001_85</td>\n",
       "      <td>1001</td>\n",
       "      <td>2018-12-16</td>\n",
       "      <td>624.34</td>\n",
       "    </tr>\n",
       "    <tr>\n",
       "      <th>48</th>\n",
       "      <td>1001_86</td>\n",
       "      <td>1001</td>\n",
       "      <td>2018-09-17</td>\n",
       "      <td>71.78</td>\n",
       "    </tr>\n",
       "    <tr>\n",
       "      <th>49</th>\n",
       "      <td>1001_87</td>\n",
       "      <td>1001</td>\n",
       "      <td>2018-09-30</td>\n",
       "      <td>179.68</td>\n",
       "    </tr>\n",
       "  </tbody>\n",
       "</table>\n",
       "</div>"
      ],
      "text/plain": [
       "          id  user_id session_date  mb_used\n",
       "0    1000_13     1000   2018-12-29    89.86\n",
       "1   1000_204     1000   2018-12-31     0.00\n",
       "2   1000_379     1000   2018-12-28   660.40\n",
       "3   1000_413     1000   2018-12-26   270.99\n",
       "4   1000_442     1000   2018-12-27   880.22\n",
       "5     1001_0     1001   2018-08-24   284.68\n",
       "6     1001_3     1001   2018-12-09   656.04\n",
       "7     1001_4     1001   2018-11-04    16.97\n",
       "8    1001_10     1001   2018-11-27   135.18\n",
       "9    1001_15     1001   2018-12-13   761.92\n",
       "10   1001_16     1001   2018-10-28   501.53\n",
       "11   1001_17     1001   2018-09-05   727.29\n",
       "12   1001_24     1001   2018-09-05   622.03\n",
       "13   1001_25     1001   2018-10-14   310.43\n",
       "14   1001_26     1001   2018-09-17     0.00\n",
       "15   1001_27     1001   2018-12-13   149.17\n",
       "16   1001_28     1001   2018-10-17     0.00\n",
       "17   1001_29     1001   2018-10-09  1067.99\n",
       "18   1001_30     1001   2018-12-27   157.20\n",
       "19   1001_33     1001   2018-09-27   236.40\n",
       "20   1001_34     1001   2018-09-18   299.66\n",
       "21   1001_37     1001   2018-12-26   694.50\n",
       "22   1001_38     1001   2018-11-25   288.27\n",
       "23   1001_40     1001   2018-12-27   632.84\n",
       "24   1001_42     1001   2018-12-03   474.35\n",
       "25   1001_43     1001   2018-11-16   196.94\n",
       "26   1001_44     1001   2018-09-27    44.91\n",
       "27   1001_45     1001   2018-10-23   483.49\n",
       "28   1001_47     1001   2018-12-07   317.01\n",
       "29   1001_48     1001   2018-09-08   284.97\n",
       "30   1001_49     1001   2018-10-18   534.65\n",
       "31   1001_50     1001   2018-11-27   618.84\n",
       "32   1001_52     1001   2018-11-17   409.19\n",
       "33   1001_53     1001   2018-11-10   418.75\n",
       "34   1001_54     1001   2018-09-02     0.00\n",
       "35   1001_61     1001   2018-11-28   121.30\n",
       "36   1001_63     1001   2018-12-03   144.94\n",
       "37   1001_64     1001   2018-12-10    14.03\n",
       "38   1001_65     1001   2018-09-17   969.54\n",
       "39   1001_66     1001   2018-10-17   976.69\n",
       "40   1001_71     1001   2018-09-06   310.16\n",
       "41   1001_73     1001   2018-10-04   501.87\n",
       "42   1001_75     1001   2018-11-11   438.76\n",
       "43   1001_77     1001   2018-10-31     0.00\n",
       "44   1001_80     1001   2018-12-24     0.00\n",
       "45   1001_82     1001   2018-11-28   255.14\n",
       "46   1001_84     1001   2018-10-13     0.00\n",
       "47   1001_85     1001   2018-12-16   624.34\n",
       "48   1001_86     1001   2018-09-17    71.78\n",
       "49   1001_87     1001   2018-09-30   179.68"
      ]
     },
     "execution_count": 6,
     "metadata": {},
     "output_type": "execute_result"
    }
   ],
   "source": [
    "df_int = pd.read_csv('megaline_internet.csv') \n",
    "df_int.head(50)"
   ]
  },
  {
   "cell_type": "code",
   "execution_count": 7,
   "metadata": {},
   "outputs": [
    {
     "data": {
      "image/png": "[encoded data removed]",
      "text/plain": [
       "<Figure size 432x288 with 1 Axes>"
      ]
     },
     "metadata": {
      "needs_background": "light"
     },
     "output_type": "display_data"
    }
   ],
   "source": [
    "df_int['mb_used'].hist()\n",
    "plt.title('Mb usage distribution')\n",
    "plt.show()"
   ]
  },
  {
   "cell_type": "code",
   "execution_count": 8,
   "metadata": {},
   "outputs": [
    {
     "name": "stdout",
     "output_type": "stream",
     "text": [
      "<class 'pandas.core.frame.DataFrame'>\n",
      "RangeIndex: 104825 entries, 0 to 104824\n",
      "Data columns (total 4 columns):\n",
      " #   Column        Non-Null Count   Dtype  \n",
      "---  ------        --------------   -----  \n",
      " 0   id            104825 non-null  object \n",
      " 1   user_id       104825 non-null  int64  \n",
      " 2   session_date  104825 non-null  object \n",
      " 3   mb_used       104825 non-null  float64\n",
      "dtypes: float64(1), int64(1), object(2)\n",
      "memory usage: 3.2+ MB\n"
     ]
    }
   ],
   "source": [
    "df_int.info()"
   ]
  },
  {
   "cell_type": "code",
   "execution_count": 9,
   "metadata": {},
   "outputs": [
    {
     "data": {
      "text/html": [
       "<div>\n",
       "<style scoped>\n",
       "    .dataframe tbody tr th:only-of-type {\n",
       "        vertical-align: middle;\n",
       "    }\n",
       "\n",
       "    .dataframe tbody tr th {\n",
       "        vertical-align: top;\n",
       "    }\n",
       "\n",
       "    .dataframe thead th {\n",
       "        text-align: right;\n",
       "    }\n",
       "</style>\n",
       "<table border=\"1\" class=\"dataframe\">\n",
       "  <thead>\n",
       "    <tr style=\"text-align: right;\">\n",
       "      <th></th>\n",
       "      <th>user_id</th>\n",
       "      <th>mb_used</th>\n",
       "    </tr>\n",
       "  </thead>\n",
       "  <tbody>\n",
       "    <tr>\n",
       "      <th>count</th>\n",
       "      <td>104825.000000</td>\n",
       "      <td>104825.000000</td>\n",
       "    </tr>\n",
       "    <tr>\n",
       "      <th>mean</th>\n",
       "      <td>1242.496361</td>\n",
       "      <td>366.713701</td>\n",
       "    </tr>\n",
       "    <tr>\n",
       "      <th>std</th>\n",
       "      <td>142.053913</td>\n",
       "      <td>277.170542</td>\n",
       "    </tr>\n",
       "    <tr>\n",
       "      <th>min</th>\n",
       "      <td>1000.000000</td>\n",
       "      <td>0.000000</td>\n",
       "    </tr>\n",
       "    <tr>\n",
       "      <th>25%</th>\n",
       "      <td>1122.000000</td>\n",
       "      <td>136.080000</td>\n",
       "    </tr>\n",
       "    <tr>\n",
       "      <th>50%</th>\n",
       "      <td>1236.000000</td>\n",
       "      <td>343.980000</td>\n",
       "    </tr>\n",
       "    <tr>\n",
       "      <th>75%</th>\n",
       "      <td>1367.000000</td>\n",
       "      <td>554.610000</td>\n",
       "    </tr>\n",
       "    <tr>\n",
       "      <th>max</th>\n",
       "      <td>1499.000000</td>\n",
       "      <td>1693.470000</td>\n",
       "    </tr>\n",
       "  </tbody>\n",
       "</table>\n",
       "</div>"
      ],
      "text/plain": [
       "             user_id        mb_used\n",
       "count  104825.000000  104825.000000\n",
       "mean     1242.496361     366.713701\n",
       "std       142.053913     277.170542\n",
       "min      1000.000000       0.000000\n",
       "25%      1122.000000     136.080000\n",
       "50%      1236.000000     343.980000\n",
       "75%      1367.000000     554.610000\n",
       "max      1499.000000    1693.470000"
      ]
     },
     "execution_count": 9,
     "metadata": {},
     "output_type": "execute_result"
    }
   ],
   "source": [
    "df_int.describe()"
   ]
  },
  {
   "cell_type": "code",
   "execution_count": 10,
   "metadata": {
    "scrolled": true
   },
   "outputs": [
    {
     "data": {
      "text/html": [
       "<div>\n",
       "<style scoped>\n",
       "    .dataframe tbody tr th:only-of-type {\n",
       "        vertical-align: middle;\n",
       "    }\n",
       "\n",
       "    .dataframe tbody tr th {\n",
       "        vertical-align: top;\n",
       "    }\n",
       "\n",
       "    .dataframe thead th {\n",
       "        text-align: right;\n",
       "    }\n",
       "</style>\n",
       "<table border=\"1\" class=\"dataframe\">\n",
       "  <thead>\n",
       "    <tr style=\"text-align: right;\">\n",
       "      <th></th>\n",
       "      <th>id</th>\n",
       "      <th>user_id</th>\n",
       "      <th>message_date</th>\n",
       "    </tr>\n",
       "  </thead>\n",
       "  <tbody>\n",
       "    <tr>\n",
       "      <th>0</th>\n",
       "      <td>1000_125</td>\n",
       "      <td>1000</td>\n",
       "      <td>2018-12-27</td>\n",
       "    </tr>\n",
       "    <tr>\n",
       "      <th>1</th>\n",
       "      <td>1000_160</td>\n",
       "      <td>1000</td>\n",
       "      <td>2018-12-31</td>\n",
       "    </tr>\n",
       "    <tr>\n",
       "      <th>2</th>\n",
       "      <td>1000_223</td>\n",
       "      <td>1000</td>\n",
       "      <td>2018-12-31</td>\n",
       "    </tr>\n",
       "    <tr>\n",
       "      <th>3</th>\n",
       "      <td>1000_251</td>\n",
       "      <td>1000</td>\n",
       "      <td>2018-12-27</td>\n",
       "    </tr>\n",
       "    <tr>\n",
       "      <th>4</th>\n",
       "      <td>1000_255</td>\n",
       "      <td>1000</td>\n",
       "      <td>2018-12-26</td>\n",
       "    </tr>\n",
       "    <tr>\n",
       "      <th>5</th>\n",
       "      <td>1000_346</td>\n",
       "      <td>1000</td>\n",
       "      <td>2018-12-29</td>\n",
       "    </tr>\n",
       "    <tr>\n",
       "      <th>6</th>\n",
       "      <td>1000_386</td>\n",
       "      <td>1000</td>\n",
       "      <td>2018-12-30</td>\n",
       "    </tr>\n",
       "    <tr>\n",
       "      <th>7</th>\n",
       "      <td>1000_413</td>\n",
       "      <td>1000</td>\n",
       "      <td>2018-12-31</td>\n",
       "    </tr>\n",
       "    <tr>\n",
       "      <th>8</th>\n",
       "      <td>1000_502</td>\n",
       "      <td>1000</td>\n",
       "      <td>2018-12-27</td>\n",
       "    </tr>\n",
       "    <tr>\n",
       "      <th>9</th>\n",
       "      <td>1000_525</td>\n",
       "      <td>1000</td>\n",
       "      <td>2018-12-28</td>\n",
       "    </tr>\n",
       "  </tbody>\n",
       "</table>\n",
       "</div>"
      ],
      "text/plain": [
       "         id  user_id message_date\n",
       "0  1000_125     1000   2018-12-27\n",
       "1  1000_160     1000   2018-12-31\n",
       "2  1000_223     1000   2018-12-31\n",
       "3  1000_251     1000   2018-12-27\n",
       "4  1000_255     1000   2018-12-26\n",
       "5  1000_346     1000   2018-12-29\n",
       "6  1000_386     1000   2018-12-30\n",
       "7  1000_413     1000   2018-12-31\n",
       "8  1000_502     1000   2018-12-27\n",
       "9  1000_525     1000   2018-12-28"
      ]
     },
     "execution_count": 10,
     "metadata": {},
     "output_type": "execute_result"
    }
   ],
   "source": [
    "df_mes = pd.read_csv('megaline_messages.csv') \n",
    "df_mes.head(10)"
   ]
  },
  {
   "cell_type": "code",
   "execution_count": 11,
   "metadata": {},
   "outputs": [
    {
     "name": "stdout",
     "output_type": "stream",
     "text": [
      "<class 'pandas.core.frame.DataFrame'>\n",
      "RangeIndex: 76051 entries, 0 to 76050\n",
      "Data columns (total 3 columns):\n",
      " #   Column        Non-Null Count  Dtype \n",
      "---  ------        --------------  ----- \n",
      " 0   id            76051 non-null  object\n",
      " 1   user_id       76051 non-null  int64 \n",
      " 2   message_date  76051 non-null  object\n",
      "dtypes: int64(1), object(2)\n",
      "memory usage: 1.7+ MB\n"
     ]
    }
   ],
   "source": [
    "df_mes.info()"
   ]
  },
  {
   "cell_type": "code",
   "execution_count": 12,
   "metadata": {
    "scrolled": true
   },
   "outputs": [
    {
     "data": {
      "text/html": [
       "<div>\n",
       "<style scoped>\n",
       "    .dataframe tbody tr th:only-of-type {\n",
       "        vertical-align: middle;\n",
       "    }\n",
       "\n",
       "    .dataframe tbody tr th {\n",
       "        vertical-align: top;\n",
       "    }\n",
       "\n",
       "    .dataframe thead th {\n",
       "        text-align: right;\n",
       "    }\n",
       "</style>\n",
       "<table border=\"1\" class=\"dataframe\">\n",
       "  <thead>\n",
       "    <tr style=\"text-align: right;\">\n",
       "      <th></th>\n",
       "      <th>messages_included</th>\n",
       "      <th>mb_per_month_included</th>\n",
       "      <th>minutes_included</th>\n",
       "      <th>usd_monthly_pay</th>\n",
       "      <th>usd_per_gb</th>\n",
       "      <th>usd_per_message</th>\n",
       "      <th>usd_per_minute</th>\n",
       "      <th>plan_name</th>\n",
       "    </tr>\n",
       "  </thead>\n",
       "  <tbody>\n",
       "    <tr>\n",
       "      <th>0</th>\n",
       "      <td>50</td>\n",
       "      <td>15360</td>\n",
       "      <td>500</td>\n",
       "      <td>20</td>\n",
       "      <td>10</td>\n",
       "      <td>0.03</td>\n",
       "      <td>0.03</td>\n",
       "      <td>surf</td>\n",
       "    </tr>\n",
       "    <tr>\n",
       "      <th>1</th>\n",
       "      <td>1000</td>\n",
       "      <td>30720</td>\n",
       "      <td>3000</td>\n",
       "      <td>70</td>\n",
       "      <td>7</td>\n",
       "      <td>0.01</td>\n",
       "      <td>0.01</td>\n",
       "      <td>ultimate</td>\n",
       "    </tr>\n",
       "  </tbody>\n",
       "</table>\n",
       "</div>"
      ],
      "text/plain": [
       "   messages_included  mb_per_month_included  minutes_included  \\\n",
       "0                 50                  15360               500   \n",
       "1               1000                  30720              3000   \n",
       "\n",
       "   usd_monthly_pay  usd_per_gb  usd_per_message  usd_per_minute plan_name  \n",
       "0               20          10             0.03            0.03      surf  \n",
       "1               70           7             0.01            0.01  ultimate  "
      ]
     },
     "execution_count": 12,
     "metadata": {},
     "output_type": "execute_result"
    }
   ],
   "source": [
    "df_plans = pd.read_csv('megaline_plans.csv') \n",
    "df_plans.head(5)"
   ]
  },
  {
   "cell_type": "code",
   "execution_count": 13,
   "metadata": {},
   "outputs": [
    {
     "name": "stdout",
     "output_type": "stream",
     "text": [
      "<class 'pandas.core.frame.DataFrame'>\n",
      "RangeIndex: 2 entries, 0 to 1\n",
      "Data columns (total 8 columns):\n",
      " #   Column                 Non-Null Count  Dtype  \n",
      "---  ------                 --------------  -----  \n",
      " 0   messages_included      2 non-null      int64  \n",
      " 1   mb_per_month_included  2 non-null      int64  \n",
      " 2   minutes_included       2 non-null      int64  \n",
      " 3   usd_monthly_pay        2 non-null      int64  \n",
      " 4   usd_per_gb             2 non-null      int64  \n",
      " 5   usd_per_message        2 non-null      float64\n",
      " 6   usd_per_minute         2 non-null      float64\n",
      " 7   plan_name              2 non-null      object \n",
      "dtypes: float64(2), int64(5), object(1)\n",
      "memory usage: 256.0+ bytes\n"
     ]
    }
   ],
   "source": [
    "df_plans.info()"
   ]
  },
  {
   "cell_type": "code",
   "execution_count": 14,
   "metadata": {
    "scrolled": false
   },
   "outputs": [
    {
     "data": {
      "text/html": [
       "<div>\n",
       "<style scoped>\n",
       "    .dataframe tbody tr th:only-of-type {\n",
       "        vertical-align: middle;\n",
       "    }\n",
       "\n",
       "    .dataframe tbody tr th {\n",
       "        vertical-align: top;\n",
       "    }\n",
       "\n",
       "    .dataframe thead th {\n",
       "        text-align: right;\n",
       "    }\n",
       "</style>\n",
       "<table border=\"1\" class=\"dataframe\">\n",
       "  <thead>\n",
       "    <tr style=\"text-align: right;\">\n",
       "      <th></th>\n",
       "      <th>user_id</th>\n",
       "      <th>first_name</th>\n",
       "      <th>last_name</th>\n",
       "      <th>age</th>\n",
       "      <th>city</th>\n",
       "      <th>reg_date</th>\n",
       "      <th>plan</th>\n",
       "      <th>churn_date</th>\n",
       "    </tr>\n",
       "  </thead>\n",
       "  <tbody>\n",
       "    <tr>\n",
       "      <th>0</th>\n",
       "      <td>1000</td>\n",
       "      <td>Anamaria</td>\n",
       "      <td>Bauer</td>\n",
       "      <td>45</td>\n",
       "      <td>Atlanta-Sandy Springs-Roswell, GA MSA</td>\n",
       "      <td>2018-12-24</td>\n",
       "      <td>ultimate</td>\n",
       "      <td>NaN</td>\n",
       "    </tr>\n",
       "    <tr>\n",
       "      <th>1</th>\n",
       "      <td>1001</td>\n",
       "      <td>Mickey</td>\n",
       "      <td>Wilkerson</td>\n",
       "      <td>28</td>\n",
       "      <td>Seattle-Tacoma-Bellevue, WA MSA</td>\n",
       "      <td>2018-08-13</td>\n",
       "      <td>surf</td>\n",
       "      <td>NaN</td>\n",
       "    </tr>\n",
       "    <tr>\n",
       "      <th>2</th>\n",
       "      <td>1002</td>\n",
       "      <td>Carlee</td>\n",
       "      <td>Hoffman</td>\n",
       "      <td>36</td>\n",
       "      <td>Las Vegas-Henderson-Paradise, NV MSA</td>\n",
       "      <td>2018-10-21</td>\n",
       "      <td>surf</td>\n",
       "      <td>NaN</td>\n",
       "    </tr>\n",
       "    <tr>\n",
       "      <th>3</th>\n",
       "      <td>1003</td>\n",
       "      <td>Reynaldo</td>\n",
       "      <td>Jenkins</td>\n",
       "      <td>52</td>\n",
       "      <td>Tulsa, OK MSA</td>\n",
       "      <td>2018-01-28</td>\n",
       "      <td>surf</td>\n",
       "      <td>NaN</td>\n",
       "    </tr>\n",
       "    <tr>\n",
       "      <th>4</th>\n",
       "      <td>1004</td>\n",
       "      <td>Leonila</td>\n",
       "      <td>Thompson</td>\n",
       "      <td>40</td>\n",
       "      <td>Seattle-Tacoma-Bellevue, WA MSA</td>\n",
       "      <td>2018-05-23</td>\n",
       "      <td>surf</td>\n",
       "      <td>NaN</td>\n",
       "    </tr>\n",
       "  </tbody>\n",
       "</table>\n",
       "</div>"
      ],
      "text/plain": [
       "   user_id first_name  last_name  age                                   city  \\\n",
       "0     1000   Anamaria      Bauer   45  Atlanta-Sandy Springs-Roswell, GA MSA   \n",
       "1     1001     Mickey  Wilkerson   28        Seattle-Tacoma-Bellevue, WA MSA   \n",
       "2     1002     Carlee    Hoffman   36   Las Vegas-Henderson-Paradise, NV MSA   \n",
       "3     1003   Reynaldo    Jenkins   52                          Tulsa, OK MSA   \n",
       "4     1004    Leonila   Thompson   40        Seattle-Tacoma-Bellevue, WA MSA   \n",
       "\n",
       "     reg_date      plan churn_date  \n",
       "0  2018-12-24  ultimate        NaN  \n",
       "1  2018-08-13      surf        NaN  \n",
       "2  2018-10-21      surf        NaN  \n",
       "3  2018-01-28      surf        NaN  \n",
       "4  2018-05-23      surf        NaN  "
      ]
     },
     "execution_count": 14,
     "metadata": {},
     "output_type": "execute_result"
    }
   ],
   "source": [
    "df_users = pd.read_csv('megaline_users.csv') \n",
    "df_users.head(5)"
   ]
  },
  {
   "cell_type": "code",
   "execution_count": 15,
   "metadata": {
    "scrolled": true
   },
   "outputs": [
    {
     "name": "stdout",
     "output_type": "stream",
     "text": [
      "<class 'pandas.core.frame.DataFrame'>\n",
      "RangeIndex: 500 entries, 0 to 499\n",
      "Data columns (total 8 columns):\n",
      " #   Column      Non-Null Count  Dtype \n",
      "---  ------      --------------  ----- \n",
      " 0   user_id     500 non-null    int64 \n",
      " 1   first_name  500 non-null    object\n",
      " 2   last_name   500 non-null    object\n",
      " 3   age         500 non-null    int64 \n",
      " 4   city        500 non-null    object\n",
      " 5   reg_date    500 non-null    object\n",
      " 6   plan        500 non-null    object\n",
      " 7   churn_date  34 non-null     object\n",
      "dtypes: int64(2), object(6)\n",
      "memory usage: 31.4+ KB\n"
     ]
    }
   ],
   "source": [
    "df_users.info()"
   ]
  },
  {
   "cell_type": "code",
   "execution_count": 16,
   "metadata": {},
   "outputs": [
    {
     "data": {
      "text/plain": [
       "surf        339\n",
       "ultimate    161\n",
       "Name: plan, dtype: int64"
      ]
     },
     "execution_count": 16,
     "metadata": {},
     "output_type": "execute_result"
    }
   ],
   "source": [
    "df_users['plan'].value_counts()"
   ]
  },
  {
   "cell_type": "code",
   "execution_count": 17,
   "metadata": {},
   "outputs": [],
   "source": [
    "df = df_users['city'].value_counts()"
   ]
  },
  {
   "cell_type": "code",
   "execution_count": 18,
   "metadata": {},
   "outputs": [
    {
     "data": {
      "text/plain": [
       "New York-Newark-Jersey City, NY-NJ-PA MSA          80\n",
       "Los Angeles-Long Beach-Anaheim, CA MSA             29\n",
       "Dallas-Fort Worth-Arlington, TX MSA                21\n",
       "Chicago-Naperville-Elgin, IL-IN-WI MSA             19\n",
       "Philadelphia-Camden-Wilmington, PA-NJ-DE-MD MSA    17\n",
       "                                                   ..\n",
       "Albany-Schenectady-Troy, NY MSA                     1\n",
       "Oxnard-Thousand Oaks-Ventura, CA MSA                1\n",
       "Jacksonville, FL MSA                                1\n",
       "El Paso, TX MSA                                     1\n",
       "Cape Coral-Fort Myers, FL MSA                       1\n",
       "Name: city, Length: 73, dtype: int64"
      ]
     },
     "execution_count": 18,
     "metadata": {},
     "output_type": "execute_result"
    }
   ],
   "source": [
    "df"
   ]
  },
  {
   "cell_type": "code",
   "execution_count": 19,
   "metadata": {
    "scrolled": false
   },
   "outputs": [
    {
     "data": {
      "text/html": [
       "<div>\n",
       "<style scoped>\n",
       "    .dataframe tbody tr th:only-of-type {\n",
       "        vertical-align: middle;\n",
       "    }\n",
       "\n",
       "    .dataframe tbody tr th {\n",
       "        vertical-align: top;\n",
       "    }\n",
       "\n",
       "    .dataframe thead th {\n",
       "        text-align: right;\n",
       "    }\n",
       "</style>\n",
       "<table border=\"1\" class=\"dataframe\">\n",
       "  <thead>\n",
       "    <tr style=\"text-align: right;\">\n",
       "      <th></th>\n",
       "      <th>user_id</th>\n",
       "      <th>age</th>\n",
       "    </tr>\n",
       "  </thead>\n",
       "  <tbody>\n",
       "    <tr>\n",
       "      <th>count</th>\n",
       "      <td>500.000000</td>\n",
       "      <td>500.000000</td>\n",
       "    </tr>\n",
       "    <tr>\n",
       "      <th>mean</th>\n",
       "      <td>1249.500000</td>\n",
       "      <td>45.486000</td>\n",
       "    </tr>\n",
       "    <tr>\n",
       "      <th>std</th>\n",
       "      <td>144.481833</td>\n",
       "      <td>16.972269</td>\n",
       "    </tr>\n",
       "    <tr>\n",
       "      <th>min</th>\n",
       "      <td>1000.000000</td>\n",
       "      <td>18.000000</td>\n",
       "    </tr>\n",
       "    <tr>\n",
       "      <th>25%</th>\n",
       "      <td>1124.750000</td>\n",
       "      <td>30.000000</td>\n",
       "    </tr>\n",
       "    <tr>\n",
       "      <th>50%</th>\n",
       "      <td>1249.500000</td>\n",
       "      <td>46.000000</td>\n",
       "    </tr>\n",
       "    <tr>\n",
       "      <th>75%</th>\n",
       "      <td>1374.250000</td>\n",
       "      <td>61.000000</td>\n",
       "    </tr>\n",
       "    <tr>\n",
       "      <th>max</th>\n",
       "      <td>1499.000000</td>\n",
       "      <td>75.000000</td>\n",
       "    </tr>\n",
       "  </tbody>\n",
       "</table>\n",
       "</div>"
      ],
      "text/plain": [
       "           user_id         age\n",
       "count   500.000000  500.000000\n",
       "mean   1249.500000   45.486000\n",
       "std     144.481833   16.972269\n",
       "min    1000.000000   18.000000\n",
       "25%    1124.750000   30.000000\n",
       "50%    1249.500000   46.000000\n",
       "75%    1374.250000   61.000000\n",
       "max    1499.000000   75.000000"
      ]
     },
     "execution_count": 19,
     "metadata": {},
     "output_type": "execute_result"
    }
   ],
   "source": [
    "df_users.describe()"
   ]
  },
  {
   "cell_type": "markdown",
   "metadata": {},
   "source": [
    "### Conclusion"
   ]
  },
  {
   "cell_type": "markdown",
   "metadata": {},
   "source": [
    "We have 5 files. No missing values in it.\n",
    "All types of data is suitable. Just later group by ID.\n",
    "In files no duplicates, values are unique.\n",
    "No reason to change anything for now.\n",
    "\n"
   ]
  },
  {
   "cell_type": "markdown",
   "metadata": {},
   "source": [
    "We don't have missing values in the files, only 0. Probably it's falied connections in internet traffic and missing/cancelled calls in calls file. We don't have any additional information to identify this ID's as missed, or something else that we need to fill in or delete from the file. Seems more reasonable to keep it as it is."
   ]
  },
  {
   "cell_type": "markdown",
   "metadata": {},
   "source": [
    "## Step 2. Prepare the data"
   ]
  },
  {
   "cell_type": "markdown",
   "metadata": {},
   "source": [
    "* \t\tConvert the data to the necessary types\n",
    "\n",
    "* \t\tFind and eliminate errors in the data"
   ]
  },
  {
   "cell_type": "code",
   "execution_count": 20,
   "metadata": {
    "scrolled": false
   },
   "outputs": [
    {
     "data": {
      "text/html": [
       "<div>\n",
       "<style scoped>\n",
       "    .dataframe tbody tr th:only-of-type {\n",
       "        vertical-align: middle;\n",
       "    }\n",
       "\n",
       "    .dataframe tbody tr th {\n",
       "        vertical-align: top;\n",
       "    }\n",
       "\n",
       "    .dataframe thead th {\n",
       "        text-align: right;\n",
       "    }\n",
       "</style>\n",
       "<table border=\"1\" class=\"dataframe\">\n",
       "  <thead>\n",
       "    <tr style=\"text-align: right;\">\n",
       "      <th></th>\n",
       "      <th>user_id</th>\n",
       "      <th>first_name</th>\n",
       "      <th>last_name</th>\n",
       "      <th>age</th>\n",
       "      <th>city</th>\n",
       "      <th>reg_date</th>\n",
       "      <th>plan</th>\n",
       "      <th>churn_date</th>\n",
       "    </tr>\n",
       "  </thead>\n",
       "  <tbody>\n",
       "    <tr>\n",
       "      <th>187</th>\n",
       "      <td>1187</td>\n",
       "      <td>Tanner</td>\n",
       "      <td>Goodman</td>\n",
       "      <td>49</td>\n",
       "      <td>Austin-Round Rock-Georgetown, TX MSA</td>\n",
       "      <td>2018-02-20</td>\n",
       "      <td>surf</td>\n",
       "      <td>NaN</td>\n",
       "    </tr>\n",
       "    <tr>\n",
       "      <th>452</th>\n",
       "      <td>1452</td>\n",
       "      <td>Miguel</td>\n",
       "      <td>Sparks</td>\n",
       "      <td>32</td>\n",
       "      <td>Tucson, AZ MSA</td>\n",
       "      <td>2018-12-29</td>\n",
       "      <td>surf</td>\n",
       "      <td>NaN</td>\n",
       "    </tr>\n",
       "    <tr>\n",
       "      <th>324</th>\n",
       "      <td>1324</td>\n",
       "      <td>Romana</td>\n",
       "      <td>Moore</td>\n",
       "      <td>18</td>\n",
       "      <td>Minneapolis-St. Paul-Bloomington, MN-WI MSA</td>\n",
       "      <td>2018-04-04</td>\n",
       "      <td>surf</td>\n",
       "      <td>NaN</td>\n",
       "    </tr>\n",
       "    <tr>\n",
       "      <th>249</th>\n",
       "      <td>1249</td>\n",
       "      <td>Kelly</td>\n",
       "      <td>Goodman</td>\n",
       "      <td>41</td>\n",
       "      <td>Cincinnati, OH-KY-IN MSA</td>\n",
       "      <td>2018-05-14</td>\n",
       "      <td>ultimate</td>\n",
       "      <td>NaN</td>\n",
       "    </tr>\n",
       "    <tr>\n",
       "      <th>213</th>\n",
       "      <td>1213</td>\n",
       "      <td>Carl</td>\n",
       "      <td>Newman</td>\n",
       "      <td>47</td>\n",
       "      <td>San Diego-Chula Vista-Carlsbad, CA MSA</td>\n",
       "      <td>2018-11-25</td>\n",
       "      <td>ultimate</td>\n",
       "      <td>NaN</td>\n",
       "    </tr>\n",
       "  </tbody>\n",
       "</table>\n",
       "</div>"
      ],
      "text/plain": [
       "     user_id first_name last_name  age  \\\n",
       "187     1187     Tanner   Goodman   49   \n",
       "452     1452     Miguel    Sparks   32   \n",
       "324     1324     Romana     Moore   18   \n",
       "249     1249      Kelly   Goodman   41   \n",
       "213     1213       Carl    Newman   47   \n",
       "\n",
       "                                            city    reg_date      plan  \\\n",
       "187         Austin-Round Rock-Georgetown, TX MSA  2018-02-20      surf   \n",
       "452                               Tucson, AZ MSA  2018-12-29      surf   \n",
       "324  Minneapolis-St. Paul-Bloomington, MN-WI MSA  2018-04-04      surf   \n",
       "249                     Cincinnati, OH-KY-IN MSA  2018-05-14  ultimate   \n",
       "213       San Diego-Chula Vista-Carlsbad, CA MSA  2018-11-25  ultimate   \n",
       "\n",
       "    churn_date  \n",
       "187        NaN  \n",
       "452        NaN  \n",
       "324        NaN  \n",
       "249        NaN  \n",
       "213        NaN  "
      ]
     },
     "execution_count": 20,
     "metadata": {},
     "output_type": "execute_result"
    }
   ],
   "source": [
    "df_users.sample(5)"
   ]
  },
  {
   "cell_type": "code",
   "execution_count": 21,
   "metadata": {},
   "outputs": [],
   "source": [
    "df_calls['call_date']= pd.to_datetime(df_calls['call_date'], format='%Y-%m-%d')"
   ]
  },
  {
   "cell_type": "code",
   "execution_count": 22,
   "metadata": {
    "scrolled": true
   },
   "outputs": [],
   "source": [
    "df_int['session_date']= pd.to_datetime(df_int['session_date'], format='%Y-%m-%d')"
   ]
  },
  {
   "cell_type": "code",
   "execution_count": 23,
   "metadata": {},
   "outputs": [],
   "source": [
    "df_mes['message_date']= pd.to_datetime(df_mes['message_date'], format='%Y-%m-%d')"
   ]
  },
  {
   "cell_type": "code",
   "execution_count": 24,
   "metadata": {},
   "outputs": [],
   "source": [
    "df_users['reg_date']= pd.to_datetime(df_users['reg_date'], format='%Y-%m-%d')"
   ]
  },
  {
   "cell_type": "code",
   "execution_count": 25,
   "metadata": {},
   "outputs": [],
   "source": [
    "df_users['churn_date']= pd.to_datetime(df_users['churn_date'], format='%Y-%m-%d')"
   ]
  },
  {
   "cell_type": "code",
   "execution_count": 26,
   "metadata": {
    "scrolled": true
   },
   "outputs": [
    {
     "name": "stdout",
     "output_type": "stream",
     "text": [
      "<class 'pandas.core.frame.DataFrame'>\n",
      "RangeIndex: 500 entries, 0 to 499\n",
      "Data columns (total 8 columns):\n",
      " #   Column      Non-Null Count  Dtype         \n",
      "---  ------      --------------  -----         \n",
      " 0   user_id     500 non-null    int64         \n",
      " 1   first_name  500 non-null    object        \n",
      " 2   last_name   500 non-null    object        \n",
      " 3   age         500 non-null    int64         \n",
      " 4   city        500 non-null    object        \n",
      " 5   reg_date    500 non-null    datetime64[ns]\n",
      " 6   plan        500 non-null    object        \n",
      " 7   churn_date  34 non-null     datetime64[ns]\n",
      "dtypes: datetime64[ns](2), int64(2), object(4)\n",
      "memory usage: 31.4+ KB\n"
     ]
    }
   ],
   "source": [
    "df_users.info()"
   ]
  },
  {
   "cell_type": "code",
   "execution_count": 27,
   "metadata": {},
   "outputs": [],
   "source": [
    "df_calls['month'] = pd.DatetimeIndex(df_calls['call_date']).month"
   ]
  },
  {
   "cell_type": "code",
   "execution_count": 28,
   "metadata": {
    "scrolled": false
   },
   "outputs": [],
   "source": [
    "df_int['month'] = pd.DatetimeIndex(df_int['session_date']).month"
   ]
  },
  {
   "cell_type": "code",
   "execution_count": 29,
   "metadata": {},
   "outputs": [],
   "source": [
    "df_mes['month'] = pd.DatetimeIndex(df_mes['message_date']).month"
   ]
  },
  {
   "cell_type": "code",
   "execution_count": 30,
   "metadata": {},
   "outputs": [],
   "source": [
    "df_users['month_reg'] = pd.DatetimeIndex(df_users['reg_date']).month"
   ]
  },
  {
   "cell_type": "code",
   "execution_count": 31,
   "metadata": {},
   "outputs": [],
   "source": [
    "df_users['month_churn'] = pd.DatetimeIndex(df_users['churn_date']).month"
   ]
  },
  {
   "cell_type": "code",
   "execution_count": 32,
   "metadata": {},
   "outputs": [
    {
     "data": {
      "text/html": [
       "<div>\n",
       "<style scoped>\n",
       "    .dataframe tbody tr th:only-of-type {\n",
       "        vertical-align: middle;\n",
       "    }\n",
       "\n",
       "    .dataframe tbody tr th {\n",
       "        vertical-align: top;\n",
       "    }\n",
       "\n",
       "    .dataframe thead th {\n",
       "        text-align: right;\n",
       "    }\n",
       "</style>\n",
       "<table border=\"1\" class=\"dataframe\">\n",
       "  <thead>\n",
       "    <tr style=\"text-align: right;\">\n",
       "      <th></th>\n",
       "      <th>user_id</th>\n",
       "      <th>first_name</th>\n",
       "      <th>last_name</th>\n",
       "      <th>age</th>\n",
       "      <th>city</th>\n",
       "      <th>reg_date</th>\n",
       "      <th>plan</th>\n",
       "      <th>churn_date</th>\n",
       "      <th>month_reg</th>\n",
       "      <th>month_churn</th>\n",
       "    </tr>\n",
       "  </thead>\n",
       "  <tbody>\n",
       "    <tr>\n",
       "      <th>0</th>\n",
       "      <td>1000</td>\n",
       "      <td>Anamaria</td>\n",
       "      <td>Bauer</td>\n",
       "      <td>45</td>\n",
       "      <td>Atlanta-Sandy Springs-Roswell, GA MSA</td>\n",
       "      <td>2018-12-24</td>\n",
       "      <td>ultimate</td>\n",
       "      <td>NaT</td>\n",
       "      <td>12</td>\n",
       "      <td>NaN</td>\n",
       "    </tr>\n",
       "    <tr>\n",
       "      <th>1</th>\n",
       "      <td>1001</td>\n",
       "      <td>Mickey</td>\n",
       "      <td>Wilkerson</td>\n",
       "      <td>28</td>\n",
       "      <td>Seattle-Tacoma-Bellevue, WA MSA</td>\n",
       "      <td>2018-08-13</td>\n",
       "      <td>surf</td>\n",
       "      <td>NaT</td>\n",
       "      <td>8</td>\n",
       "      <td>NaN</td>\n",
       "    </tr>\n",
       "  </tbody>\n",
       "</table>\n",
       "</div>"
      ],
      "text/plain": [
       "   user_id first_name  last_name  age                                   city  \\\n",
       "0     1000   Anamaria      Bauer   45  Atlanta-Sandy Springs-Roswell, GA MSA   \n",
       "1     1001     Mickey  Wilkerson   28        Seattle-Tacoma-Bellevue, WA MSA   \n",
       "\n",
       "    reg_date      plan churn_date  month_reg  month_churn  \n",
       "0 2018-12-24  ultimate        NaT         12          NaN  \n",
       "1 2018-08-13      surf        NaT          8          NaN  "
      ]
     },
     "execution_count": 32,
     "metadata": {},
     "output_type": "execute_result"
    }
   ],
   "source": [
    "df_users.head(2)"
   ]
  },
  {
   "cell_type": "markdown",
   "metadata": {},
   "source": [
    "All dates in a suitable format now. Related to 2018 year. Churn dates are only in a second half of the year."
   ]
  },
  {
   "cell_type": "markdown",
   "metadata": {},
   "source": [
    "For each user, find:\n",
    "* \t\tThe number of calls made and minutes used per month\n",
    "* \t\tThe number of text messages sent per month\n",
    "* \t\tThe volume of data per month\n",
    "* \t\tThe monthly revenue from each user (subtract the free package limit from the total number of calls, text messages, and data; multiply the result by the calling plan value; add the monthly charge depending on the calling plan)"
   ]
  },
  {
   "cell_type": "markdown",
   "metadata": {},
   "source": [
    "1. Calculated for each user: for each month total minutes, messages, gb of data \n",
    "2. Merged three datasets\n",
    "3. Function to calculate the revenue"
   ]
  },
  {
   "cell_type": "code",
   "execution_count": 33,
   "metadata": {},
   "outputs": [],
   "source": [
    "df_calls['duration'] = df_calls['duration'].apply(np.ceil)"
   ]
  },
  {
   "cell_type": "code",
   "execution_count": 34,
   "metadata": {},
   "outputs": [
    {
     "data": {
      "text/html": [
       "<div>\n",
       "<style scoped>\n",
       "    .dataframe tbody tr th:only-of-type {\n",
       "        vertical-align: middle;\n",
       "    }\n",
       "\n",
       "    .dataframe tbody tr th {\n",
       "        vertical-align: top;\n",
       "    }\n",
       "\n",
       "    .dataframe thead th {\n",
       "        text-align: right;\n",
       "    }\n",
       "</style>\n",
       "<table border=\"1\" class=\"dataframe\">\n",
       "  <thead>\n",
       "    <tr style=\"text-align: right;\">\n",
       "      <th></th>\n",
       "      <th>id</th>\n",
       "      <th>user_id</th>\n",
       "      <th>call_date</th>\n",
       "      <th>duration</th>\n",
       "      <th>month</th>\n",
       "    </tr>\n",
       "  </thead>\n",
       "  <tbody>\n",
       "    <tr>\n",
       "      <th>0</th>\n",
       "      <td>1000_93</td>\n",
       "      <td>1000</td>\n",
       "      <td>2018-12-27</td>\n",
       "      <td>9.0</td>\n",
       "      <td>12</td>\n",
       "    </tr>\n",
       "    <tr>\n",
       "      <th>1</th>\n",
       "      <td>1000_145</td>\n",
       "      <td>1000</td>\n",
       "      <td>2018-12-27</td>\n",
       "      <td>14.0</td>\n",
       "      <td>12</td>\n",
       "    </tr>\n",
       "    <tr>\n",
       "      <th>2</th>\n",
       "      <td>1000_247</td>\n",
       "      <td>1000</td>\n",
       "      <td>2018-12-27</td>\n",
       "      <td>15.0</td>\n",
       "      <td>12</td>\n",
       "    </tr>\n",
       "  </tbody>\n",
       "</table>\n",
       "</div>"
      ],
      "text/plain": [
       "         id  user_id  call_date  duration  month\n",
       "0   1000_93     1000 2018-12-27       9.0     12\n",
       "1  1000_145     1000 2018-12-27      14.0     12\n",
       "2  1000_247     1000 2018-12-27      15.0     12"
      ]
     },
     "execution_count": 34,
     "metadata": {},
     "output_type": "execute_result"
    }
   ],
   "source": [
    "df_calls.head(3)"
   ]
  },
  {
   "cell_type": "code",
   "execution_count": 35,
   "metadata": {},
   "outputs": [],
   "source": [
    "df_calls_group = df_calls.groupby(['user_id', 'month'])"
   ]
  },
  {
   "cell_type": "code",
   "execution_count": 36,
   "metadata": {},
   "outputs": [
    {
     "name": "stdout",
     "output_type": "stream",
     "text": [
      "2258\n"
     ]
    },
    {
     "data": {
      "text/html": [
       "<div>\n",
       "<style scoped>\n",
       "    .dataframe tbody tr th:only-of-type {\n",
       "        vertical-align: middle;\n",
       "    }\n",
       "\n",
       "    .dataframe tbody tr th {\n",
       "        vertical-align: top;\n",
       "    }\n",
       "\n",
       "    .dataframe thead th {\n",
       "        text-align: right;\n",
       "    }\n",
       "</style>\n",
       "<table border=\"1\" class=\"dataframe\">\n",
       "  <thead>\n",
       "    <tr style=\"text-align: right;\">\n",
       "      <th></th>\n",
       "      <th>id</th>\n",
       "      <th>user_id</th>\n",
       "      <th>call_date</th>\n",
       "      <th>duration</th>\n",
       "      <th>month</th>\n",
       "    </tr>\n",
       "  </thead>\n",
       "  <tbody>\n",
       "    <tr>\n",
       "      <th>0</th>\n",
       "      <td>1000_93</td>\n",
       "      <td>1000</td>\n",
       "      <td>2018-12-27</td>\n",
       "      <td>9.0</td>\n",
       "      <td>12</td>\n",
       "    </tr>\n",
       "    <tr>\n",
       "      <th>1</th>\n",
       "      <td>1000_145</td>\n",
       "      <td>1000</td>\n",
       "      <td>2018-12-27</td>\n",
       "      <td>14.0</td>\n",
       "      <td>12</td>\n",
       "    </tr>\n",
       "    <tr>\n",
       "      <th>16</th>\n",
       "      <td>1001_0</td>\n",
       "      <td>1001</td>\n",
       "      <td>2018-09-06</td>\n",
       "      <td>11.0</td>\n",
       "      <td>9</td>\n",
       "    </tr>\n",
       "    <tr>\n",
       "      <th>17</th>\n",
       "      <td>1001_1</td>\n",
       "      <td>1001</td>\n",
       "      <td>2018-10-12</td>\n",
       "      <td>1.0</td>\n",
       "      <td>10</td>\n",
       "    </tr>\n",
       "    <tr>\n",
       "      <th>18</th>\n",
       "      <td>1001_2</td>\n",
       "      <td>1001</td>\n",
       "      <td>2018-10-17</td>\n",
       "      <td>16.0</td>\n",
       "      <td>10</td>\n",
       "    </tr>\n",
       "    <tr>\n",
       "      <th>...</th>\n",
       "      <td>...</td>\n",
       "      <td>...</td>\n",
       "      <td>...</td>\n",
       "      <td>...</td>\n",
       "      <td>...</td>\n",
       "    </tr>\n",
       "    <tr>\n",
       "      <th>137535</th>\n",
       "      <td>1499_4</td>\n",
       "      <td>1499</td>\n",
       "      <td>2018-10-05</td>\n",
       "      <td>1.0</td>\n",
       "      <td>10</td>\n",
       "    </tr>\n",
       "    <tr>\n",
       "      <th>137536</th>\n",
       "      <td>1499_5</td>\n",
       "      <td>1499</td>\n",
       "      <td>2018-12-17</td>\n",
       "      <td>0.0</td>\n",
       "      <td>12</td>\n",
       "    </tr>\n",
       "    <tr>\n",
       "      <th>137539</th>\n",
       "      <td>1499_8</td>\n",
       "      <td>1499</td>\n",
       "      <td>2018-12-21</td>\n",
       "      <td>6.0</td>\n",
       "      <td>12</td>\n",
       "    </tr>\n",
       "    <tr>\n",
       "      <th>137540</th>\n",
       "      <td>1499_9</td>\n",
       "      <td>1499</td>\n",
       "      <td>2018-09-18</td>\n",
       "      <td>0.0</td>\n",
       "      <td>9</td>\n",
       "    </tr>\n",
       "    <tr>\n",
       "      <th>137545</th>\n",
       "      <td>1499_14</td>\n",
       "      <td>1499</td>\n",
       "      <td>2018-09-27</td>\n",
       "      <td>8.0</td>\n",
       "      <td>9</td>\n",
       "    </tr>\n",
       "  </tbody>\n",
       "</table>\n",
       "<p>4511 rows × 5 columns</p>\n",
       "</div>"
      ],
      "text/plain": [
       "              id  user_id  call_date  duration  month\n",
       "0        1000_93     1000 2018-12-27       9.0     12\n",
       "1       1000_145     1000 2018-12-27      14.0     12\n",
       "16        1001_0     1001 2018-09-06      11.0      9\n",
       "17        1001_1     1001 2018-10-12       1.0     10\n",
       "18        1001_2     1001 2018-10-17      16.0     10\n",
       "...          ...      ...        ...       ...    ...\n",
       "137535    1499_4     1499 2018-10-05       1.0     10\n",
       "137536    1499_5     1499 2018-12-17       0.0     12\n",
       "137539    1499_8     1499 2018-12-21       6.0     12\n",
       "137540    1499_9     1499 2018-09-18       0.0      9\n",
       "137545   1499_14     1499 2018-09-27       8.0      9\n",
       "\n",
       "[4511 rows x 5 columns]"
      ]
     },
     "execution_count": 36,
     "metadata": {},
     "output_type": "execute_result"
    }
   ],
   "source": [
    "print(len(df_calls_group))\n",
    "df_calls_group.head(2)"
   ]
  },
  {
   "cell_type": "code",
   "execution_count": 37,
   "metadata": {},
   "outputs": [],
   "source": [
    "calls_pivot = df_calls.pivot_table(index=['user_id', 'month'],\n",
    "                              values='duration', aggfunc='sum')"
   ]
  },
  {
   "cell_type": "code",
   "execution_count": 38,
   "metadata": {
    "scrolled": true
   },
   "outputs": [
    {
     "data": {
      "text/html": [
       "<div>\n",
       "<style scoped>\n",
       "    .dataframe tbody tr th:only-of-type {\n",
       "        vertical-align: middle;\n",
       "    }\n",
       "\n",
       "    .dataframe tbody tr th {\n",
       "        vertical-align: top;\n",
       "    }\n",
       "\n",
       "    .dataframe thead th {\n",
       "        text-align: right;\n",
       "    }\n",
       "</style>\n",
       "<table border=\"1\" class=\"dataframe\">\n",
       "  <thead>\n",
       "    <tr style=\"text-align: right;\">\n",
       "      <th></th>\n",
       "      <th></th>\n",
       "      <th>duration</th>\n",
       "    </tr>\n",
       "    <tr>\n",
       "      <th>user_id</th>\n",
       "      <th>month</th>\n",
       "      <th></th>\n",
       "    </tr>\n",
       "  </thead>\n",
       "  <tbody>\n",
       "    <tr>\n",
       "      <th>1000</th>\n",
       "      <th>12</th>\n",
       "      <td>124.0</td>\n",
       "    </tr>\n",
       "    <tr>\n",
       "      <th rowspan=\"5\" valign=\"top\">1001</th>\n",
       "      <th>8</th>\n",
       "      <td>182.0</td>\n",
       "    </tr>\n",
       "    <tr>\n",
       "      <th>9</th>\n",
       "      <td>315.0</td>\n",
       "    </tr>\n",
       "    <tr>\n",
       "      <th>10</th>\n",
       "      <td>393.0</td>\n",
       "    </tr>\n",
       "    <tr>\n",
       "      <th>11</th>\n",
       "      <td>426.0</td>\n",
       "    </tr>\n",
       "    <tr>\n",
       "      <th>12</th>\n",
       "      <td>412.0</td>\n",
       "    </tr>\n",
       "    <tr>\n",
       "      <th rowspan=\"3\" valign=\"top\">1002</th>\n",
       "      <th>10</th>\n",
       "      <td>59.0</td>\n",
       "    </tr>\n",
       "    <tr>\n",
       "      <th>11</th>\n",
       "      <td>386.0</td>\n",
       "    </tr>\n",
       "    <tr>\n",
       "      <th>12</th>\n",
       "      <td>384.0</td>\n",
       "    </tr>\n",
       "    <tr>\n",
       "      <th>1003</th>\n",
       "      <th>12</th>\n",
       "      <td>1104.0</td>\n",
       "    </tr>\n",
       "  </tbody>\n",
       "</table>\n",
       "</div>"
      ],
      "text/plain": [
       "               duration\n",
       "user_id month          \n",
       "1000    12        124.0\n",
       "1001    8         182.0\n",
       "        9         315.0\n",
       "        10        393.0\n",
       "        11        426.0\n",
       "        12        412.0\n",
       "1002    10         59.0\n",
       "        11        386.0\n",
       "        12        384.0\n",
       "1003    12       1104.0"
      ]
     },
     "execution_count": 38,
     "metadata": {},
     "output_type": "execute_result"
    }
   ],
   "source": [
    "calls_pivot.head(10)"
   ]
  },
  {
   "cell_type": "code",
   "execution_count": 39,
   "metadata": {},
   "outputs": [
    {
     "data": {
      "text/html": [
       "<div>\n",
       "<style scoped>\n",
       "    .dataframe tbody tr th:only-of-type {\n",
       "        vertical-align: middle;\n",
       "    }\n",
       "\n",
       "    .dataframe tbody tr th {\n",
       "        vertical-align: top;\n",
       "    }\n",
       "\n",
       "    .dataframe thead th {\n",
       "        text-align: right;\n",
       "    }\n",
       "</style>\n",
       "<table border=\"1\" class=\"dataframe\">\n",
       "  <thead>\n",
       "    <tr style=\"text-align: right;\">\n",
       "      <th></th>\n",
       "      <th>id</th>\n",
       "      <th>user_id</th>\n",
       "      <th>session_date</th>\n",
       "      <th>mb_used</th>\n",
       "      <th>month</th>\n",
       "    </tr>\n",
       "  </thead>\n",
       "  <tbody>\n",
       "    <tr>\n",
       "      <th>0</th>\n",
       "      <td>1000_13</td>\n",
       "      <td>1000</td>\n",
       "      <td>2018-12-29</td>\n",
       "      <td>89.86</td>\n",
       "      <td>12</td>\n",
       "    </tr>\n",
       "    <tr>\n",
       "      <th>1</th>\n",
       "      <td>1000_204</td>\n",
       "      <td>1000</td>\n",
       "      <td>2018-12-31</td>\n",
       "      <td>0.00</td>\n",
       "      <td>12</td>\n",
       "    </tr>\n",
       "    <tr>\n",
       "      <th>2</th>\n",
       "      <td>1000_379</td>\n",
       "      <td>1000</td>\n",
       "      <td>2018-12-28</td>\n",
       "      <td>660.40</td>\n",
       "      <td>12</td>\n",
       "    </tr>\n",
       "  </tbody>\n",
       "</table>\n",
       "</div>"
      ],
      "text/plain": [
       "         id  user_id session_date  mb_used  month\n",
       "0   1000_13     1000   2018-12-29    89.86     12\n",
       "1  1000_204     1000   2018-12-31     0.00     12\n",
       "2  1000_379     1000   2018-12-28   660.40     12"
      ]
     },
     "execution_count": 39,
     "metadata": {},
     "output_type": "execute_result"
    }
   ],
   "source": [
    "df_int.head(3)"
   ]
  },
  {
   "cell_type": "code",
   "execution_count": 40,
   "metadata": {},
   "outputs": [],
   "source": [
    "int_pivot = df_int.pivot_table(index=['user_id', 'month'],\n",
    "                              values='mb_used', aggfunc='sum')"
   ]
  },
  {
   "cell_type": "code",
   "execution_count": 41,
   "metadata": {
    "scrolled": true
   },
   "outputs": [
    {
     "data": {
      "text/html": [
       "<div>\n",
       "<style scoped>\n",
       "    .dataframe tbody tr th:only-of-type {\n",
       "        vertical-align: middle;\n",
       "    }\n",
       "\n",
       "    .dataframe tbody tr th {\n",
       "        vertical-align: top;\n",
       "    }\n",
       "\n",
       "    .dataframe thead th {\n",
       "        text-align: right;\n",
       "    }\n",
       "</style>\n",
       "<table border=\"1\" class=\"dataframe\">\n",
       "  <thead>\n",
       "    <tr style=\"text-align: right;\">\n",
       "      <th></th>\n",
       "      <th></th>\n",
       "      <th>mb_used</th>\n",
       "    </tr>\n",
       "    <tr>\n",
       "      <th>user_id</th>\n",
       "      <th>month</th>\n",
       "      <th></th>\n",
       "    </tr>\n",
       "  </thead>\n",
       "  <tbody>\n",
       "    <tr>\n",
       "      <th>1000</th>\n",
       "      <th>12</th>\n",
       "      <td>1901.47</td>\n",
       "    </tr>\n",
       "    <tr>\n",
       "      <th rowspan=\"5\" valign=\"top\">1001</th>\n",
       "      <th>8</th>\n",
       "      <td>6919.15</td>\n",
       "    </tr>\n",
       "    <tr>\n",
       "      <th>9</th>\n",
       "      <td>13314.82</td>\n",
       "    </tr>\n",
       "    <tr>\n",
       "      <th>10</th>\n",
       "      <td>22330.49</td>\n",
       "    </tr>\n",
       "    <tr>\n",
       "      <th>11</th>\n",
       "      <td>18504.30</td>\n",
       "    </tr>\n",
       "    <tr>\n",
       "      <th>12</th>\n",
       "      <td>19369.18</td>\n",
       "    </tr>\n",
       "    <tr>\n",
       "      <th rowspan=\"3\" valign=\"top\">1002</th>\n",
       "      <th>10</th>\n",
       "      <td>6552.01</td>\n",
       "    </tr>\n",
       "    <tr>\n",
       "      <th>11</th>\n",
       "      <td>19345.08</td>\n",
       "    </tr>\n",
       "    <tr>\n",
       "      <th>12</th>\n",
       "      <td>14396.24</td>\n",
       "    </tr>\n",
       "    <tr>\n",
       "      <th>1003</th>\n",
       "      <th>12</th>\n",
       "      <td>27044.14</td>\n",
       "    </tr>\n",
       "  </tbody>\n",
       "</table>\n",
       "</div>"
      ],
      "text/plain": [
       "                mb_used\n",
       "user_id month          \n",
       "1000    12      1901.47\n",
       "1001    8       6919.15\n",
       "        9      13314.82\n",
       "        10     22330.49\n",
       "        11     18504.30\n",
       "        12     19369.18\n",
       "1002    10      6552.01\n",
       "        11     19345.08\n",
       "        12     14396.24\n",
       "1003    12     27044.14"
      ]
     },
     "execution_count": 41,
     "metadata": {},
     "output_type": "execute_result"
    }
   ],
   "source": [
    "int_pivot.head(10)"
   ]
  },
  {
   "cell_type": "code",
   "execution_count": 42,
   "metadata": {},
   "outputs": [
    {
     "data": {
      "text/html": [
       "<div>\n",
       "<style scoped>\n",
       "    .dataframe tbody tr th:only-of-type {\n",
       "        vertical-align: middle;\n",
       "    }\n",
       "\n",
       "    .dataframe tbody tr th {\n",
       "        vertical-align: top;\n",
       "    }\n",
       "\n",
       "    .dataframe thead th {\n",
       "        text-align: right;\n",
       "    }\n",
       "</style>\n",
       "<table border=\"1\" class=\"dataframe\">\n",
       "  <thead>\n",
       "    <tr style=\"text-align: right;\">\n",
       "      <th></th>\n",
       "      <th>id</th>\n",
       "      <th>user_id</th>\n",
       "      <th>message_date</th>\n",
       "      <th>month</th>\n",
       "    </tr>\n",
       "  </thead>\n",
       "  <tbody>\n",
       "    <tr>\n",
       "      <th>0</th>\n",
       "      <td>1000_125</td>\n",
       "      <td>1000</td>\n",
       "      <td>2018-12-27</td>\n",
       "      <td>12</td>\n",
       "    </tr>\n",
       "    <tr>\n",
       "      <th>1</th>\n",
       "      <td>1000_160</td>\n",
       "      <td>1000</td>\n",
       "      <td>2018-12-31</td>\n",
       "      <td>12</td>\n",
       "    </tr>\n",
       "    <tr>\n",
       "      <th>2</th>\n",
       "      <td>1000_223</td>\n",
       "      <td>1000</td>\n",
       "      <td>2018-12-31</td>\n",
       "      <td>12</td>\n",
       "    </tr>\n",
       "  </tbody>\n",
       "</table>\n",
       "</div>"
      ],
      "text/plain": [
       "         id  user_id message_date  month\n",
       "0  1000_125     1000   2018-12-27     12\n",
       "1  1000_160     1000   2018-12-31     12\n",
       "2  1000_223     1000   2018-12-31     12"
      ]
     },
     "execution_count": 42,
     "metadata": {},
     "output_type": "execute_result"
    }
   ],
   "source": [
    "df_mes.head(3)"
   ]
  },
  {
   "cell_type": "code",
   "execution_count": 43,
   "metadata": {},
   "outputs": [],
   "source": [
    "mes_pivot = df_mes.pivot_table(index=['user_id', 'month'],\n",
    "                              values='id', aggfunc='count')"
   ]
  },
  {
   "cell_type": "code",
   "execution_count": 44,
   "metadata": {
    "scrolled": true
   },
   "outputs": [
    {
     "data": {
      "text/html": [
       "<div>\n",
       "<style scoped>\n",
       "    .dataframe tbody tr th:only-of-type {\n",
       "        vertical-align: middle;\n",
       "    }\n",
       "\n",
       "    .dataframe tbody tr th {\n",
       "        vertical-align: top;\n",
       "    }\n",
       "\n",
       "    .dataframe thead th {\n",
       "        text-align: right;\n",
       "    }\n",
       "</style>\n",
       "<table border=\"1\" class=\"dataframe\">\n",
       "  <thead>\n",
       "    <tr style=\"text-align: right;\">\n",
       "      <th></th>\n",
       "      <th></th>\n",
       "      <th>id</th>\n",
       "    </tr>\n",
       "    <tr>\n",
       "      <th>user_id</th>\n",
       "      <th>month</th>\n",
       "      <th></th>\n",
       "    </tr>\n",
       "  </thead>\n",
       "  <tbody>\n",
       "    <tr>\n",
       "      <th>1000</th>\n",
       "      <th>12</th>\n",
       "      <td>11</td>\n",
       "    </tr>\n",
       "    <tr>\n",
       "      <th rowspan=\"4\" valign=\"top\">1001</th>\n",
       "      <th>8</th>\n",
       "      <td>30</td>\n",
       "    </tr>\n",
       "    <tr>\n",
       "      <th>9</th>\n",
       "      <td>44</td>\n",
       "    </tr>\n",
       "    <tr>\n",
       "      <th>10</th>\n",
       "      <td>53</td>\n",
       "    </tr>\n",
       "    <tr>\n",
       "      <th>11</th>\n",
       "      <td>36</td>\n",
       "    </tr>\n",
       "    <tr>\n",
       "      <th>...</th>\n",
       "      <th>...</th>\n",
       "      <td>...</td>\n",
       "    </tr>\n",
       "    <tr>\n",
       "      <th rowspan=\"4\" valign=\"top\">1496</th>\n",
       "      <th>9</th>\n",
       "      <td>21</td>\n",
       "    </tr>\n",
       "    <tr>\n",
       "      <th>10</th>\n",
       "      <td>18</td>\n",
       "    </tr>\n",
       "    <tr>\n",
       "      <th>11</th>\n",
       "      <td>13</td>\n",
       "    </tr>\n",
       "    <tr>\n",
       "      <th>12</th>\n",
       "      <td>11</td>\n",
       "    </tr>\n",
       "    <tr>\n",
       "      <th>1497</th>\n",
       "      <th>12</th>\n",
       "      <td>50</td>\n",
       "    </tr>\n",
       "  </tbody>\n",
       "</table>\n",
       "<p>1806 rows × 1 columns</p>\n",
       "</div>"
      ],
      "text/plain": [
       "               id\n",
       "user_id month    \n",
       "1000    12     11\n",
       "1001    8      30\n",
       "        9      44\n",
       "        10     53\n",
       "        11     36\n",
       "...            ..\n",
       "1496    9      21\n",
       "        10     18\n",
       "        11     13\n",
       "        12     11\n",
       "1497    12     50\n",
       "\n",
       "[1806 rows x 1 columns]"
      ]
     },
     "execution_count": 44,
     "metadata": {},
     "output_type": "execute_result"
    }
   ],
   "source": [
    "mes_pivot"
   ]
  },
  {
   "cell_type": "code",
   "execution_count": 45,
   "metadata": {},
   "outputs": [],
   "source": [
    "mes_pivot.columns = ['sms']"
   ]
  },
  {
   "cell_type": "code",
   "execution_count": 46,
   "metadata": {},
   "outputs": [],
   "source": [
    "total1= pd.merge(left = calls_pivot, \n",
    "                right = int_pivot, how='outer',on=['user_id', 'month']).fillna(0)\n",
    "total2=pd.merge(left = total1 , \n",
    "                right = mes_pivot, how='outer',on=['user_id', 'month']).fillna(0)"
   ]
  },
  {
   "cell_type": "code",
   "execution_count": 47,
   "metadata": {
    "scrolled": false
   },
   "outputs": [
    {
     "data": {
      "text/html": [
       "<div>\n",
       "<style scoped>\n",
       "    .dataframe tbody tr th:only-of-type {\n",
       "        vertical-align: middle;\n",
       "    }\n",
       "\n",
       "    .dataframe tbody tr th {\n",
       "        vertical-align: top;\n",
       "    }\n",
       "\n",
       "    .dataframe thead th {\n",
       "        text-align: right;\n",
       "    }\n",
       "</style>\n",
       "<table border=\"1\" class=\"dataframe\">\n",
       "  <thead>\n",
       "    <tr style=\"text-align: right;\">\n",
       "      <th></th>\n",
       "      <th></th>\n",
       "      <th>duration</th>\n",
       "      <th>mb_used</th>\n",
       "      <th>sms</th>\n",
       "    </tr>\n",
       "    <tr>\n",
       "      <th>user_id</th>\n",
       "      <th>month</th>\n",
       "      <th></th>\n",
       "      <th></th>\n",
       "      <th></th>\n",
       "    </tr>\n",
       "  </thead>\n",
       "  <tbody>\n",
       "    <tr>\n",
       "      <th>1000</th>\n",
       "      <th>12</th>\n",
       "      <td>124.0</td>\n",
       "      <td>1901.47</td>\n",
       "      <td>11.0</td>\n",
       "    </tr>\n",
       "    <tr>\n",
       "      <th rowspan=\"4\" valign=\"top\">1001</th>\n",
       "      <th>8</th>\n",
       "      <td>182.0</td>\n",
       "      <td>6919.15</td>\n",
       "      <td>30.0</td>\n",
       "    </tr>\n",
       "    <tr>\n",
       "      <th>9</th>\n",
       "      <td>315.0</td>\n",
       "      <td>13314.82</td>\n",
       "      <td>44.0</td>\n",
       "    </tr>\n",
       "    <tr>\n",
       "      <th>10</th>\n",
       "      <td>393.0</td>\n",
       "      <td>22330.49</td>\n",
       "      <td>53.0</td>\n",
       "    </tr>\n",
       "    <tr>\n",
       "      <th>11</th>\n",
       "      <td>426.0</td>\n",
       "      <td>18504.30</td>\n",
       "      <td>36.0</td>\n",
       "    </tr>\n",
       "    <tr>\n",
       "      <th>...</th>\n",
       "      <th>...</th>\n",
       "      <td>...</td>\n",
       "      <td>...</td>\n",
       "      <td>...</td>\n",
       "    </tr>\n",
       "    <tr>\n",
       "      <th rowspan=\"3\" valign=\"top\">1349</th>\n",
       "      <th>10</th>\n",
       "      <td>0.0</td>\n",
       "      <td>13093.55</td>\n",
       "      <td>76.0</td>\n",
       "    </tr>\n",
       "    <tr>\n",
       "      <th>11</th>\n",
       "      <td>0.0</td>\n",
       "      <td>17128.26</td>\n",
       "      <td>72.0</td>\n",
       "    </tr>\n",
       "    <tr>\n",
       "      <th>12</th>\n",
       "      <td>0.0</td>\n",
       "      <td>13039.91</td>\n",
       "      <td>61.0</td>\n",
       "    </tr>\n",
       "    <tr>\n",
       "      <th>1361</th>\n",
       "      <th>5</th>\n",
       "      <td>0.0</td>\n",
       "      <td>1519.69</td>\n",
       "      <td>2.0</td>\n",
       "    </tr>\n",
       "    <tr>\n",
       "      <th>1482</th>\n",
       "      <th>10</th>\n",
       "      <td>0.0</td>\n",
       "      <td>0.00</td>\n",
       "      <td>2.0</td>\n",
       "    </tr>\n",
       "  </tbody>\n",
       "</table>\n",
       "<p>2293 rows × 3 columns</p>\n",
       "</div>"
      ],
      "text/plain": [
       "               duration   mb_used   sms\n",
       "user_id month                          \n",
       "1000    12        124.0   1901.47  11.0\n",
       "1001    8         182.0   6919.15  30.0\n",
       "        9         315.0  13314.82  44.0\n",
       "        10        393.0  22330.49  53.0\n",
       "        11        426.0  18504.30  36.0\n",
       "...                 ...       ...   ...\n",
       "1349    10          0.0  13093.55  76.0\n",
       "        11          0.0  17128.26  72.0\n",
       "        12          0.0  13039.91  61.0\n",
       "1361    5           0.0   1519.69   2.0\n",
       "1482    10          0.0      0.00   2.0\n",
       "\n",
       "[2293 rows x 3 columns]"
      ]
     },
     "execution_count": 47,
     "metadata": {},
     "output_type": "execute_result"
    }
   ],
   "source": [
    "total2"
   ]
  },
  {
   "cell_type": "code",
   "execution_count": 48,
   "metadata": {},
   "outputs": [],
   "source": [
    "total3=pd.merge(left = total2 , \n",
    "                right = df_users[['user_id', 'plan']] , how='outer',on='user_id').fillna(0)"
   ]
  },
  {
   "cell_type": "code",
   "execution_count": 49,
   "metadata": {},
   "outputs": [
    {
     "data": {
      "text/html": [
       "<div>\n",
       "<style scoped>\n",
       "    .dataframe tbody tr th:only-of-type {\n",
       "        vertical-align: middle;\n",
       "    }\n",
       "\n",
       "    .dataframe tbody tr th {\n",
       "        vertical-align: top;\n",
       "    }\n",
       "\n",
       "    .dataframe thead th {\n",
       "        text-align: right;\n",
       "    }\n",
       "</style>\n",
       "<table border=\"1\" class=\"dataframe\">\n",
       "  <thead>\n",
       "    <tr style=\"text-align: right;\">\n",
       "      <th></th>\n",
       "      <th>user_id</th>\n",
       "      <th>duration</th>\n",
       "      <th>mb_used</th>\n",
       "      <th>sms</th>\n",
       "      <th>plan</th>\n",
       "    </tr>\n",
       "  </thead>\n",
       "  <tbody>\n",
       "    <tr>\n",
       "      <th>0</th>\n",
       "      <td>1000</td>\n",
       "      <td>124.0</td>\n",
       "      <td>1901.47</td>\n",
       "      <td>11.0</td>\n",
       "      <td>ultimate</td>\n",
       "    </tr>\n",
       "    <tr>\n",
       "      <th>1</th>\n",
       "      <td>1001</td>\n",
       "      <td>182.0</td>\n",
       "      <td>6919.15</td>\n",
       "      <td>30.0</td>\n",
       "      <td>surf</td>\n",
       "    </tr>\n",
       "    <tr>\n",
       "      <th>2</th>\n",
       "      <td>1001</td>\n",
       "      <td>315.0</td>\n",
       "      <td>13314.82</td>\n",
       "      <td>44.0</td>\n",
       "      <td>surf</td>\n",
       "    </tr>\n",
       "    <tr>\n",
       "      <th>3</th>\n",
       "      <td>1001</td>\n",
       "      <td>393.0</td>\n",
       "      <td>22330.49</td>\n",
       "      <td>53.0</td>\n",
       "      <td>surf</td>\n",
       "    </tr>\n",
       "    <tr>\n",
       "      <th>4</th>\n",
       "      <td>1001</td>\n",
       "      <td>426.0</td>\n",
       "      <td>18504.30</td>\n",
       "      <td>36.0</td>\n",
       "      <td>surf</td>\n",
       "    </tr>\n",
       "    <tr>\n",
       "      <th>5</th>\n",
       "      <td>1001</td>\n",
       "      <td>412.0</td>\n",
       "      <td>19369.18</td>\n",
       "      <td>44.0</td>\n",
       "      <td>surf</td>\n",
       "    </tr>\n",
       "    <tr>\n",
       "      <th>6</th>\n",
       "      <td>1002</td>\n",
       "      <td>59.0</td>\n",
       "      <td>6552.01</td>\n",
       "      <td>15.0</td>\n",
       "      <td>surf</td>\n",
       "    </tr>\n",
       "    <tr>\n",
       "      <th>7</th>\n",
       "      <td>1002</td>\n",
       "      <td>386.0</td>\n",
       "      <td>19345.08</td>\n",
       "      <td>32.0</td>\n",
       "      <td>surf</td>\n",
       "    </tr>\n",
       "    <tr>\n",
       "      <th>8</th>\n",
       "      <td>1002</td>\n",
       "      <td>384.0</td>\n",
       "      <td>14396.24</td>\n",
       "      <td>41.0</td>\n",
       "      <td>surf</td>\n",
       "    </tr>\n",
       "    <tr>\n",
       "      <th>9</th>\n",
       "      <td>1003</td>\n",
       "      <td>1104.0</td>\n",
       "      <td>27044.14</td>\n",
       "      <td>50.0</td>\n",
       "      <td>surf</td>\n",
       "    </tr>\n",
       "  </tbody>\n",
       "</table>\n",
       "</div>"
      ],
      "text/plain": [
       "   user_id  duration   mb_used   sms      plan\n",
       "0     1000     124.0   1901.47  11.0  ultimate\n",
       "1     1001     182.0   6919.15  30.0      surf\n",
       "2     1001     315.0  13314.82  44.0      surf\n",
       "3     1001     393.0  22330.49  53.0      surf\n",
       "4     1001     426.0  18504.30  36.0      surf\n",
       "5     1001     412.0  19369.18  44.0      surf\n",
       "6     1002      59.0   6552.01  15.0      surf\n",
       "7     1002     386.0  19345.08  32.0      surf\n",
       "8     1002     384.0  14396.24  41.0      surf\n",
       "9     1003    1104.0  27044.14  50.0      surf"
      ]
     },
     "execution_count": 49,
     "metadata": {},
     "output_type": "execute_result"
    }
   ],
   "source": [
    "total3.head(10)"
   ]
  },
  {
   "cell_type": "code",
   "execution_count": 50,
   "metadata": {},
   "outputs": [],
   "source": [
    "total3['mb_used'] = total3['mb_used']/1024"
   ]
  },
  {
   "cell_type": "code",
   "execution_count": 51,
   "metadata": {},
   "outputs": [],
   "source": [
    "total3['mb_used'] = total3['mb_used'].apply(np.ceil)"
   ]
  },
  {
   "cell_type": "code",
   "execution_count": 52,
   "metadata": {
    "scrolled": true
   },
   "outputs": [
    {
     "data": {
      "text/html": [
       "<div>\n",
       "<style scoped>\n",
       "    .dataframe tbody tr th:only-of-type {\n",
       "        vertical-align: middle;\n",
       "    }\n",
       "\n",
       "    .dataframe tbody tr th {\n",
       "        vertical-align: top;\n",
       "    }\n",
       "\n",
       "    .dataframe thead th {\n",
       "        text-align: right;\n",
       "    }\n",
       "</style>\n",
       "<table border=\"1\" class=\"dataframe\">\n",
       "  <thead>\n",
       "    <tr style=\"text-align: right;\">\n",
       "      <th></th>\n",
       "      <th>user_id</th>\n",
       "      <th>duration</th>\n",
       "      <th>mb_used</th>\n",
       "      <th>sms</th>\n",
       "      <th>plan</th>\n",
       "    </tr>\n",
       "  </thead>\n",
       "  <tbody>\n",
       "    <tr>\n",
       "      <th>0</th>\n",
       "      <td>1000</td>\n",
       "      <td>124.0</td>\n",
       "      <td>2.0</td>\n",
       "      <td>11.0</td>\n",
       "      <td>ultimate</td>\n",
       "    </tr>\n",
       "    <tr>\n",
       "      <th>1</th>\n",
       "      <td>1001</td>\n",
       "      <td>182.0</td>\n",
       "      <td>7.0</td>\n",
       "      <td>30.0</td>\n",
       "      <td>surf</td>\n",
       "    </tr>\n",
       "    <tr>\n",
       "      <th>2</th>\n",
       "      <td>1001</td>\n",
       "      <td>315.0</td>\n",
       "      <td>14.0</td>\n",
       "      <td>44.0</td>\n",
       "      <td>surf</td>\n",
       "    </tr>\n",
       "    <tr>\n",
       "      <th>3</th>\n",
       "      <td>1001</td>\n",
       "      <td>393.0</td>\n",
       "      <td>22.0</td>\n",
       "      <td>53.0</td>\n",
       "      <td>surf</td>\n",
       "    </tr>\n",
       "    <tr>\n",
       "      <th>4</th>\n",
       "      <td>1001</td>\n",
       "      <td>426.0</td>\n",
       "      <td>19.0</td>\n",
       "      <td>36.0</td>\n",
       "      <td>surf</td>\n",
       "    </tr>\n",
       "    <tr>\n",
       "      <th>5</th>\n",
       "      <td>1001</td>\n",
       "      <td>412.0</td>\n",
       "      <td>19.0</td>\n",
       "      <td>44.0</td>\n",
       "      <td>surf</td>\n",
       "    </tr>\n",
       "    <tr>\n",
       "      <th>6</th>\n",
       "      <td>1002</td>\n",
       "      <td>59.0</td>\n",
       "      <td>7.0</td>\n",
       "      <td>15.0</td>\n",
       "      <td>surf</td>\n",
       "    </tr>\n",
       "    <tr>\n",
       "      <th>7</th>\n",
       "      <td>1002</td>\n",
       "      <td>386.0</td>\n",
       "      <td>19.0</td>\n",
       "      <td>32.0</td>\n",
       "      <td>surf</td>\n",
       "    </tr>\n",
       "    <tr>\n",
       "      <th>8</th>\n",
       "      <td>1002</td>\n",
       "      <td>384.0</td>\n",
       "      <td>15.0</td>\n",
       "      <td>41.0</td>\n",
       "      <td>surf</td>\n",
       "    </tr>\n",
       "    <tr>\n",
       "      <th>9</th>\n",
       "      <td>1003</td>\n",
       "      <td>1104.0</td>\n",
       "      <td>27.0</td>\n",
       "      <td>50.0</td>\n",
       "      <td>surf</td>\n",
       "    </tr>\n",
       "  </tbody>\n",
       "</table>\n",
       "</div>"
      ],
      "text/plain": [
       "   user_id  duration  mb_used   sms      plan\n",
       "0     1000     124.0      2.0  11.0  ultimate\n",
       "1     1001     182.0      7.0  30.0      surf\n",
       "2     1001     315.0     14.0  44.0      surf\n",
       "3     1001     393.0     22.0  53.0      surf\n",
       "4     1001     426.0     19.0  36.0      surf\n",
       "5     1001     412.0     19.0  44.0      surf\n",
       "6     1002      59.0      7.0  15.0      surf\n",
       "7     1002     386.0     19.0  32.0      surf\n",
       "8     1002     384.0     15.0  41.0      surf\n",
       "9     1003    1104.0     27.0  50.0      surf"
      ]
     },
     "execution_count": 52,
     "metadata": {},
     "output_type": "execute_result"
    }
   ],
   "source": [
    "total3.head(10)"
   ]
  },
  {
   "cell_type": "code",
   "execution_count": 53,
   "metadata": {
    "scrolled": true
   },
   "outputs": [
    {
     "name": "stdout",
     "output_type": "stream",
     "text": [
      "2303\n"
     ]
    }
   ],
   "source": [
    "print(len(total3))"
   ]
  },
  {
   "cell_type": "code",
   "execution_count": 54,
   "metadata": {},
   "outputs": [],
   "source": [
    "def revenue (row):\n",
    "    if row['plan'] == 'surf':\n",
    "        if row['duration'] > 500:\n",
    "            calls_cost = (row['duration'] - 500)*0.03\n",
    "        else:\n",
    "            calls_cost = 0\n",
    "        if row['sms'] > 50:\n",
    "            sms_cost = (row['sms'] - 50)*0.03\n",
    "        else:\n",
    "            sms_cost = 0\n",
    "        if row['mb_used'] > 15:\n",
    "            mb_used_cost = (row['mb_used'] - 15)*10\n",
    "        else:\n",
    "            mb_used_cost = 0\n",
    "        total_cost = calls_cost + sms_cost + mb_used_cost + 20\n",
    "    if row['plan'] == 'ultimate':\n",
    "        if row['duration'] > 3000:\n",
    "            calls_cost = (row['duration'] - 3000)*0.01\n",
    "        else:\n",
    "            calls_cost = 0\n",
    "        if row['sms'] > 1000:\n",
    "            sms_cost = (row['sms'] - 1000)*0.01\n",
    "        else:\n",
    "            sms_cost = 0\n",
    "        if row['mb_used'] > 30:\n",
    "            mb_used_cost = (row['mb_used'] - 30)*7\n",
    "        else:\n",
    "            mb_used_cost = 0\n",
    "        total_cost = calls_cost + sms_cost + mb_used_cost + 70\n",
    "    return total_cost"
   ]
  },
  {
   "cell_type": "code",
   "execution_count": 55,
   "metadata": {},
   "outputs": [],
   "source": [
    "total3['revenue'] = total3.apply(revenue, axis=1)"
   ]
  },
  {
   "cell_type": "code",
   "execution_count": 56,
   "metadata": {
    "scrolled": true
   },
   "outputs": [
    {
     "data": {
      "text/html": [
       "<div>\n",
       "<style scoped>\n",
       "    .dataframe tbody tr th:only-of-type {\n",
       "        vertical-align: middle;\n",
       "    }\n",
       "\n",
       "    .dataframe tbody tr th {\n",
       "        vertical-align: top;\n",
       "    }\n",
       "\n",
       "    .dataframe thead th {\n",
       "        text-align: right;\n",
       "    }\n",
       "</style>\n",
       "<table border=\"1\" class=\"dataframe\">\n",
       "  <thead>\n",
       "    <tr style=\"text-align: right;\">\n",
       "      <th></th>\n",
       "      <th>user_id</th>\n",
       "      <th>duration</th>\n",
       "      <th>mb_used</th>\n",
       "      <th>sms</th>\n",
       "      <th>plan</th>\n",
       "      <th>revenue</th>\n",
       "    </tr>\n",
       "  </thead>\n",
       "  <tbody>\n",
       "    <tr>\n",
       "      <th>0</th>\n",
       "      <td>1000</td>\n",
       "      <td>124.0</td>\n",
       "      <td>2.0</td>\n",
       "      <td>11.0</td>\n",
       "      <td>ultimate</td>\n",
       "      <td>70.00</td>\n",
       "    </tr>\n",
       "    <tr>\n",
       "      <th>1</th>\n",
       "      <td>1001</td>\n",
       "      <td>182.0</td>\n",
       "      <td>7.0</td>\n",
       "      <td>30.0</td>\n",
       "      <td>surf</td>\n",
       "      <td>20.00</td>\n",
       "    </tr>\n",
       "    <tr>\n",
       "      <th>2</th>\n",
       "      <td>1001</td>\n",
       "      <td>315.0</td>\n",
       "      <td>14.0</td>\n",
       "      <td>44.0</td>\n",
       "      <td>surf</td>\n",
       "      <td>20.00</td>\n",
       "    </tr>\n",
       "    <tr>\n",
       "      <th>3</th>\n",
       "      <td>1001</td>\n",
       "      <td>393.0</td>\n",
       "      <td>22.0</td>\n",
       "      <td>53.0</td>\n",
       "      <td>surf</td>\n",
       "      <td>90.09</td>\n",
       "    </tr>\n",
       "    <tr>\n",
       "      <th>4</th>\n",
       "      <td>1001</td>\n",
       "      <td>426.0</td>\n",
       "      <td>19.0</td>\n",
       "      <td>36.0</td>\n",
       "      <td>surf</td>\n",
       "      <td>60.00</td>\n",
       "    </tr>\n",
       "    <tr>\n",
       "      <th>5</th>\n",
       "      <td>1001</td>\n",
       "      <td>412.0</td>\n",
       "      <td>19.0</td>\n",
       "      <td>44.0</td>\n",
       "      <td>surf</td>\n",
       "      <td>60.00</td>\n",
       "    </tr>\n",
       "    <tr>\n",
       "      <th>6</th>\n",
       "      <td>1002</td>\n",
       "      <td>59.0</td>\n",
       "      <td>7.0</td>\n",
       "      <td>15.0</td>\n",
       "      <td>surf</td>\n",
       "      <td>20.00</td>\n",
       "    </tr>\n",
       "    <tr>\n",
       "      <th>7</th>\n",
       "      <td>1002</td>\n",
       "      <td>386.0</td>\n",
       "      <td>19.0</td>\n",
       "      <td>32.0</td>\n",
       "      <td>surf</td>\n",
       "      <td>60.00</td>\n",
       "    </tr>\n",
       "    <tr>\n",
       "      <th>8</th>\n",
       "      <td>1002</td>\n",
       "      <td>384.0</td>\n",
       "      <td>15.0</td>\n",
       "      <td>41.0</td>\n",
       "      <td>surf</td>\n",
       "      <td>20.00</td>\n",
       "    </tr>\n",
       "    <tr>\n",
       "      <th>9</th>\n",
       "      <td>1003</td>\n",
       "      <td>1104.0</td>\n",
       "      <td>27.0</td>\n",
       "      <td>50.0</td>\n",
       "      <td>surf</td>\n",
       "      <td>158.12</td>\n",
       "    </tr>\n",
       "  </tbody>\n",
       "</table>\n",
       "</div>"
      ],
      "text/plain": [
       "   user_id  duration  mb_used   sms      plan  revenue\n",
       "0     1000     124.0      2.0  11.0  ultimate    70.00\n",
       "1     1001     182.0      7.0  30.0      surf    20.00\n",
       "2     1001     315.0     14.0  44.0      surf    20.00\n",
       "3     1001     393.0     22.0  53.0      surf    90.09\n",
       "4     1001     426.0     19.0  36.0      surf    60.00\n",
       "5     1001     412.0     19.0  44.0      surf    60.00\n",
       "6     1002      59.0      7.0  15.0      surf    20.00\n",
       "7     1002     386.0     19.0  32.0      surf    60.00\n",
       "8     1002     384.0     15.0  41.0      surf    20.00\n",
       "9     1003    1104.0     27.0  50.0      surf   158.12"
      ]
     },
     "execution_count": 56,
     "metadata": {},
     "output_type": "execute_result"
    }
   ],
   "source": [
    "total3.head(10)"
   ]
  },
  {
   "cell_type": "markdown",
   "metadata": {},
   "source": [
    "### Conclusion \n",
    "\n",
    "Each  call was rounded up to one minute. For web traffic, Mb rounded up and conberted to Gb.\n",
    "Function for revenue based on plan description:\n",
    "Surf\n",
    "Monthly charge: $20\n",
    "\n",
    "500 monthly minutes, 50 texts, and 15 GB of data\n",
    "\n",
    "After exceeding the package limits:\n",
    "\n",
    "1 minute: 3 cents\n",
    "\n",
    "1 text message: 3 cents\n",
    "\n",
    "1 GB of data: $10\n",
    "\n",
    "Ultimate\n",
    "\n",
    "Monthly charge: $70\n",
    "\n",
    "3000 monthly minutes, 1000 text messages, and 30 GB of data\n",
    "\n",
    "After exceeding the package limits:\n",
    "\n",
    "1 minute: 1 cent\n",
    "\n",
    "1 text message: 1 cent\n",
    "\n",
    "1 GB of data: $7\n"
   ]
  },
  {
   "cell_type": "markdown",
   "metadata": {},
   "source": [
    "## Analyze the data"
   ]
  },
  {
   "cell_type": "markdown",
   "metadata": {},
   "source": [
    "Describe the customers' behavior. Find the minutes, texts, and volume of data the users of each plan require per month. Calculate the mean, dispersion, and standard deviation - using describe method. Plot histograms, for each column, dividing by plans. Describe the distributions."
   ]
  },
  {
   "cell_type": "code",
   "execution_count": 57,
   "metadata": {
    "scrolled": true
   },
   "outputs": [
    {
     "data": {
      "text/html": [
       "<div>\n",
       "<style scoped>\n",
       "    .dataframe tbody tr th:only-of-type {\n",
       "        vertical-align: middle;\n",
       "    }\n",
       "\n",
       "    .dataframe tbody tr th {\n",
       "        vertical-align: top;\n",
       "    }\n",
       "\n",
       "    .dataframe thead th {\n",
       "        text-align: right;\n",
       "    }\n",
       "</style>\n",
       "<table border=\"1\" class=\"dataframe\">\n",
       "  <thead>\n",
       "    <tr style=\"text-align: right;\">\n",
       "      <th></th>\n",
       "      <th>user_id</th>\n",
       "      <th>duration</th>\n",
       "      <th>mb_used</th>\n",
       "      <th>sms</th>\n",
       "      <th>revenue</th>\n",
       "    </tr>\n",
       "  </thead>\n",
       "  <tbody>\n",
       "    <tr>\n",
       "      <th>count</th>\n",
       "      <td>2303.000000</td>\n",
       "      <td>2303.000000</td>\n",
       "      <td>2303.000000</td>\n",
       "      <td>2303.000000</td>\n",
       "      <td>2303.000000</td>\n",
       "    </tr>\n",
       "    <tr>\n",
       "      <th>mean</th>\n",
       "      <td>1246.214937</td>\n",
       "      <td>427.419453</td>\n",
       "      <td>16.797221</td>\n",
       "      <td>33.022579</td>\n",
       "      <td>64.245410</td>\n",
       "    </tr>\n",
       "    <tr>\n",
       "      <th>std</th>\n",
       "      <td>143.044136</td>\n",
       "      <td>237.490294</td>\n",
       "      <td>7.857946</td>\n",
       "      <td>34.065907</td>\n",
       "      <td>46.579107</td>\n",
       "    </tr>\n",
       "    <tr>\n",
       "      <th>min</th>\n",
       "      <td>1000.000000</td>\n",
       "      <td>0.000000</td>\n",
       "      <td>0.000000</td>\n",
       "      <td>0.000000</td>\n",
       "      <td>20.000000</td>\n",
       "    </tr>\n",
       "    <tr>\n",
       "      <th>25%</th>\n",
       "      <td>1122.000000</td>\n",
       "      <td>262.500000</td>\n",
       "      <td>12.000000</td>\n",
       "      <td>3.000000</td>\n",
       "      <td>23.390000</td>\n",
       "    </tr>\n",
       "    <tr>\n",
       "      <th>50%</th>\n",
       "      <td>1245.000000</td>\n",
       "      <td>424.000000</td>\n",
       "      <td>17.000000</td>\n",
       "      <td>25.000000</td>\n",
       "      <td>70.000000</td>\n",
       "    </tr>\n",
       "    <tr>\n",
       "      <th>75%</th>\n",
       "      <td>1368.000000</td>\n",
       "      <td>571.500000</td>\n",
       "      <td>21.000000</td>\n",
       "      <td>51.000000</td>\n",
       "      <td>70.000000</td>\n",
       "    </tr>\n",
       "    <tr>\n",
       "      <th>max</th>\n",
       "      <td>1499.000000</td>\n",
       "      <td>1510.000000</td>\n",
       "      <td>70.000000</td>\n",
       "      <td>266.000000</td>\n",
       "      <td>590.370000</td>\n",
       "    </tr>\n",
       "  </tbody>\n",
       "</table>\n",
       "</div>"
      ],
      "text/plain": [
       "           user_id     duration      mb_used          sms      revenue\n",
       "count  2303.000000  2303.000000  2303.000000  2303.000000  2303.000000\n",
       "mean   1246.214937   427.419453    16.797221    33.022579    64.245410\n",
       "std     143.044136   237.490294     7.857946    34.065907    46.579107\n",
       "min    1000.000000     0.000000     0.000000     0.000000    20.000000\n",
       "25%    1122.000000   262.500000    12.000000     3.000000    23.390000\n",
       "50%    1245.000000   424.000000    17.000000    25.000000    70.000000\n",
       "75%    1368.000000   571.500000    21.000000    51.000000    70.000000\n",
       "max    1499.000000  1510.000000    70.000000   266.000000   590.370000"
      ]
     },
     "execution_count": 57,
     "metadata": {},
     "output_type": "execute_result"
    }
   ],
   "source": [
    "total3.describe()"
   ]
  },
  {
   "cell_type": "code",
   "execution_count": 58,
   "metadata": {},
   "outputs": [
    {
     "name": "stdout",
     "output_type": "stream",
     "text": [
      "56377.14928723869\n"
     ]
    }
   ],
   "source": [
    "x = total3['duration']\n",
    "variance = np.var(x)\n",
    "print(variance)"
   ]
  },
  {
   "cell_type": "code",
   "execution_count": 59,
   "metadata": {
    "scrolled": true
   },
   "outputs": [
    {
     "name": "stdout",
     "output_type": "stream",
     "text": [
      "61.72049596808848\n"
     ]
    }
   ],
   "source": [
    "x = total3['mb_used']\n",
    "variance = np.var(x)\n",
    "print(variance)"
   ]
  },
  {
   "cell_type": "code",
   "execution_count": 60,
   "metadata": {},
   "outputs": [
    {
     "name": "stdout",
     "output_type": "stream",
     "text": [
      "1159.9821215281424\n"
     ]
    }
   ],
   "source": [
    "x = total3['sms']\n",
    "variance = np.var(x)\n",
    "print(variance)"
   ]
  },
  {
   "cell_type": "code",
   "execution_count": 61,
   "metadata": {},
   "outputs": [
    {
     "name": "stdout",
     "output_type": "stream",
     "text": [
      "2168.671152838555\n"
     ]
    }
   ],
   "source": [
    "x = total3['revenue']\n",
    "variance = np.var(x)\n",
    "print(variance)"
   ]
  },
  {
   "cell_type": "code",
   "execution_count": 62,
   "metadata": {
    "scrolled": true
   },
   "outputs": [
    {
     "data": {
      "image/png": "[encoded data removed]",
      "text/plain": [
       "<Figure size 432x288 with 1 Axes>"
      ]
     },
     "metadata": {
      "needs_background": "light"
     },
     "output_type": "display_data"
    }
   ],
   "source": [
    "total3['revenue'].hist()\n",
    "plt.show() "
   ]
  },
  {
   "cell_type": "code",
   "execution_count": 63,
   "metadata": {},
   "outputs": [
    {
     "data": {
      "text/html": [
       "<div>\n",
       "<style scoped>\n",
       "    .dataframe tbody tr th:only-of-type {\n",
       "        vertical-align: middle;\n",
       "    }\n",
       "\n",
       "    .dataframe tbody tr th {\n",
       "        vertical-align: top;\n",
       "    }\n",
       "\n",
       "    .dataframe thead th {\n",
       "        text-align: right;\n",
       "    }\n",
       "</style>\n",
       "<table border=\"1\" class=\"dataframe\">\n",
       "  <thead>\n",
       "    <tr style=\"text-align: right;\">\n",
       "      <th></th>\n",
       "      <th>user_id</th>\n",
       "      <th>duration</th>\n",
       "      <th>mb_used</th>\n",
       "      <th>sms</th>\n",
       "      <th>revenue</th>\n",
       "    </tr>\n",
       "  </thead>\n",
       "  <tbody>\n",
       "    <tr>\n",
       "      <th>count</th>\n",
       "      <td>1579.000000</td>\n",
       "      <td>1579.000000</td>\n",
       "      <td>1579.000000</td>\n",
       "      <td>1579.000000</td>\n",
       "      <td>1579.000000</td>\n",
       "    </tr>\n",
       "    <tr>\n",
       "      <th>mean</th>\n",
       "      <td>1242.940469</td>\n",
       "      <td>427.120329</td>\n",
       "      <td>16.607346</td>\n",
       "      <td>31.041165</td>\n",
       "      <td>60.551729</td>\n",
       "    </tr>\n",
       "    <tr>\n",
       "      <th>std</th>\n",
       "      <td>139.200115</td>\n",
       "      <td>235.490079</td>\n",
       "      <td>7.899502</td>\n",
       "      <td>33.557683</td>\n",
       "      <td>55.339379</td>\n",
       "    </tr>\n",
       "    <tr>\n",
       "      <th>min</th>\n",
       "      <td>1001.000000</td>\n",
       "      <td>0.000000</td>\n",
       "      <td>0.000000</td>\n",
       "      <td>0.000000</td>\n",
       "      <td>20.000000</td>\n",
       "    </tr>\n",
       "    <tr>\n",
       "      <th>25%</th>\n",
       "      <td>1120.000000</td>\n",
       "      <td>269.000000</td>\n",
       "      <td>12.000000</td>\n",
       "      <td>3.000000</td>\n",
       "      <td>20.000000</td>\n",
       "    </tr>\n",
       "    <tr>\n",
       "      <th>50%</th>\n",
       "      <td>1245.000000</td>\n",
       "      <td>424.000000</td>\n",
       "      <td>17.000000</td>\n",
       "      <td>24.000000</td>\n",
       "      <td>40.180000</td>\n",
       "    </tr>\n",
       "    <tr>\n",
       "      <th>75%</th>\n",
       "      <td>1358.000000</td>\n",
       "      <td>576.000000</td>\n",
       "      <td>21.000000</td>\n",
       "      <td>47.000000</td>\n",
       "      <td>80.315000</td>\n",
       "    </tr>\n",
       "    <tr>\n",
       "      <th>max</th>\n",
       "      <td>1499.000000</td>\n",
       "      <td>1510.000000</td>\n",
       "      <td>70.000000</td>\n",
       "      <td>266.000000</td>\n",
       "      <td>590.370000</td>\n",
       "    </tr>\n",
       "  </tbody>\n",
       "</table>\n",
       "</div>"
      ],
      "text/plain": [
       "           user_id     duration      mb_used          sms      revenue\n",
       "count  1579.000000  1579.000000  1579.000000  1579.000000  1579.000000\n",
       "mean   1242.940469   427.120329    16.607346    31.041165    60.551729\n",
       "std     139.200115   235.490079     7.899502    33.557683    55.339379\n",
       "min    1001.000000     0.000000     0.000000     0.000000    20.000000\n",
       "25%    1120.000000   269.000000    12.000000     3.000000    20.000000\n",
       "50%    1245.000000   424.000000    17.000000    24.000000    40.180000\n",
       "75%    1358.000000   576.000000    21.000000    47.000000    80.315000\n",
       "max    1499.000000  1510.000000    70.000000   266.000000   590.370000"
      ]
     },
     "execution_count": 63,
     "metadata": {},
     "output_type": "execute_result"
    }
   ],
   "source": [
    "total3_surf = total3.query('plan == \"surf\"')\n",
    "total3_surf.describe()"
   ]
  },
  {
   "cell_type": "code",
   "execution_count": 64,
   "metadata": {},
   "outputs": [
    {
     "data": {
      "text/html": [
       "<div>\n",
       "<style scoped>\n",
       "    .dataframe tbody tr th:only-of-type {\n",
       "        vertical-align: middle;\n",
       "    }\n",
       "\n",
       "    .dataframe tbody tr th {\n",
       "        vertical-align: top;\n",
       "    }\n",
       "\n",
       "    .dataframe thead th {\n",
       "        text-align: right;\n",
       "    }\n",
       "</style>\n",
       "<table border=\"1\" class=\"dataframe\">\n",
       "  <thead>\n",
       "    <tr style=\"text-align: right;\">\n",
       "      <th></th>\n",
       "      <th>user_id</th>\n",
       "      <th>duration</th>\n",
       "      <th>mb_used</th>\n",
       "      <th>sms</th>\n",
       "      <th>revenue</th>\n",
       "    </tr>\n",
       "  </thead>\n",
       "  <tbody>\n",
       "    <tr>\n",
       "      <th>count</th>\n",
       "      <td>724.000000</td>\n",
       "      <td>724.000000</td>\n",
       "      <td>724.000000</td>\n",
       "      <td>724.000000</td>\n",
       "      <td>724.000000</td>\n",
       "    </tr>\n",
       "    <tr>\n",
       "      <th>mean</th>\n",
       "      <td>1253.356354</td>\n",
       "      <td>428.071823</td>\n",
       "      <td>17.211326</td>\n",
       "      <td>37.343923</td>\n",
       "      <td>72.301105</td>\n",
       "    </tr>\n",
       "    <tr>\n",
       "      <th>std</th>\n",
       "      <td>150.941802</td>\n",
       "      <td>241.958423</td>\n",
       "      <td>7.755841</td>\n",
       "      <td>34.782576</td>\n",
       "      <td>11.364839</td>\n",
       "    </tr>\n",
       "    <tr>\n",
       "      <th>min</th>\n",
       "      <td>1000.000000</td>\n",
       "      <td>0.000000</td>\n",
       "      <td>0.000000</td>\n",
       "      <td>0.000000</td>\n",
       "      <td>70.000000</td>\n",
       "    </tr>\n",
       "    <tr>\n",
       "      <th>25%</th>\n",
       "      <td>1126.000000</td>\n",
       "      <td>258.750000</td>\n",
       "      <td>13.000000</td>\n",
       "      <td>6.000000</td>\n",
       "      <td>70.000000</td>\n",
       "    </tr>\n",
       "    <tr>\n",
       "      <th>50%</th>\n",
       "      <td>1246.000000</td>\n",
       "      <td>421.500000</td>\n",
       "      <td>17.000000</td>\n",
       "      <td>30.000000</td>\n",
       "      <td>70.000000</td>\n",
       "    </tr>\n",
       "    <tr>\n",
       "      <th>75%</th>\n",
       "      <td>1401.000000</td>\n",
       "      <td>564.250000</td>\n",
       "      <td>21.000000</td>\n",
       "      <td>60.250000</td>\n",
       "      <td>70.000000</td>\n",
       "    </tr>\n",
       "    <tr>\n",
       "      <th>max</th>\n",
       "      <td>1497.000000</td>\n",
       "      <td>1369.000000</td>\n",
       "      <td>46.000000</td>\n",
       "      <td>166.000000</td>\n",
       "      <td>182.000000</td>\n",
       "    </tr>\n",
       "  </tbody>\n",
       "</table>\n",
       "</div>"
      ],
      "text/plain": [
       "           user_id     duration     mb_used         sms     revenue\n",
       "count   724.000000   724.000000  724.000000  724.000000  724.000000\n",
       "mean   1253.356354   428.071823   17.211326   37.343923   72.301105\n",
       "std     150.941802   241.958423    7.755841   34.782576   11.364839\n",
       "min    1000.000000     0.000000    0.000000    0.000000   70.000000\n",
       "25%    1126.000000   258.750000   13.000000    6.000000   70.000000\n",
       "50%    1246.000000   421.500000   17.000000   30.000000   70.000000\n",
       "75%    1401.000000   564.250000   21.000000   60.250000   70.000000\n",
       "max    1497.000000  1369.000000   46.000000  166.000000  182.000000"
      ]
     },
     "execution_count": 64,
     "metadata": {},
     "output_type": "execute_result"
    }
   ],
   "source": [
    "total3_ult = total3.query('plan == \"ultimate\"')\n",
    "total3_ult.describe()"
   ]
  },
  {
   "cell_type": "code",
   "execution_count": 65,
   "metadata": {
    "scrolled": true
   },
   "outputs": [
    {
     "data": {
      "image/png": "[encoded data removed]",
      "text/plain": [
       "<Figure size 432x288 with 1 Axes>"
      ]
     },
     "metadata": {
      "needs_background": "light"
     },
     "output_type": "display_data"
    }
   ],
   "source": [
    "total3_surf['duration'].hist()\n",
    "total3_ult['duration'].hist()\n",
    "\n",
    "plt.xlabel(\"Calls duration\", fontsize=12)  \n",
    "plt.ylabel(\"frequency\", fontsize=12)\n",
    "\n",
    "labels= [\"surf\",\"ultimate\"]\n",
    "plt.legend(labels)\n",
    "\n",
    "title = 'Minutes per month'\n",
    "plt.title(title)\n",
    "plt.show()"
   ]
  },
  {
   "cell_type": "markdown",
   "metadata": {},
   "source": [
    "Disrtibution for calls is close to normal, most of the users 'use' 200-600 min per month. standard deviation is nearly equal 222 for surf and 228 for ultimate"
   ]
  },
  {
   "cell_type": "code",
   "execution_count": 66,
   "metadata": {
    "scrolled": true
   },
   "outputs": [
    {
     "data": {
      "image/png": "[encoded data removed]",
      "text/plain": [
       "<Figure size 432x288 with 1 Axes>"
      ]
     },
     "metadata": {
      "needs_background": "light"
     },
     "output_type": "display_data"
    }
   ],
   "source": [
    "total3_surf['sms'].hist()\n",
    "total3_ult['sms'].hist()\n",
    "\n",
    "plt.xlabel(\"Number of messages\", fontsize=12)  \n",
    "plt.ylabel(\"frequency\", fontsize=12)\n",
    "\n",
    "labels= [\"surf\",\"ultimate\"]\n",
    "plt.legend(labels)\n",
    "\n",
    "title = 'SMS per month'\n",
    "plt.title(title)\n",
    "plt.show()"
   ]
  },
  {
   "cell_type": "markdown",
   "metadata": {},
   "source": [
    "Disrtibutions for sms are skewed to the right. standard deviations are 33 and 34 for surf and ultimate accordingly."
   ]
  },
  {
   "cell_type": "code",
   "execution_count": 67,
   "metadata": {},
   "outputs": [
    {
     "data": {
      "image/png": "[encoded data removed]",
      "text/plain": [
       "<Figure size 432x288 with 1 Axes>"
      ]
     },
     "metadata": {
      "needs_background": "light"
     },
     "output_type": "display_data"
    }
   ],
   "source": [
    "total3_surf['mb_used'].hist()\n",
    "total3_ult['mb_used'].hist()\n",
    "\n",
    "plt.xlabel(\"Number of Gb used\", fontsize=12)  \n",
    "plt.ylabel(\"frequency\", fontsize=12)\n",
    "\n",
    "labels= [\"surf\",\"ultimate\"]\n",
    "plt.legend(labels)\n",
    "\n",
    "title = 'Internet usage, Gb per month'\n",
    "plt.title(title)\n",
    "plt.show()"
   ]
  },
  {
   "cell_type": "markdown",
   "metadata": {},
   "source": [
    "Disrtibution for Internet usage is close to normal, most of the people use 12-21 gb per month. standard deviation is nearly equal 7.7 for surf and 7.8 for ultimate"
   ]
  },
  {
   "cell_type": "code",
   "execution_count": 68,
   "metadata": {
    "scrolled": false
   },
   "outputs": [
    {
     "data": {
      "image/png": "[encoded data removed]",
      "text/plain": [
       "<Figure size 432x288 with 1 Axes>"
      ]
     },
     "metadata": {
      "needs_background": "light"
     },
     "output_type": "display_data"
    }
   ],
   "source": [
    "total3_surf['revenue'].hist(bins = 24)\n",
    "total3_ult['revenue'].hist(bins = 24)\n",
    "\n",
    "plt.xlabel(\"USD\", fontsize=12)  \n",
    "plt.ylabel(\"frequency\", fontsize=12)\n",
    "\n",
    "labels= [\"surf\",\"ultimate\"]\n",
    "plt.legend(labels)\n",
    "\n",
    "title = 'Revenue, USD per month'\n",
    "plt.title(title)\n",
    "plt.show()"
   ]
  },
  {
   "cell_type": "markdown",
   "metadata": {},
   "source": [
    " Distributions are skewed to the right. Mean for Surf is 60, with standard deviation 55. For Ultimate is almost equal to the monthly charge, with standard deviation - 11. Much more users of surf plan paid additional to monthly charge, comparing to ultimate plan."
   ]
  },
  {
   "cell_type": "code",
   "execution_count": 69,
   "metadata": {},
   "outputs": [],
   "source": [
    "dop_surf = total3_surf.query('revenue >= 21')"
   ]
  },
  {
   "cell_type": "code",
   "execution_count": 70,
   "metadata": {
    "scrolled": true
   },
   "outputs": [
    {
     "name": "stdout",
     "output_type": "stream",
     "text": [
      "1065\n"
     ]
    }
   ],
   "source": [
    "print(len(dop_surf))"
   ]
  },
  {
   "cell_type": "code",
   "execution_count": 71,
   "metadata": {},
   "outputs": [
    {
     "data": {
      "image/png": "[encoded data removed]",
      "text/plain": [
       "<Figure size 432x288 with 1 Axes>"
      ]
     },
     "metadata": {
      "needs_background": "light"
     },
     "output_type": "display_data"
    }
   ],
   "source": [
    "dop_surf['revenue'].hist(bins=24)\n",
    "plt.show()"
   ]
  },
  {
   "cell_type": "code",
   "execution_count": 72,
   "metadata": {},
   "outputs": [],
   "source": [
    "dop_ult = total3_ult.query('revenue >= 71')"
   ]
  },
  {
   "cell_type": "code",
   "execution_count": 73,
   "metadata": {},
   "outputs": [
    {
     "name": "stdout",
     "output_type": "stream",
     "text": [
      "41\n"
     ]
    }
   ],
   "source": [
    "print(len(dop_ult))"
   ]
  },
  {
   "cell_type": "code",
   "execution_count": 74,
   "metadata": {},
   "outputs": [
    {
     "data": {
      "image/png": "[encoded data removed]",
      "text/plain": [
       "<Figure size 432x288 with 1 Axes>"
      ]
     },
     "metadata": {
      "needs_background": "light"
     },
     "output_type": "display_data"
    }
   ],
   "source": [
    "dop_ult['revenue'].hist(bins=24)\n",
    "plt.show()\n"
   ]
  },
  {
   "cell_type": "code",
   "execution_count": 75,
   "metadata": {
    "scrolled": true
   },
   "outputs": [
    {
     "data": {
      "text/html": [
       "<div>\n",
       "<style scoped>\n",
       "    .dataframe tbody tr th:only-of-type {\n",
       "        vertical-align: middle;\n",
       "    }\n",
       "\n",
       "    .dataframe tbody tr th {\n",
       "        vertical-align: top;\n",
       "    }\n",
       "\n",
       "    .dataframe thead th {\n",
       "        text-align: right;\n",
       "    }\n",
       "</style>\n",
       "<table border=\"1\" class=\"dataframe\">\n",
       "  <thead>\n",
       "    <tr style=\"text-align: right;\">\n",
       "      <th></th>\n",
       "      <th>revenue</th>\n",
       "    </tr>\n",
       "  </thead>\n",
       "  <tbody>\n",
       "    <tr>\n",
       "      <th>count</th>\n",
       "      <td>500.000000</td>\n",
       "    </tr>\n",
       "    <tr>\n",
       "      <th>mean</th>\n",
       "      <td>295.914360</td>\n",
       "    </tr>\n",
       "    <tr>\n",
       "      <th>std</th>\n",
       "      <td>271.220847</td>\n",
       "    </tr>\n",
       "    <tr>\n",
       "      <th>min</th>\n",
       "      <td>20.000000</td>\n",
       "    </tr>\n",
       "    <tr>\n",
       "      <th>25%</th>\n",
       "      <td>92.677500</td>\n",
       "    </tr>\n",
       "    <tr>\n",
       "      <th>50%</th>\n",
       "      <td>210.000000</td>\n",
       "    </tr>\n",
       "    <tr>\n",
       "      <th>75%</th>\n",
       "      <td>420.000000</td>\n",
       "    </tr>\n",
       "    <tr>\n",
       "      <th>max</th>\n",
       "      <td>1830.860000</td>\n",
       "    </tr>\n",
       "  </tbody>\n",
       "</table>\n",
       "</div>"
      ],
      "text/plain": [
       "           revenue\n",
       "count   500.000000\n",
       "mean    295.914360\n",
       "std     271.220847\n",
       "min      20.000000\n",
       "25%      92.677500\n",
       "50%     210.000000\n",
       "75%     420.000000\n",
       "max    1830.860000"
      ]
     },
     "execution_count": 75,
     "metadata": {},
     "output_type": "execute_result"
    }
   ],
   "source": [
    "rev_user = total3.pivot_table(index = 'user_id', values = 'revenue', aggfunc = 'sum')\n",
    "rev_user.describe()"
   ]
  },
  {
   "cell_type": "code",
   "execution_count": 76,
   "metadata": {
    "scrolled": true
   },
   "outputs": [
    {
     "data": {
      "text/html": [
       "<div>\n",
       "<style scoped>\n",
       "    .dataframe tbody tr th:only-of-type {\n",
       "        vertical-align: middle;\n",
       "    }\n",
       "\n",
       "    .dataframe tbody tr th {\n",
       "        vertical-align: top;\n",
       "    }\n",
       "\n",
       "    .dataframe thead th {\n",
       "        text-align: right;\n",
       "    }\n",
       "</style>\n",
       "<table border=\"1\" class=\"dataframe\">\n",
       "  <thead>\n",
       "    <tr style=\"text-align: right;\">\n",
       "      <th></th>\n",
       "      <th>revenue</th>\n",
       "    </tr>\n",
       "  </thead>\n",
       "  <tbody>\n",
       "    <tr>\n",
       "      <th>count</th>\n",
       "      <td>339.000000</td>\n",
       "    </tr>\n",
       "    <tr>\n",
       "      <th>mean</th>\n",
       "      <td>282.038879</td>\n",
       "    </tr>\n",
       "    <tr>\n",
       "      <th>std</th>\n",
       "      <td>289.766920</td>\n",
       "    </tr>\n",
       "    <tr>\n",
       "      <th>min</th>\n",
       "      <td>20.000000</td>\n",
       "    </tr>\n",
       "    <tr>\n",
       "      <th>25%</th>\n",
       "      <td>81.735000</td>\n",
       "    </tr>\n",
       "    <tr>\n",
       "      <th>50%</th>\n",
       "      <td>195.900000</td>\n",
       "    </tr>\n",
       "    <tr>\n",
       "      <th>75%</th>\n",
       "      <td>374.450000</td>\n",
       "    </tr>\n",
       "    <tr>\n",
       "      <th>max</th>\n",
       "      <td>1830.860000</td>\n",
       "    </tr>\n",
       "  </tbody>\n",
       "</table>\n",
       "</div>"
      ],
      "text/plain": [
       "           revenue\n",
       "count   339.000000\n",
       "mean    282.038879\n",
       "std     289.766920\n",
       "min      20.000000\n",
       "25%      81.735000\n",
       "50%     195.900000\n",
       "75%     374.450000\n",
       "max    1830.860000"
      ]
     },
     "execution_count": 76,
     "metadata": {},
     "output_type": "execute_result"
    }
   ],
   "source": [
    "rev_user_surf = total3_surf.pivot_table(index = 'user_id', values = 'revenue', aggfunc = 'sum')\n",
    "rev_user_surf.describe()"
   ]
  },
  {
   "cell_type": "code",
   "execution_count": 77,
   "metadata": {
    "scrolled": true
   },
   "outputs": [
    {
     "data": {
      "text/html": [
       "<div>\n",
       "<style scoped>\n",
       "    .dataframe tbody tr th:only-of-type {\n",
       "        vertical-align: middle;\n",
       "    }\n",
       "\n",
       "    .dataframe tbody tr th {\n",
       "        vertical-align: top;\n",
       "    }\n",
       "\n",
       "    .dataframe thead th {\n",
       "        text-align: right;\n",
       "    }\n",
       "</style>\n",
       "<table border=\"1\" class=\"dataframe\">\n",
       "  <thead>\n",
       "    <tr style=\"text-align: right;\">\n",
       "      <th></th>\n",
       "      <th>revenue</th>\n",
       "    </tr>\n",
       "  </thead>\n",
       "  <tbody>\n",
       "    <tr>\n",
       "      <th>count</th>\n",
       "      <td>161.000000</td>\n",
       "    </tr>\n",
       "    <tr>\n",
       "      <th>mean</th>\n",
       "      <td>325.130435</td>\n",
       "    </tr>\n",
       "    <tr>\n",
       "      <th>std</th>\n",
       "      <td>225.333007</td>\n",
       "    </tr>\n",
       "    <tr>\n",
       "      <th>min</th>\n",
       "      <td>70.000000</td>\n",
       "    </tr>\n",
       "    <tr>\n",
       "      <th>25%</th>\n",
       "      <td>140.000000</td>\n",
       "    </tr>\n",
       "    <tr>\n",
       "      <th>50%</th>\n",
       "      <td>280.000000</td>\n",
       "    </tr>\n",
       "    <tr>\n",
       "      <th>75%</th>\n",
       "      <td>490.000000</td>\n",
       "    </tr>\n",
       "    <tr>\n",
       "      <th>max</th>\n",
       "      <td>1309.000000</td>\n",
       "    </tr>\n",
       "  </tbody>\n",
       "</table>\n",
       "</div>"
      ],
      "text/plain": [
       "           revenue\n",
       "count   161.000000\n",
       "mean    325.130435\n",
       "std     225.333007\n",
       "min      70.000000\n",
       "25%     140.000000\n",
       "50%     280.000000\n",
       "75%     490.000000\n",
       "max    1309.000000"
      ]
     },
     "execution_count": 77,
     "metadata": {},
     "output_type": "execute_result"
    }
   ],
   "source": [
    "rev_user_ult = total3_ult.pivot_table(index = 'user_id', values = 'revenue', aggfunc = 'sum')\n",
    "rev_user_ult.describe()"
   ]
  },
  {
   "cell_type": "markdown",
   "metadata": {},
   "source": [
    "## Test the hypotheses"
   ]
  },
  {
   "cell_type": "markdown",
   "metadata": {},
   "source": [
    "* The average revenue from users of Ultimate and Surf calling plans differs.\n",
    "* \t\tThe average revenue from users in NY-NJ area is different from that of the users from other regions.\n",
    "You decide what alpha value to use.\n",
    "Explain:\n",
    "* \t\tHow you formulated the null and alternative hypotheses.\n",
    "* \t\tWhat criterion you used to test the hypotheses and why."
   ]
  },
  {
   "cell_type": "markdown",
   "metadata": {},
   "source": [
    "### Ultimate and Surf\n",
    "H0: The average revenue from users of Ultimate and Surf calling plans are equal\n",
    "\n",
    "H1: The average revenue from users of Ultimate and Surf calling plans are not equal\n",
    "\n",
    "Which means that average revenue from users of Ultimate plan and Surf plan should be the same. While we can see by describe method that mean for surf is around 280 USD and for ult is around 325 USD\n",
    "\n",
    "Hypothesis on the equality of two population to compare the means of two different statistical populations.\n",
    "Alpha: 0.5 (try with standard)\n",
    "To get more accurate results we set equal_var to False as the variances of the statistical populations from which the samples are taken are not equal."
   ]
  },
  {
   "cell_type": "code",
   "execution_count": 78,
   "metadata": {},
   "outputs": [],
   "source": [
    "surf_mean = rev_user_surf['revenue']\n",
    "ult_mean = rev_user_ult['revenue']"
   ]
  },
  {
   "cell_type": "code",
   "execution_count": 79,
   "metadata": {
    "scrolled": true
   },
   "outputs": [
    {
     "name": "stdout",
     "output_type": "stream",
     "text": [
      "p-value:  0.07012859276740324\n",
      "We can't reject the null hypothesis\n"
     ]
    }
   ],
   "source": [
    "alpha = 0.06  # critical statistical significance level\n",
    "# if the p-value is less than alpha, we reject the hypothesis\n",
    "\n",
    "results = st.ttest_ind(surf_mean, ult_mean, equal_var=False)\n",
    "\n",
    "print('p-value: ', results.pvalue)\n",
    "\n",
    "if results.pvalue < alpha:\n",
    "    print(\"We reject the null hypothesis\")\n",
    "else:\n",
    "    print(\"We can't reject the null hypothesis\")"
   ]
  },
  {
   "cell_type": "markdown",
   "metadata": {},
   "source": [
    "The average revenue from users of Ultimate and Surf calling plans differs slightly."
   ]
  },
  {
   "cell_type": "markdown",
   "metadata": {},
   "source": [
    "The p-value tells us that although the average amounts for the two channels are different, there is a 5.9% probability of randomly getting a difference that size or larger. This probability is little bit higher to conclude that there is a significant difference between the average amounts spent."
   ]
  },
  {
   "cell_type": "markdown",
   "metadata": {},
   "source": [
    "### NY-NJ area\n",
    "H0: The average revenue from users in NY-NJ area is equal to the users from other regions\n",
    "\n",
    "H1: The average revenue from users in NY-NJ area is not equal to the users from other regions\n",
    "\n",
    "Which means that mean of revenue from users in NY-NJ area should be equal to 'general' mean"
   ]
  },
  {
   "cell_type": "code",
   "execution_count": 80,
   "metadata": {},
   "outputs": [],
   "source": [
    "total_region=pd.merge(left = total3 , \n",
    "                right = df_users[['user_id', 'age', 'city']] , how='outer',on='user_id').fillna(0)"
   ]
  },
  {
   "cell_type": "code",
   "execution_count": 81,
   "metadata": {},
   "outputs": [
    {
     "name": "stdout",
     "output_type": "stream",
     "text": [
      "2303\n"
     ]
    }
   ],
   "source": [
    "print(len(total_region))"
   ]
  },
  {
   "cell_type": "code",
   "execution_count": 82,
   "metadata": {
    "scrolled": true
   },
   "outputs": [
    {
     "data": {
      "text/html": [
       "<div>\n",
       "<style scoped>\n",
       "    .dataframe tbody tr th:only-of-type {\n",
       "        vertical-align: middle;\n",
       "    }\n",
       "\n",
       "    .dataframe tbody tr th {\n",
       "        vertical-align: top;\n",
       "    }\n",
       "\n",
       "    .dataframe thead th {\n",
       "        text-align: right;\n",
       "    }\n",
       "</style>\n",
       "<table border=\"1\" class=\"dataframe\">\n",
       "  <thead>\n",
       "    <tr style=\"text-align: right;\">\n",
       "      <th></th>\n",
       "      <th>user_id</th>\n",
       "      <th>duration</th>\n",
       "      <th>mb_used</th>\n",
       "      <th>sms</th>\n",
       "      <th>plan</th>\n",
       "      <th>revenue</th>\n",
       "      <th>age</th>\n",
       "      <th>city</th>\n",
       "    </tr>\n",
       "  </thead>\n",
       "  <tbody>\n",
       "    <tr>\n",
       "      <th>0</th>\n",
       "      <td>1000</td>\n",
       "      <td>124.0</td>\n",
       "      <td>2.0</td>\n",
       "      <td>11.0</td>\n",
       "      <td>ultimate</td>\n",
       "      <td>70.00</td>\n",
       "      <td>45</td>\n",
       "      <td>Atlanta-Sandy Springs-Roswell, GA MSA</td>\n",
       "    </tr>\n",
       "    <tr>\n",
       "      <th>1</th>\n",
       "      <td>1001</td>\n",
       "      <td>182.0</td>\n",
       "      <td>7.0</td>\n",
       "      <td>30.0</td>\n",
       "      <td>surf</td>\n",
       "      <td>20.00</td>\n",
       "      <td>28</td>\n",
       "      <td>Seattle-Tacoma-Bellevue, WA MSA</td>\n",
       "    </tr>\n",
       "    <tr>\n",
       "      <th>2</th>\n",
       "      <td>1001</td>\n",
       "      <td>315.0</td>\n",
       "      <td>14.0</td>\n",
       "      <td>44.0</td>\n",
       "      <td>surf</td>\n",
       "      <td>20.00</td>\n",
       "      <td>28</td>\n",
       "      <td>Seattle-Tacoma-Bellevue, WA MSA</td>\n",
       "    </tr>\n",
       "    <tr>\n",
       "      <th>3</th>\n",
       "      <td>1001</td>\n",
       "      <td>393.0</td>\n",
       "      <td>22.0</td>\n",
       "      <td>53.0</td>\n",
       "      <td>surf</td>\n",
       "      <td>90.09</td>\n",
       "      <td>28</td>\n",
       "      <td>Seattle-Tacoma-Bellevue, WA MSA</td>\n",
       "    </tr>\n",
       "    <tr>\n",
       "      <th>4</th>\n",
       "      <td>1001</td>\n",
       "      <td>426.0</td>\n",
       "      <td>19.0</td>\n",
       "      <td>36.0</td>\n",
       "      <td>surf</td>\n",
       "      <td>60.00</td>\n",
       "      <td>28</td>\n",
       "      <td>Seattle-Tacoma-Bellevue, WA MSA</td>\n",
       "    </tr>\n",
       "  </tbody>\n",
       "</table>\n",
       "</div>"
      ],
      "text/plain": [
       "   user_id  duration  mb_used   sms      plan  revenue  age  \\\n",
       "0     1000     124.0      2.0  11.0  ultimate    70.00   45   \n",
       "1     1001     182.0      7.0  30.0      surf    20.00   28   \n",
       "2     1001     315.0     14.0  44.0      surf    20.00   28   \n",
       "3     1001     393.0     22.0  53.0      surf    90.09   28   \n",
       "4     1001     426.0     19.0  36.0      surf    60.00   28   \n",
       "\n",
       "                                    city  \n",
       "0  Atlanta-Sandy Springs-Roswell, GA MSA  \n",
       "1        Seattle-Tacoma-Bellevue, WA MSA  \n",
       "2        Seattle-Tacoma-Bellevue, WA MSA  \n",
       "3        Seattle-Tacoma-Bellevue, WA MSA  \n",
       "4        Seattle-Tacoma-Bellevue, WA MSA  "
      ]
     },
     "execution_count": 82,
     "metadata": {},
     "output_type": "execute_result"
    }
   ],
   "source": [
    "total_region.head(5)"
   ]
  },
  {
   "cell_type": "code",
   "execution_count": 83,
   "metadata": {},
   "outputs": [],
   "source": [
    "sample_1 = total_region.query('city == \"New York-Newark-Jersey City, NY-NJ-PA MSA\"')"
   ]
  },
  {
   "cell_type": "code",
   "execution_count": 84,
   "metadata": {
    "scrolled": true
   },
   "outputs": [
    {
     "name": "stdout",
     "output_type": "stream",
     "text": [
      "378\n"
     ]
    }
   ],
   "source": [
    "print(len(sample_1))"
   ]
  },
  {
   "cell_type": "code",
   "execution_count": 85,
   "metadata": {},
   "outputs": [
    {
     "data": {
      "text/html": [
       "<div>\n",
       "<style scoped>\n",
       "    .dataframe tbody tr th:only-of-type {\n",
       "        vertical-align: middle;\n",
       "    }\n",
       "\n",
       "    .dataframe tbody tr th {\n",
       "        vertical-align: top;\n",
       "    }\n",
       "\n",
       "    .dataframe thead th {\n",
       "        text-align: right;\n",
       "    }\n",
       "</style>\n",
       "<table border=\"1\" class=\"dataframe\">\n",
       "  <thead>\n",
       "    <tr style=\"text-align: right;\">\n",
       "      <th></th>\n",
       "      <th>user_id</th>\n",
       "      <th>duration</th>\n",
       "      <th>mb_used</th>\n",
       "      <th>sms</th>\n",
       "      <th>plan</th>\n",
       "      <th>revenue</th>\n",
       "      <th>age</th>\n",
       "      <th>city</th>\n",
       "    </tr>\n",
       "  </thead>\n",
       "  <tbody>\n",
       "    <tr>\n",
       "      <th>2264</th>\n",
       "      <td>1080</td>\n",
       "      <td>0.0</td>\n",
       "      <td>25.0</td>\n",
       "      <td>64.0</td>\n",
       "      <td>surf</td>\n",
       "      <td>120.42</td>\n",
       "      <td>45</td>\n",
       "      <td>New York-Newark-Jersey City, NY-NJ-PA MSA</td>\n",
       "    </tr>\n",
       "    <tr>\n",
       "      <th>2265</th>\n",
       "      <td>1080</td>\n",
       "      <td>0.0</td>\n",
       "      <td>30.0</td>\n",
       "      <td>59.0</td>\n",
       "      <td>surf</td>\n",
       "      <td>170.27</td>\n",
       "      <td>45</td>\n",
       "      <td>New York-Newark-Jersey City, NY-NJ-PA MSA</td>\n",
       "    </tr>\n",
       "    <tr>\n",
       "      <th>2266</th>\n",
       "      <td>1080</td>\n",
       "      <td>0.0</td>\n",
       "      <td>33.0</td>\n",
       "      <td>50.0</td>\n",
       "      <td>surf</td>\n",
       "      <td>200.00</td>\n",
       "      <td>45</td>\n",
       "      <td>New York-Newark-Jersey City, NY-NJ-PA MSA</td>\n",
       "    </tr>\n",
       "    <tr>\n",
       "      <th>2267</th>\n",
       "      <td>1080</td>\n",
       "      <td>0.0</td>\n",
       "      <td>24.0</td>\n",
       "      <td>61.0</td>\n",
       "      <td>surf</td>\n",
       "      <td>110.33</td>\n",
       "      <td>45</td>\n",
       "      <td>New York-Newark-Jersey City, NY-NJ-PA MSA</td>\n",
       "    </tr>\n",
       "    <tr>\n",
       "      <th>2297</th>\n",
       "      <td>1275</td>\n",
       "      <td>0.0</td>\n",
       "      <td>0.0</td>\n",
       "      <td>0.0</td>\n",
       "      <td>ultimate</td>\n",
       "      <td>70.00</td>\n",
       "      <td>33</td>\n",
       "      <td>New York-Newark-Jersey City, NY-NJ-PA MSA</td>\n",
       "    </tr>\n",
       "  </tbody>\n",
       "</table>\n",
       "</div>"
      ],
      "text/plain": [
       "      user_id  duration  mb_used   sms      plan  revenue  age  \\\n",
       "2264     1080       0.0     25.0  64.0      surf   120.42   45   \n",
       "2265     1080       0.0     30.0  59.0      surf   170.27   45   \n",
       "2266     1080       0.0     33.0  50.0      surf   200.00   45   \n",
       "2267     1080       0.0     24.0  61.0      surf   110.33   45   \n",
       "2297     1275       0.0      0.0   0.0  ultimate    70.00   33   \n",
       "\n",
       "                                           city  \n",
       "2264  New York-Newark-Jersey City, NY-NJ-PA MSA  \n",
       "2265  New York-Newark-Jersey City, NY-NJ-PA MSA  \n",
       "2266  New York-Newark-Jersey City, NY-NJ-PA MSA  \n",
       "2267  New York-Newark-Jersey City, NY-NJ-PA MSA  \n",
       "2297  New York-Newark-Jersey City, NY-NJ-PA MSA  "
      ]
     },
     "execution_count": 85,
     "metadata": {},
     "output_type": "execute_result"
    }
   ],
   "source": [
    "sample_1.tail(5)"
   ]
  },
  {
   "cell_type": "code",
   "execution_count": 86,
   "metadata": {},
   "outputs": [
    {
     "data": {
      "text/plain": [
       "array(['New York-Newark-Jersey City, NY-NJ-PA MSA'], dtype=object)"
      ]
     },
     "execution_count": 86,
     "metadata": {},
     "output_type": "execute_result"
    }
   ],
   "source": [
    "sample_1['city'].unique()"
   ]
  },
  {
   "cell_type": "code",
   "execution_count": 87,
   "metadata": {},
   "outputs": [],
   "source": [
    "sample_2 = total_region.query('city != \"New York-Newark-Jersey City, NY-NJ-PA MSA\"')"
   ]
  },
  {
   "cell_type": "code",
   "execution_count": 88,
   "metadata": {},
   "outputs": [
    {
     "name": "stdout",
     "output_type": "stream",
     "text": [
      "1925\n"
     ]
    }
   ],
   "source": [
    "print(len(sample_2))"
   ]
  },
  {
   "cell_type": "code",
   "execution_count": 89,
   "metadata": {},
   "outputs": [
    {
     "data": {
      "text/html": [
       "<div>\n",
       "<style scoped>\n",
       "    .dataframe tbody tr th:only-of-type {\n",
       "        vertical-align: middle;\n",
       "    }\n",
       "\n",
       "    .dataframe tbody tr th {\n",
       "        vertical-align: top;\n",
       "    }\n",
       "\n",
       "    .dataframe thead th {\n",
       "        text-align: right;\n",
       "    }\n",
       "</style>\n",
       "<table border=\"1\" class=\"dataframe\">\n",
       "  <thead>\n",
       "    <tr style=\"text-align: right;\">\n",
       "      <th></th>\n",
       "      <th>user_id</th>\n",
       "      <th>duration</th>\n",
       "      <th>mb_used</th>\n",
       "      <th>sms</th>\n",
       "      <th>plan</th>\n",
       "      <th>revenue</th>\n",
       "      <th>age</th>\n",
       "      <th>city</th>\n",
       "    </tr>\n",
       "  </thead>\n",
       "  <tbody>\n",
       "    <tr>\n",
       "      <th>2204</th>\n",
       "      <td>1489</td>\n",
       "      <td>318.0</td>\n",
       "      <td>13.0</td>\n",
       "      <td>59.0</td>\n",
       "      <td>surf</td>\n",
       "      <td>20.27</td>\n",
       "      <td>72</td>\n",
       "      <td>Detroit-Warren-Dearborn, MI MSA</td>\n",
       "    </tr>\n",
       "    <tr>\n",
       "      <th>853</th>\n",
       "      <td>1182</td>\n",
       "      <td>203.0</td>\n",
       "      <td>19.0</td>\n",
       "      <td>2.0</td>\n",
       "      <td>surf</td>\n",
       "      <td>60.00</td>\n",
       "      <td>39</td>\n",
       "      <td>Charlotte-Concord-Gastonia, NC-SC MSA</td>\n",
       "    </tr>\n",
       "    <tr>\n",
       "      <th>1234</th>\n",
       "      <td>1264</td>\n",
       "      <td>312.0</td>\n",
       "      <td>14.0</td>\n",
       "      <td>53.0</td>\n",
       "      <td>ultimate</td>\n",
       "      <td>70.00</td>\n",
       "      <td>69</td>\n",
       "      <td>Los Angeles-Long Beach-Anaheim, CA MSA</td>\n",
       "    </tr>\n",
       "    <tr>\n",
       "      <th>1263</th>\n",
       "      <td>1273</td>\n",
       "      <td>324.0</td>\n",
       "      <td>14.0</td>\n",
       "      <td>55.0</td>\n",
       "      <td>ultimate</td>\n",
       "      <td>70.00</td>\n",
       "      <td>25</td>\n",
       "      <td>Baton Rouge, LA MSA</td>\n",
       "    </tr>\n",
       "    <tr>\n",
       "      <th>1097</th>\n",
       "      <td>1239</td>\n",
       "      <td>581.0</td>\n",
       "      <td>14.0</td>\n",
       "      <td>0.0</td>\n",
       "      <td>surf</td>\n",
       "      <td>22.43</td>\n",
       "      <td>24</td>\n",
       "      <td>Fresno, CA MSA</td>\n",
       "    </tr>\n",
       "  </tbody>\n",
       "</table>\n",
       "</div>"
      ],
      "text/plain": [
       "      user_id  duration  mb_used   sms      plan  revenue  age  \\\n",
       "2204     1489     318.0     13.0  59.0      surf    20.27   72   \n",
       "853      1182     203.0     19.0   2.0      surf    60.00   39   \n",
       "1234     1264     312.0     14.0  53.0  ultimate    70.00   69   \n",
       "1263     1273     324.0     14.0  55.0  ultimate    70.00   25   \n",
       "1097     1239     581.0     14.0   0.0      surf    22.43   24   \n",
       "\n",
       "                                        city  \n",
       "2204         Detroit-Warren-Dearborn, MI MSA  \n",
       "853    Charlotte-Concord-Gastonia, NC-SC MSA  \n",
       "1234  Los Angeles-Long Beach-Anaheim, CA MSA  \n",
       "1263                     Baton Rouge, LA MSA  \n",
       "1097                          Fresno, CA MSA  "
      ]
     },
     "execution_count": 89,
     "metadata": {},
     "output_type": "execute_result"
    }
   ],
   "source": [
    "sample_2.sample(5)"
   ]
  },
  {
   "cell_type": "code",
   "execution_count": 90,
   "metadata": {},
   "outputs": [
    {
     "data": {
      "text/plain": [
       "51.845"
      ]
     },
     "execution_count": 90,
     "metadata": {},
     "output_type": "execute_result"
    }
   ],
   "source": [
    "sample_1['revenue'].median()"
   ]
  },
  {
   "cell_type": "code",
   "execution_count": 91,
   "metadata": {},
   "outputs": [
    {
     "data": {
      "text/plain": [
       "59.9480158730159"
      ]
     },
     "execution_count": 91,
     "metadata": {},
     "output_type": "execute_result"
    }
   ],
   "source": [
    "sample_1['revenue'].mean()"
   ]
  },
  {
   "cell_type": "code",
   "execution_count": 92,
   "metadata": {
    "scrolled": true
   },
   "outputs": [
    {
     "data": {
      "text/plain": [
       "65.08926233766229"
      ]
     },
     "execution_count": 92,
     "metadata": {},
     "output_type": "execute_result"
    }
   ],
   "source": [
    "sample_2['revenue'].mean()"
   ]
  },
  {
   "cell_type": "code",
   "execution_count": 93,
   "metadata": {},
   "outputs": [
    {
     "data": {
      "text/plain": [
       "70.0"
      ]
     },
     "execution_count": 93,
     "metadata": {},
     "output_type": "execute_result"
    }
   ],
   "source": [
    "sample_2['revenue'].median()"
   ]
  },
  {
   "cell_type": "code",
   "execution_count": 94,
   "metadata": {},
   "outputs": [
    {
     "name": "stdout",
     "output_type": "stream",
     "text": [
      "1885.7843645817597\n"
     ]
    }
   ],
   "source": [
    "x_S1 = sample_1['revenue']\n",
    "variance = np.var(x_S1)\n",
    "print(variance)"
   ]
  },
  {
   "cell_type": "code",
   "execution_count": 95,
   "metadata": {
    "scrolled": true
   },
   "outputs": [
    {
     "name": "stdout",
     "output_type": "stream",
     "text": [
      "2219.881380131205\n"
     ]
    }
   ],
   "source": [
    "x_S2 = sample_2['revenue']\n",
    "variance = np.var(x_S2)\n",
    "print(variance)"
   ]
  },
  {
   "cell_type": "markdown",
   "metadata": {},
   "source": [
    "Variances of two samples are not equal, so we adding third parameter - 'equal_var=False'"
   ]
  },
  {
   "cell_type": "code",
   "execution_count": 96,
   "metadata": {},
   "outputs": [
    {
     "name": "stdout",
     "output_type": "stream",
     "text": [
      "p-value:  0.03870322661292944\n",
      "We reject the null hypothesis\n"
     ]
    }
   ],
   "source": [
    "sample_1 = sample_1['revenue']\n",
    "\n",
    "sample_2 = sample_2['revenue']\n",
    "\n",
    "alpha = 0.05  # critical statistical significance level\n",
    "# if the p-value is less than alpha, we reject the hypothesis\n",
    "\n",
    "results = st.ttest_ind(sample_1, sample_2, equal_var=False)\n",
    "\n",
    "print('p-value: ', results.pvalue)\n",
    "\n",
    "if results.pvalue < alpha:\n",
    "    print(\"We reject the null hypothesis\")\n",
    "else:\n",
    "    print(\"We can't reject the null hypothesis\")"
   ]
  },
  {
   "cell_type": "markdown",
   "metadata": {},
   "source": [
    "We reject the null hypothesis - average of sample_1 is not equal to average of sample_2\n",
    "The average revenue from users in NY-NJ area is different from that of the users from other regions.\n",
    "The average revenue from users in NY-NJ area is less than of the users from other regions.\n"
   ]
  },
  {
   "cell_type": "markdown",
   "metadata": {},
   "source": [
    "## Step 5. Overall conclusion"
   ]
  },
  {
   "cell_type": "markdown",
   "metadata": {},
   "source": [
    "Files show data of a sample of 500 users who used Megaline services in 2018. Three separate files with information of calls, SMS, and internet usage. We don't have missing values in the files, only 0. Probably it is failed connections in internet traffic and missing/canceled calls in the calls file. We don't have any additional information to identify these IDs as missed or something else that we need to fill in or delete from the file. Seems more reasonable to keep it as it is. In files no duplicates, values are unique. No reason to change or remove anything.\n",
    "\n",
    "The company provides two prepaid plans - Surf and Ultimate. Preliminary analysis of the plans based on 500 Megaline clients showed that clients from the different cities on average have a call duration of 6.7 min with 400 min per month, 16GB of internet usage and 33 SMS sent. Average revenue - 63 USD/month.\n",
    "\n",
    "68% of the clients are using plan 'surf', 32% - 'ultimate'. For the analysis data were grouped per user per month and rounded according to plans description to calculate revenue: each call is rounded up to minutes, web traffic for the month is rounded up to Gb. For each parameter were calculated the mean, dispersion, and standard deviation, histograms were plotted. Distribution for calls is close to normal, most of the users are making calls around 200-600 min per month. standard deviation is nearly equal to 222 for surf and 228 for ultimate. Distributions for SMS are skewed to the right. standard deviations are 33 and 34 for surf and ultimate accordingly. Distribution for Internet usage is close to normal, most of the people use 12-21 Gb per month. standard deviation is nearly equal to 7.7 for surf and 7.8 for ultimate Distributions of revenue are skewed to the right. The mean for surf is 60, with a standard deviation of 55. For Ultimate is almost equal to the monthly charge, with a standard deviation of - 11. Much more users of surf plan paid additional to the monthly charge, compared to the ultimate plan.\n",
    "\n",
    "Having the monthly charge of 20 USD, users of the 'surf' plan on average brings 60 USD per month. On average they spend 427 min of calls, 30 SMS, and 16 Gb. Plan 'Ultimate' has a monthly charge of 70 USD, users on average bring 72 USD per month. On average they spend 428 min of calls, 37 SMS, and 17 Gb. Numbers of usage looks quite similar, while 'ultimate' users most often keep inside package limits, users of 'surf' are exceeding the package limits much more often. The average revenue from users of Ultimate and Surf calling plans differs not so significantly as expected, as the additional payment for exceeding the package limits are higher. But anyway revenue is still higher for plan 'Ultimate'. At the same time, the 'surf' plan is important as it attracts people who are not ready for high monthly payments and may not be ready to prepay for the same amount of package as they use in fact. Also, hypotheses tests based on the regions showed that the average revenue from users in the NY-NJ area is lower than that of the users from other regions."
   ]
  }
 ],
 "metadata": {
  "ExecuteTimeLog": [
   {
    "duration": 571,
    "start_time": "2021-11-04T15:46:22.109Z"
   },
   {
    "duration": 845,
    "start_time": "2021-11-04T15:46:24.684Z"
   },
   {
    "duration": 121,
    "start_time": "2021-11-04T15:46:27.062Z"
   },
   {
    "duration": 154,
    "start_time": "2021-11-04T15:46:33.641Z"
   },
   {
    "duration": 164,
    "start_time": "2021-11-04T15:46:45.179Z"
   },
   {
    "duration": 152,
    "start_time": "2021-11-04T15:46:57.755Z"
   },
   {
    "duration": 152,
    "start_time": "2021-11-04T15:47:43.890Z"
   },
   {
    "duration": 139,
    "start_time": "2021-11-04T15:47:47.476Z"
   },
   {
    "duration": 79,
    "start_time": "2021-11-04T15:48:13.818Z"
   },
   {
    "duration": 26,
    "start_time": "2021-11-04T15:48:36.433Z"
   },
   {
    "duration": 36,
    "start_time": "2021-11-04T15:49:08.501Z"
   },
   {
    "duration": 168,
    "start_time": "2021-11-04T15:50:03.974Z"
   },
   {
    "duration": 159,
    "start_time": "2021-11-04T15:50:26.808Z"
   },
   {
    "duration": 87,
    "start_time": "2021-11-04T15:51:07.526Z"
   },
   {
    "duration": 11,
    "start_time": "2021-11-04T15:51:28.671Z"
   },
   {
    "duration": 11,
    "start_time": "2021-11-04T15:51:41.104Z"
   },
   {
    "duration": 25,
    "start_time": "2021-11-04T15:51:54.886Z"
   },
   {
    "duration": 123,
    "start_time": "2021-11-04T15:52:11.340Z"
   },
   {
    "duration": 20,
    "start_time": "2021-11-04T15:52:17.295Z"
   },
   {
    "duration": 30,
    "start_time": "2021-11-04T15:52:32.005Z"
   },
   {
    "duration": 153,
    "start_time": "2021-11-04T15:52:41.429Z"
   },
   {
    "duration": 21,
    "start_time": "2021-11-04T15:52:48.043Z"
   },
   {
    "duration": 34,
    "start_time": "2021-11-04T15:52:57.798Z"
   },
   {
    "duration": 8,
    "start_time": "2021-11-04T17:38:05.683Z"
   },
   {
    "duration": 9,
    "start_time": "2021-11-04T17:38:42.769Z"
   },
   {
    "duration": 8,
    "start_time": "2021-11-04T17:39:32.937Z"
   },
   {
    "duration": 7,
    "start_time": "2021-11-04T17:39:40.439Z"
   },
   {
    "duration": 7,
    "start_time": "2021-11-04T17:40:20.940Z"
   },
   {
    "duration": 754,
    "start_time": "2021-11-05T13:08:07.919Z"
   },
   {
    "duration": 128,
    "start_time": "2021-11-05T13:08:08.675Z"
   },
   {
    "duration": 17,
    "start_time": "2021-11-05T13:08:08.805Z"
   },
   {
    "duration": 35,
    "start_time": "2021-11-05T13:08:08.824Z"
   },
   {
    "duration": 102,
    "start_time": "2021-11-05T13:08:08.862Z"
   },
   {
    "duration": 15,
    "start_time": "2021-11-05T13:08:08.966Z"
   },
   {
    "duration": 20,
    "start_time": "2021-11-05T13:08:08.983Z"
   },
   {
    "duration": 82,
    "start_time": "2021-11-05T13:08:09.005Z"
   },
   {
    "duration": 22,
    "start_time": "2021-11-05T13:08:09.090Z"
   },
   {
    "duration": 8,
    "start_time": "2021-11-05T13:08:09.114Z"
   },
   {
    "duration": 39,
    "start_time": "2021-11-05T13:08:09.124Z"
   },
   {
    "duration": 6,
    "start_time": "2021-11-05T13:08:09.164Z"
   },
   {
    "duration": 8,
    "start_time": "2021-11-05T13:08:09.172Z"
   },
   {
    "duration": 9,
    "start_time": "2021-11-05T13:08:09.182Z"
   },
   {
    "duration": 16,
    "start_time": "2021-11-05T13:08:09.193Z"
   },
   {
    "duration": 12,
    "start_time": "2021-11-05T13:14:32.458Z"
   },
   {
    "duration": 70,
    "start_time": "2021-11-05T13:14:35.391Z"
   },
   {
    "duration": 74,
    "start_time": "2021-11-05T13:15:59.501Z"
   },
   {
    "duration": 60,
    "start_time": "2021-11-05T13:16:33.853Z"
   },
   {
    "duration": 107,
    "start_time": "2021-11-05T13:16:55.508Z"
   },
   {
    "duration": 138,
    "start_time": "2021-11-05T13:17:24.656Z"
   },
   {
    "duration": 122,
    "start_time": "2021-11-05T13:17:33.786Z"
   },
   {
    "duration": 113,
    "start_time": "2021-11-05T13:17:39.819Z"
   },
   {
    "duration": 316,
    "start_time": "2021-11-05T13:39:05.418Z"
   },
   {
    "duration": 264,
    "start_time": "2021-11-05T13:39:15.409Z"
   },
   {
    "duration": 15,
    "start_time": "2021-11-05T13:39:32.423Z"
   },
   {
    "duration": 5,
    "start_time": "2021-11-05T13:40:40.042Z"
   },
   {
    "duration": 6,
    "start_time": "2021-11-05T13:41:19.530Z"
   },
   {
    "duration": 7,
    "start_time": "2021-11-05T13:41:38.041Z"
   },
   {
    "duration": 4,
    "start_time": "2021-11-05T13:41:47.448Z"
   },
   {
    "duration": 4,
    "start_time": "2021-11-05T13:42:02.129Z"
   },
   {
    "duration": 3,
    "start_time": "2021-11-05T13:42:07.380Z"
   },
   {
    "duration": 6,
    "start_time": "2021-11-05T13:56:44.729Z"
   },
   {
    "duration": 22,
    "start_time": "2021-11-05T13:56:52.951Z"
   },
   {
    "duration": 41,
    "start_time": "2021-11-05T13:56:58.911Z"
   },
   {
    "duration": 39,
    "start_time": "2021-11-05T14:00:57.134Z"
   },
   {
    "duration": 11,
    "start_time": "2021-11-05T14:17:42.221Z"
   },
   {
    "duration": -38,
    "start_time": "2021-11-05T14:18:14.186Z"
   },
   {
    "duration": 8104,
    "start_time": "2021-11-05T14:18:25.881Z"
   },
   {
    "duration": 8305,
    "start_time": "2021-11-05T14:18:34.321Z"
   },
   {
    "duration": 1097,
    "start_time": "2021-11-05T14:21:31.907Z"
   },
   {
    "duration": 1587,
    "start_time": "2021-11-05T14:30:35.490Z"
   },
   {
    "duration": 3,
    "start_time": "2021-11-05T14:32:17.171Z"
   },
   {
    "duration": 3,
    "start_time": "2021-11-05T14:32:30.462Z"
   },
   {
    "duration": 3,
    "start_time": "2021-11-05T14:32:34.961Z"
   },
   {
    "duration": 2,
    "start_time": "2021-11-05T14:32:37.901Z"
   },
   {
    "duration": 274,
    "start_time": "2021-11-05T14:33:31.623Z"
   },
   {
    "duration": 271,
    "start_time": "2021-11-05T14:33:40.637Z"
   },
   {
    "duration": 3,
    "start_time": "2021-11-05T14:34:06.303Z"
   },
   {
    "duration": 2,
    "start_time": "2021-11-05T14:34:14.344Z"
   },
   {
    "duration": 2,
    "start_time": "2021-11-05T14:34:16.242Z"
   },
   {
    "duration": 985,
    "start_time": "2021-11-06T08:25:52.147Z"
   },
   {
    "duration": 1832,
    "start_time": "2021-11-06T08:25:53.134Z"
   },
   {
    "duration": 23,
    "start_time": "2021-11-06T08:25:54.968Z"
   },
   {
    "duration": 30,
    "start_time": "2021-11-06T08:25:54.994Z"
   },
   {
    "duration": 337,
    "start_time": "2021-11-06T08:25:55.026Z"
   },
   {
    "duration": 18,
    "start_time": "2021-11-06T08:25:55.365Z"
   },
   {
    "duration": 28,
    "start_time": "2021-11-06T08:25:55.385Z"
   },
   {
    "duration": 115,
    "start_time": "2021-11-06T08:25:55.417Z"
   },
   {
    "duration": 3,
    "start_time": "2021-11-06T08:25:55.535Z"
   },
   {
    "duration": 39,
    "start_time": "2021-11-06T08:25:55.540Z"
   },
   {
    "duration": 25,
    "start_time": "2021-11-06T08:25:55.581Z"
   },
   {
    "duration": 11,
    "start_time": "2021-11-06T08:25:55.609Z"
   },
   {
    "duration": 92,
    "start_time": "2021-11-06T08:25:55.623Z"
   },
   {
    "duration": 3,
    "start_time": "2021-11-06T08:25:55.717Z"
   },
   {
    "duration": 14,
    "start_time": "2021-11-06T08:25:55.723Z"
   },
   {
    "duration": 15,
    "start_time": "2021-11-06T08:25:55.740Z"
   },
   {
    "duration": 7,
    "start_time": "2021-11-06T08:25:55.757Z"
   },
   {
    "duration": 23,
    "start_time": "2021-11-06T08:25:55.767Z"
   },
   {
    "duration": 3,
    "start_time": "2021-11-06T08:25:55.792Z"
   },
   {
    "duration": 13,
    "start_time": "2021-11-06T08:25:55.797Z"
   },
   {
    "duration": 4,
    "start_time": "2021-11-06T08:25:55.813Z"
   },
   {
    "duration": 47,
    "start_time": "2021-11-06T08:25:55.820Z"
   },
   {
    "duration": 4,
    "start_time": "2021-11-06T08:25:55.872Z"
   },
   {
    "duration": 4373,
    "start_time": "2021-11-06T08:26:53.743Z"
   },
   {
    "duration": 3651,
    "start_time": "2021-11-06T08:27:19.678Z"
   },
   {
    "duration": 3,
    "start_time": "2021-11-06T08:28:14.362Z"
   },
   {
    "duration": 284,
    "start_time": "2021-11-06T08:28:16.066Z"
   },
   {
    "duration": 351,
    "start_time": "2021-11-06T08:28:26.656Z"
   },
   {
    "duration": 12,
    "start_time": "2021-11-06T08:28:40.271Z"
   },
   {
    "duration": 10,
    "start_time": "2021-11-06T08:28:46.832Z"
   },
   {
    "duration": 27,
    "start_time": "2021-11-06T08:29:04.156Z"
   },
   {
    "duration": 21,
    "start_time": "2021-11-06T08:31:09.352Z"
   },
   {
    "duration": 14,
    "start_time": "2021-11-06T08:31:24.216Z"
   },
   {
    "duration": 11,
    "start_time": "2021-11-06T08:33:50.437Z"
   },
   {
    "duration": 25,
    "start_time": "2021-11-06T08:34:08.072Z"
   },
   {
    "duration": 12,
    "start_time": "2021-11-06T08:34:15.487Z"
   },
   {
    "duration": 10,
    "start_time": "2021-11-06T08:34:52.110Z"
   },
   {
    "duration": 20,
    "start_time": "2021-11-06T08:35:20.420Z"
   },
   {
    "duration": 12,
    "start_time": "2021-11-06T08:35:22.910Z"
   },
   {
    "duration": 12,
    "start_time": "2021-11-06T08:35:36.148Z"
   },
   {
    "duration": 22,
    "start_time": "2021-11-06T08:35:57.382Z"
   },
   {
    "duration": 25,
    "start_time": "2021-11-06T08:36:18.616Z"
   },
   {
    "duration": 350,
    "start_time": "2021-11-06T08:37:03.179Z"
   },
   {
    "duration": 10,
    "start_time": "2021-11-06T08:37:09.469Z"
   },
   {
    "duration": 391,
    "start_time": "2021-11-06T08:37:40.534Z"
   },
   {
    "duration": 412,
    "start_time": "2021-11-06T08:43:31.904Z"
   },
   {
    "duration": 20,
    "start_time": "2021-11-06T08:44:09.547Z"
   },
   {
    "duration": 5,
    "start_time": "2021-11-06T08:44:20.972Z"
   },
   {
    "duration": 852,
    "start_time": "2021-11-06T08:44:38.909Z"
   },
   {
    "duration": 173,
    "start_time": "2021-11-06T08:44:39.763Z"
   },
   {
    "duration": 32,
    "start_time": "2021-11-06T08:44:39.939Z"
   },
   {
    "duration": 35,
    "start_time": "2021-11-06T08:44:39.974Z"
   },
   {
    "duration": 147,
    "start_time": "2021-11-06T08:44:40.011Z"
   },
   {
    "duration": 25,
    "start_time": "2021-11-06T08:44:40.168Z"
   },
   {
    "duration": 33,
    "start_time": "2021-11-06T08:44:40.195Z"
   },
   {
    "duration": 102,
    "start_time": "2021-11-06T08:44:40.232Z"
   },
   {
    "duration": 3,
    "start_time": "2021-11-06T08:44:40.337Z"
   },
   {
    "duration": 30,
    "start_time": "2021-11-06T08:44:40.343Z"
   },
   {
    "duration": 27,
    "start_time": "2021-11-06T08:44:40.376Z"
   },
   {
    "duration": 9,
    "start_time": "2021-11-06T08:44:40.405Z"
   },
   {
    "duration": 77,
    "start_time": "2021-11-06T08:44:40.416Z"
   },
   {
    "duration": 3,
    "start_time": "2021-11-06T08:44:40.496Z"
   },
   {
    "duration": 18,
    "start_time": "2021-11-06T08:44:40.501Z"
   },
   {
    "duration": 16,
    "start_time": "2021-11-06T08:44:40.521Z"
   },
   {
    "duration": 12,
    "start_time": "2021-11-06T08:44:40.540Z"
   },
   {
    "duration": 26,
    "start_time": "2021-11-06T08:44:40.568Z"
   },
   {
    "duration": 9,
    "start_time": "2021-11-06T08:44:40.597Z"
   },
   {
    "duration": 20,
    "start_time": "2021-11-06T08:44:40.609Z"
   },
   {
    "duration": 36,
    "start_time": "2021-11-06T08:44:40.632Z"
   },
   {
    "duration": 3,
    "start_time": "2021-11-06T08:44:40.674Z"
   },
   {
    "duration": 12,
    "start_time": "2021-11-06T08:44:40.681Z"
   },
   {
    "duration": 13,
    "start_time": "2021-11-06T08:44:40.695Z"
   },
   {
    "duration": 8,
    "start_time": "2021-11-06T08:44:40.711Z"
   },
   {
    "duration": 12,
    "start_time": "2021-11-06T08:44:40.721Z"
   },
   {
    "duration": 6,
    "start_time": "2021-11-06T08:44:40.735Z"
   },
   {
    "duration": 427,
    "start_time": "2021-11-06T08:45:44.535Z"
   },
   {
    "duration": 13,
    "start_time": "2021-11-06T08:46:03.178Z"
   },
   {
    "duration": 110,
    "start_time": "2021-11-06T08:46:55.244Z"
   },
   {
    "duration": 298,
    "start_time": "2021-11-06T08:47:06.755Z"
   },
   {
    "duration": 300,
    "start_time": "2021-11-06T08:47:28.352Z"
   },
   {
    "duration": 297,
    "start_time": "2021-11-06T08:47:38.245Z"
   },
   {
    "duration": 301,
    "start_time": "2021-11-06T08:48:44.304Z"
   },
   {
    "duration": 4610,
    "start_time": "2021-11-06T08:50:13.777Z"
   },
   {
    "duration": 33,
    "start_time": "2021-11-06T08:50:48.378Z"
   },
   {
    "duration": 24,
    "start_time": "2021-11-06T08:51:09.463Z"
   },
   {
    "duration": 12,
    "start_time": "2021-11-06T08:51:19.971Z"
   },
   {
    "duration": 11,
    "start_time": "2021-11-06T08:51:49.314Z"
   },
   {
    "duration": 24,
    "start_time": "2021-11-06T08:52:17.504Z"
   },
   {
    "duration": 14,
    "start_time": "2021-11-06T08:52:33.254Z"
   },
   {
    "duration": 10,
    "start_time": "2021-11-06T08:52:49.225Z"
   },
   {
    "duration": 19,
    "start_time": "2021-11-06T08:53:22.514Z"
   },
   {
    "duration": 14,
    "start_time": "2021-11-06T08:53:25.032Z"
   },
   {
    "duration": 14,
    "start_time": "2021-11-06T08:53:35.115Z"
   },
   {
    "duration": 6,
    "start_time": "2021-11-06T08:54:24.039Z"
   },
   {
    "duration": 10,
    "start_time": "2021-11-06T08:54:29.057Z"
   },
   {
    "duration": 8,
    "start_time": "2021-11-06T08:54:47.472Z"
   },
   {
    "duration": 10,
    "start_time": "2021-11-06T08:54:52.856Z"
   },
   {
    "duration": 25,
    "start_time": "2021-11-06T08:55:52.222Z"
   },
   {
    "duration": 13,
    "start_time": "2021-11-06T08:55:55.600Z"
   },
   {
    "duration": 20,
    "start_time": "2021-11-06T08:56:30.905Z"
   },
   {
    "duration": 13,
    "start_time": "2021-11-06T08:56:34.432Z"
   },
   {
    "duration": 16,
    "start_time": "2021-11-06T08:57:11.273Z"
   },
   {
    "duration": 12,
    "start_time": "2021-11-06T08:57:13.748Z"
   },
   {
    "duration": 7,
    "start_time": "2021-11-06T08:58:36.031Z"
   },
   {
    "duration": 5,
    "start_time": "2021-11-06T08:58:38.912Z"
   },
   {
    "duration": 15,
    "start_time": "2021-11-06T08:58:41.449Z"
   },
   {
    "duration": 15,
    "start_time": "2021-11-06T08:59:30.585Z"
   },
   {
    "duration": 14,
    "start_time": "2021-11-06T09:00:01.531Z"
   },
   {
    "duration": 16,
    "start_time": "2021-11-06T09:00:17.517Z"
   },
   {
    "duration": 12,
    "start_time": "2021-11-06T09:00:46.236Z"
   },
   {
    "duration": 14,
    "start_time": "2021-11-06T09:01:07.575Z"
   },
   {
    "duration": 12,
    "start_time": "2021-11-06T09:01:28.472Z"
   },
   {
    "duration": 7,
    "start_time": "2021-11-06T09:01:45.401Z"
   },
   {
    "duration": 13,
    "start_time": "2021-11-06T09:12:12.093Z"
   },
   {
    "duration": 42,
    "start_time": "2021-11-06T09:13:12.809Z"
   },
   {
    "duration": 14,
    "start_time": "2021-11-06T09:13:26.950Z"
   },
   {
    "duration": 17,
    "start_time": "2021-11-06T09:15:18.191Z"
   },
   {
    "duration": 31,
    "start_time": "2021-11-06T09:15:51.767Z"
   },
   {
    "duration": 14,
    "start_time": "2021-11-06T09:15:53.229Z"
   },
   {
    "duration": 11,
    "start_time": "2021-11-06T09:16:59.753Z"
   },
   {
    "duration": 36,
    "start_time": "2021-11-06T09:35:51.732Z"
   },
   {
    "duration": 14,
    "start_time": "2021-11-06T09:35:53.829Z"
   },
   {
    "duration": 946,
    "start_time": "2021-11-06T14:57:05.048Z"
   },
   {
    "duration": 188,
    "start_time": "2021-11-06T14:57:05.996Z"
   },
   {
    "duration": 21,
    "start_time": "2021-11-06T14:57:06.188Z"
   },
   {
    "duration": 59,
    "start_time": "2021-11-06T14:57:06.211Z"
   },
   {
    "duration": 146,
    "start_time": "2021-11-06T14:57:06.272Z"
   },
   {
    "duration": 38,
    "start_time": "2021-11-06T14:57:06.421Z"
   },
   {
    "duration": 28,
    "start_time": "2021-11-06T14:57:06.462Z"
   },
   {
    "duration": 114,
    "start_time": "2021-11-06T14:57:06.492Z"
   },
   {
    "duration": 3,
    "start_time": "2021-11-06T14:57:06.610Z"
   },
   {
    "duration": 26,
    "start_time": "2021-11-06T14:57:06.631Z"
   },
   {
    "duration": 28,
    "start_time": "2021-11-06T14:57:06.661Z"
   },
   {
    "duration": 44,
    "start_time": "2021-11-06T14:57:06.692Z"
   },
   {
    "duration": 37,
    "start_time": "2021-11-06T14:57:06.740Z"
   },
   {
    "duration": 3,
    "start_time": "2021-11-06T14:57:06.780Z"
   },
   {
    "duration": 12,
    "start_time": "2021-11-06T14:57:06.785Z"
   },
   {
    "duration": 9,
    "start_time": "2021-11-06T14:57:06.799Z"
   },
   {
    "duration": 30,
    "start_time": "2021-11-06T14:57:06.810Z"
   },
   {
    "duration": 32,
    "start_time": "2021-11-06T14:57:06.843Z"
   },
   {
    "duration": 4,
    "start_time": "2021-11-06T14:57:06.877Z"
   },
   {
    "duration": 18,
    "start_time": "2021-11-06T14:57:06.884Z"
   },
   {
    "duration": 42,
    "start_time": "2021-11-06T14:57:06.928Z"
   },
   {
    "duration": 24,
    "start_time": "2021-11-06T14:57:06.972Z"
   },
   {
    "duration": 42,
    "start_time": "2021-11-06T14:57:06.998Z"
   },
   {
    "duration": 9,
    "start_time": "2021-11-06T14:57:07.044Z"
   },
   {
    "duration": 10,
    "start_time": "2021-11-06T14:57:07.057Z"
   },
   {
    "duration": 19,
    "start_time": "2021-11-06T14:57:07.070Z"
   },
   {
    "duration": 66,
    "start_time": "2021-11-06T14:57:07.094Z"
   },
   {
    "duration": 19,
    "start_time": "2021-11-06T14:57:07.163Z"
   },
   {
    "duration": 17,
    "start_time": "2021-11-06T14:57:07.184Z"
   },
   {
    "duration": 35,
    "start_time": "2021-11-06T14:57:07.204Z"
   },
   {
    "duration": 15,
    "start_time": "2021-11-06T14:57:07.243Z"
   },
   {
    "duration": 21,
    "start_time": "2021-11-06T14:57:07.260Z"
   },
   {
    "duration": 14,
    "start_time": "2021-11-06T14:57:07.283Z"
   },
   {
    "duration": 75,
    "start_time": "2021-11-06T14:57:07.299Z"
   },
   {
    "duration": 13,
    "start_time": "2021-11-06T14:57:07.377Z"
   },
   {
    "duration": 40,
    "start_time": "2021-11-06T14:57:07.393Z"
   },
   {
    "duration": 43,
    "start_time": "2021-11-06T14:57:07.437Z"
   },
   {
    "duration": 14,
    "start_time": "2021-11-06T14:57:07.482Z"
   },
   {
    "duration": 44,
    "start_time": "2021-11-06T14:57:07.498Z"
   },
   {
    "duration": 32,
    "start_time": "2021-11-06T14:57:07.545Z"
   },
   {
    "duration": 13,
    "start_time": "2021-11-06T14:57:07.579Z"
   },
   {
    "duration": 406,
    "start_time": "2021-11-06T14:58:44.720Z"
   },
   {
    "duration": 1298,
    "start_time": "2021-11-06T15:01:24.088Z"
   },
   {
    "duration": 33,
    "start_time": "2021-11-06T15:01:27.631Z"
   },
   {
    "duration": 5,
    "start_time": "2021-11-06T15:06:36.786Z"
   },
   {
    "duration": 571,
    "start_time": "2021-11-06T15:07:05.051Z"
   },
   {
    "duration": 675,
    "start_time": "2021-11-06T15:09:14.955Z"
   },
   {
    "duration": 43,
    "start_time": "2021-11-06T15:09:30.428Z"
   },
   {
    "duration": 15,
    "start_time": "2021-11-06T15:09:35.615Z"
   },
   {
    "duration": 8,
    "start_time": "2021-11-06T15:09:56.288Z"
   },
   {
    "duration": 28,
    "start_time": "2021-11-06T15:11:18.750Z"
   },
   {
    "duration": 15,
    "start_time": "2021-11-06T15:11:21.006Z"
   },
   {
    "duration": 18,
    "start_time": "2021-11-06T15:11:27.753Z"
   },
   {
    "duration": 12,
    "start_time": "2021-11-06T15:11:34.582Z"
   },
   {
    "duration": 15,
    "start_time": "2021-11-06T15:11:43.847Z"
   },
   {
    "duration": 11,
    "start_time": "2021-11-06T15:11:54.397Z"
   },
   {
    "duration": 24,
    "start_time": "2021-11-06T15:12:18.477Z"
   },
   {
    "duration": 24,
    "start_time": "2021-11-06T15:12:43.612Z"
   },
   {
    "duration": 30,
    "start_time": "2021-11-06T15:12:54.572Z"
   },
   {
    "duration": 3,
    "start_time": "2021-11-06T15:13:37.554Z"
   },
   {
    "duration": 23,
    "start_time": "2021-11-06T15:13:39.776Z"
   },
   {
    "duration": 43,
    "start_time": "2021-11-06T15:13:45.020Z"
   },
   {
    "duration": 37,
    "start_time": "2021-11-06T15:13:50.228Z"
   },
   {
    "duration": 28,
    "start_time": "2021-11-06T15:13:53.464Z"
   },
   {
    "duration": 27,
    "start_time": "2021-11-06T15:14:44.445Z"
   },
   {
    "duration": 44,
    "start_time": "2021-11-06T15:15:06.624Z"
   },
   {
    "duration": 28,
    "start_time": "2021-11-06T15:15:16.780Z"
   },
   {
    "duration": 18,
    "start_time": "2021-11-06T15:15:19.192Z"
   },
   {
    "duration": 37,
    "start_time": "2021-11-06T15:15:30.726Z"
   },
   {
    "duration": 25,
    "start_time": "2021-11-06T15:15:33.065Z"
   },
   {
    "duration": 1055,
    "start_time": "2021-11-06T15:16:51.790Z"
   },
   {
    "duration": 4,
    "start_time": "2021-11-06T15:17:12.574Z"
   },
   {
    "duration": 35,
    "start_time": "2021-11-06T15:17:16.331Z"
   },
   {
    "duration": 21,
    "start_time": "2021-11-06T15:17:17.862Z"
   },
   {
    "duration": 502,
    "start_time": "2021-11-07T13:52:15.673Z"
   },
   {
    "duration": 1081,
    "start_time": "2021-11-07T13:52:28.288Z"
   },
   {
    "duration": 154,
    "start_time": "2021-11-07T13:52:29.371Z"
   },
   {
    "duration": 33,
    "start_time": "2021-11-07T13:52:29.528Z"
   },
   {
    "duration": 28,
    "start_time": "2021-11-07T13:52:29.564Z"
   },
   {
    "duration": 135,
    "start_time": "2021-11-07T13:52:29.595Z"
   },
   {
    "duration": 27,
    "start_time": "2021-11-07T13:52:29.732Z"
   },
   {
    "duration": 28,
    "start_time": "2021-11-07T13:52:29.761Z"
   },
   {
    "duration": 132,
    "start_time": "2021-11-07T13:52:29.792Z"
   },
   {
    "duration": 4,
    "start_time": "2021-11-07T13:52:29.930Z"
   },
   {
    "duration": 37,
    "start_time": "2021-11-07T13:52:29.939Z"
   },
   {
    "duration": 34,
    "start_time": "2021-11-07T13:52:29.979Z"
   },
   {
    "duration": 13,
    "start_time": "2021-11-07T13:52:30.016Z"
   },
   {
    "duration": 83,
    "start_time": "2021-11-07T13:52:30.032Z"
   },
   {
    "duration": 3,
    "start_time": "2021-11-07T13:52:30.117Z"
   },
   {
    "duration": 13,
    "start_time": "2021-11-07T13:52:30.123Z"
   },
   {
    "duration": 13,
    "start_time": "2021-11-07T13:52:30.138Z"
   },
   {
    "duration": 17,
    "start_time": "2021-11-07T13:52:30.154Z"
   },
   {
    "duration": 28,
    "start_time": "2021-11-07T13:52:30.173Z"
   },
   {
    "duration": 8,
    "start_time": "2021-11-07T13:52:30.203Z"
   },
   {
    "duration": 41,
    "start_time": "2021-11-07T13:52:30.214Z"
   },
   {
    "duration": 46,
    "start_time": "2021-11-07T13:52:30.258Z"
   },
   {
    "duration": 23,
    "start_time": "2021-11-07T13:52:30.307Z"
   },
   {
    "duration": 23,
    "start_time": "2021-11-07T13:52:30.332Z"
   },
   {
    "duration": 9,
    "start_time": "2021-11-07T13:52:30.358Z"
   },
   {
    "duration": 27,
    "start_time": "2021-11-07T13:52:30.369Z"
   },
   {
    "duration": 27,
    "start_time": "2021-11-07T13:52:30.399Z"
   },
   {
    "duration": 29,
    "start_time": "2021-11-07T13:52:30.432Z"
   },
   {
    "duration": 18,
    "start_time": "2021-11-07T13:52:30.464Z"
   },
   {
    "duration": 14,
    "start_time": "2021-11-07T13:52:30.484Z"
   },
   {
    "duration": 12,
    "start_time": "2021-11-07T13:52:30.501Z"
   },
   {
    "duration": 18,
    "start_time": "2021-11-07T13:52:30.516Z"
   },
   {
    "duration": 42,
    "start_time": "2021-11-07T13:52:30.537Z"
   },
   {
    "duration": 17,
    "start_time": "2021-11-07T13:52:30.582Z"
   },
   {
    "duration": 20,
    "start_time": "2021-11-07T13:52:30.602Z"
   },
   {
    "duration": 812,
    "start_time": "2021-11-07T13:52:30.625Z"
   },
   {
    "duration": 3,
    "start_time": "2021-11-07T13:52:31.440Z"
   },
   {
    "duration": 44,
    "start_time": "2021-11-07T13:52:31.445Z"
   },
   {
    "duration": 11,
    "start_time": "2021-11-07T13:52:31.491Z"
   },
   {
    "duration": 16,
    "start_time": "2021-11-07T13:52:31.505Z"
   },
   {
    "duration": 35,
    "start_time": "2021-11-07T13:52:31.524Z"
   },
   {
    "duration": 27,
    "start_time": "2021-11-07T13:52:31.563Z"
   },
   {
    "duration": 11,
    "start_time": "2021-11-07T13:52:31.593Z"
   },
   {
    "duration": 12,
    "start_time": "2021-11-07T13:52:31.607Z"
   },
   {
    "duration": 38,
    "start_time": "2021-11-07T13:52:31.621Z"
   },
   {
    "duration": 32,
    "start_time": "2021-11-07T13:52:31.662Z"
   },
   {
    "duration": 18,
    "start_time": "2021-11-07T13:52:31.696Z"
   },
   {
    "duration": 7,
    "start_time": "2021-11-07T13:52:31.716Z"
   },
   {
    "duration": 49,
    "start_time": "2021-11-07T13:52:31.725Z"
   },
   {
    "duration": 21,
    "start_time": "2021-11-07T13:52:31.776Z"
   },
   {
    "duration": 69,
    "start_time": "2021-11-07T13:52:31.800Z"
   },
   {
    "duration": 34,
    "start_time": "2021-11-07T13:52:31.871Z"
   },
   {
    "duration": 124,
    "start_time": "2021-11-07T14:06:41.119Z"
   },
   {
    "duration": 125,
    "start_time": "2021-11-07T14:06:54.750Z"
   },
   {
    "duration": 123,
    "start_time": "2021-11-07T14:07:22.668Z"
   },
   {
    "duration": 7,
    "start_time": "2021-11-07T14:28:11.496Z"
   },
   {
    "duration": 855,
    "start_time": "2021-11-07T14:28:39.941Z"
   },
   {
    "duration": 10,
    "start_time": "2021-11-07T14:29:44.326Z"
   },
   {
    "duration": 831,
    "start_time": "2021-11-07T14:29:48.383Z"
   },
   {
    "duration": 3,
    "start_time": "2021-11-07T14:31:11.189Z"
   },
   {
    "duration": 11,
    "start_time": "2021-11-07T14:31:13.067Z"
   },
   {
    "duration": 876,
    "start_time": "2021-11-07T14:31:45.803Z"
   },
   {
    "duration": 152,
    "start_time": "2021-11-07T14:31:46.682Z"
   },
   {
    "duration": 35,
    "start_time": "2021-11-07T14:31:46.838Z"
   },
   {
    "duration": 32,
    "start_time": "2021-11-07T14:31:46.876Z"
   },
   {
    "duration": 132,
    "start_time": "2021-11-07T14:31:46.910Z"
   },
   {
    "duration": 30,
    "start_time": "2021-11-07T14:31:47.045Z"
   },
   {
    "duration": 29,
    "start_time": "2021-11-07T14:31:47.078Z"
   },
   {
    "duration": 101,
    "start_time": "2021-11-07T14:31:47.110Z"
   },
   {
    "duration": 3,
    "start_time": "2021-11-07T14:31:47.216Z"
   },
   {
    "duration": 23,
    "start_time": "2021-11-07T14:31:47.222Z"
   },
   {
    "duration": 27,
    "start_time": "2021-11-07T14:31:47.260Z"
   },
   {
    "duration": 12,
    "start_time": "2021-11-07T14:31:47.290Z"
   },
   {
    "duration": 51,
    "start_time": "2021-11-07T14:31:47.305Z"
   },
   {
    "duration": 4,
    "start_time": "2021-11-07T14:31:47.360Z"
   },
   {
    "duration": 17,
    "start_time": "2021-11-07T14:31:47.366Z"
   },
   {
    "duration": 14,
    "start_time": "2021-11-07T14:31:47.385Z"
   },
   {
    "duration": 13,
    "start_time": "2021-11-07T14:31:47.402Z"
   },
   {
    "duration": 53,
    "start_time": "2021-11-07T14:31:47.418Z"
   },
   {
    "duration": 4,
    "start_time": "2021-11-07T14:31:47.474Z"
   },
   {
    "duration": 24,
    "start_time": "2021-11-07T14:31:47.481Z"
   },
   {
    "duration": 58,
    "start_time": "2021-11-07T14:31:47.507Z"
   },
   {
    "duration": 23,
    "start_time": "2021-11-07T14:31:47.567Z"
   },
   {
    "duration": 17,
    "start_time": "2021-11-07T14:31:47.592Z"
   },
   {
    "duration": 6,
    "start_time": "2021-11-07T14:31:47.612Z"
   },
   {
    "duration": 39,
    "start_time": "2021-11-07T14:31:47.620Z"
   },
   {
    "duration": 10,
    "start_time": "2021-11-07T14:31:47.662Z"
   },
   {
    "duration": 29,
    "start_time": "2021-11-07T14:31:47.677Z"
   },
   {
    "duration": 19,
    "start_time": "2021-11-07T14:31:47.709Z"
   },
   {
    "duration": 42,
    "start_time": "2021-11-07T14:31:47.731Z"
   },
   {
    "duration": 6,
    "start_time": "2021-11-07T14:31:47.776Z"
   },
   {
    "duration": 6,
    "start_time": "2021-11-07T14:31:47.785Z"
   },
   {
    "duration": 18,
    "start_time": "2021-11-07T14:31:47.794Z"
   },
   {
    "duration": 55,
    "start_time": "2021-11-07T14:31:47.815Z"
   },
   {
    "duration": 11,
    "start_time": "2021-11-07T14:31:47.872Z"
   },
   {
    "duration": 538,
    "start_time": "2021-11-07T14:31:47.886Z"
   },
   {
    "duration": 3,
    "start_time": "2021-11-07T14:31:48.426Z"
   },
   {
    "duration": 52,
    "start_time": "2021-11-07T14:31:48.432Z"
   },
   {
    "duration": 11,
    "start_time": "2021-11-07T14:31:48.486Z"
   },
   {
    "duration": 14,
    "start_time": "2021-11-07T14:31:48.499Z"
   },
   {
    "duration": 23,
    "start_time": "2021-11-07T14:31:48.516Z"
   },
   {
    "duration": 40,
    "start_time": "2021-11-07T14:31:48.541Z"
   },
   {
    "duration": 11,
    "start_time": "2021-11-07T14:31:48.584Z"
   },
   {
    "duration": 16,
    "start_time": "2021-11-07T14:31:48.597Z"
   },
   {
    "duration": 10,
    "start_time": "2021-11-07T14:31:48.615Z"
   },
   {
    "duration": 51,
    "start_time": "2021-11-07T14:31:48.627Z"
   },
   {
    "duration": 18,
    "start_time": "2021-11-07T14:31:48.681Z"
   },
   {
    "duration": 6,
    "start_time": "2021-11-07T14:31:48.702Z"
   },
   {
    "duration": 51,
    "start_time": "2021-11-07T14:31:48.711Z"
   },
   {
    "duration": 21,
    "start_time": "2021-11-07T14:31:48.764Z"
   },
   {
    "duration": 33,
    "start_time": "2021-11-07T14:31:48.787Z"
   },
   {
    "duration": 63,
    "start_time": "2021-11-07T14:31:48.823Z"
   },
   {
    "duration": 9,
    "start_time": "2021-11-07T14:31:48.889Z"
   },
   {
    "duration": 20,
    "start_time": "2021-11-07T14:31:48.901Z"
   },
   {
    "duration": 6,
    "start_time": "2021-11-07T14:37:54.489Z"
   },
   {
    "duration": 32,
    "start_time": "2021-11-07T14:37:56.639Z"
   },
   {
    "duration": 11,
    "start_time": "2021-11-07T14:38:21.772Z"
   },
   {
    "duration": 34,
    "start_time": "2021-11-07T14:38:24.439Z"
   },
   {
    "duration": 6,
    "start_time": "2021-11-07T14:39:08.178Z"
   },
   {
    "duration": 33,
    "start_time": "2021-11-07T14:39:10.557Z"
   },
   {
    "duration": 4,
    "start_time": "2021-11-07T14:39:23.253Z"
   },
   {
    "duration": 34,
    "start_time": "2021-11-07T14:39:31.169Z"
   },
   {
    "duration": 4,
    "start_time": "2021-11-07T14:39:39.429Z"
   },
   {
    "duration": 5,
    "start_time": "2021-11-07T14:39:48.826Z"
   },
   {
    "duration": 34,
    "start_time": "2021-11-07T14:40:10.277Z"
   },
   {
    "duration": 34,
    "start_time": "2021-11-07T14:40:14.077Z"
   },
   {
    "duration": 830,
    "start_time": "2021-11-07T14:40:25.108Z"
   },
   {
    "duration": 162,
    "start_time": "2021-11-07T14:40:25.940Z"
   },
   {
    "duration": 22,
    "start_time": "2021-11-07T14:40:26.105Z"
   },
   {
    "duration": 54,
    "start_time": "2021-11-07T14:40:26.130Z"
   },
   {
    "duration": 130,
    "start_time": "2021-11-07T14:40:26.187Z"
   },
   {
    "duration": 21,
    "start_time": "2021-11-07T14:40:26.319Z"
   },
   {
    "duration": 42,
    "start_time": "2021-11-07T14:40:26.342Z"
   },
   {
    "duration": 88,
    "start_time": "2021-11-07T14:40:26.388Z"
   },
   {
    "duration": 3,
    "start_time": "2021-11-07T14:40:26.479Z"
   },
   {
    "duration": 22,
    "start_time": "2021-11-07T14:40:26.484Z"
   },
   {
    "duration": 26,
    "start_time": "2021-11-07T14:40:26.508Z"
   },
   {
    "duration": 24,
    "start_time": "2021-11-07T14:40:26.536Z"
   },
   {
    "duration": 48,
    "start_time": "2021-11-07T14:40:26.563Z"
   },
   {
    "duration": 3,
    "start_time": "2021-11-07T14:40:26.613Z"
   },
   {
    "duration": 11,
    "start_time": "2021-11-07T14:40:26.618Z"
   },
   {
    "duration": 9,
    "start_time": "2021-11-07T14:40:26.631Z"
   },
   {
    "duration": 20,
    "start_time": "2021-11-07T14:40:26.643Z"
   },
   {
    "duration": 23,
    "start_time": "2021-11-07T14:40:26.665Z"
   },
   {
    "duration": 7,
    "start_time": "2021-11-07T14:40:26.690Z"
   },
   {
    "duration": 18,
    "start_time": "2021-11-07T14:40:26.699Z"
   },
   {
    "duration": 58,
    "start_time": "2021-11-07T14:40:26.720Z"
   },
   {
    "duration": 22,
    "start_time": "2021-11-07T14:40:26.780Z"
   },
   {
    "duration": 18,
    "start_time": "2021-11-07T14:40:26.808Z"
   },
   {
    "duration": 5,
    "start_time": "2021-11-07T14:40:26.829Z"
   },
   {
    "duration": 7,
    "start_time": "2021-11-07T14:40:26.859Z"
   },
   {
    "duration": 12,
    "start_time": "2021-11-07T14:40:26.868Z"
   },
   {
    "duration": 28,
    "start_time": "2021-11-07T14:40:26.882Z"
   },
   {
    "duration": 18,
    "start_time": "2021-11-07T14:40:26.912Z"
   },
   {
    "duration": 39,
    "start_time": "2021-11-07T14:40:26.932Z"
   },
   {
    "duration": 5,
    "start_time": "2021-11-07T14:40:26.973Z"
   },
   {
    "duration": 16,
    "start_time": "2021-11-07T14:40:26.981Z"
   },
   {
    "duration": 36,
    "start_time": "2021-11-07T14:40:27.000Z"
   },
   {
    "duration": 28,
    "start_time": "2021-11-07T14:40:27.039Z"
   },
   {
    "duration": 9,
    "start_time": "2021-11-07T14:40:27.070Z"
   },
   {
    "duration": 467,
    "start_time": "2021-11-07T14:40:27.081Z"
   },
   {
    "duration": 4,
    "start_time": "2021-11-07T14:40:27.560Z"
   },
   {
    "duration": 32,
    "start_time": "2021-11-07T14:40:27.566Z"
   },
   {
    "duration": 12,
    "start_time": "2021-11-07T14:40:27.601Z"
   },
   {
    "duration": 45,
    "start_time": "2021-11-07T14:40:27.616Z"
   },
   {
    "duration": 8,
    "start_time": "2021-11-07T14:40:27.664Z"
   },
   {
    "duration": 27,
    "start_time": "2021-11-07T14:40:27.675Z"
   },
   {
    "duration": 12,
    "start_time": "2021-11-07T14:40:27.704Z"
   },
   {
    "duration": 48,
    "start_time": "2021-11-07T14:40:27.719Z"
   },
   {
    "duration": 4,
    "start_time": "2021-11-07T14:40:27.769Z"
   },
   {
    "duration": 29,
    "start_time": "2021-11-07T14:40:27.776Z"
   },
   {
    "duration": 53,
    "start_time": "2021-11-07T14:40:27.808Z"
   },
   {
    "duration": 6,
    "start_time": "2021-11-07T14:40:27.863Z"
   },
   {
    "duration": 26,
    "start_time": "2021-11-07T14:40:27.871Z"
   },
   {
    "duration": 20,
    "start_time": "2021-11-07T14:40:27.899Z"
   },
   {
    "duration": 58,
    "start_time": "2021-11-07T14:40:27.921Z"
   },
   {
    "duration": 32,
    "start_time": "2021-11-07T14:40:27.981Z"
   },
   {
    "duration": 5,
    "start_time": "2021-11-07T14:40:28.016Z"
   },
   {
    "duration": 5,
    "start_time": "2021-11-07T14:40:28.024Z"
   },
   {
    "duration": 3,
    "start_time": "2021-11-07T14:40:28.060Z"
   },
   {
    "duration": 8,
    "start_time": "2021-11-07T14:40:28.065Z"
   },
   {
    "duration": 6,
    "start_time": "2021-11-07T14:40:28.076Z"
   },
   {
    "duration": 22,
    "start_time": "2021-11-07T14:40:45.688Z"
   },
   {
    "duration": 11,
    "start_time": "2021-11-07T14:41:50.433Z"
   },
   {
    "duration": 21,
    "start_time": "2021-11-07T14:41:53.323Z"
   },
   {
    "duration": 4,
    "start_time": "2021-11-07T14:44:08.502Z"
   },
   {
    "duration": 22,
    "start_time": "2021-11-07T14:44:10.018Z"
   },
   {
    "duration": 4,
    "start_time": "2021-11-07T14:44:25.596Z"
   },
   {
    "duration": 3,
    "start_time": "2021-11-07T14:44:26.073Z"
   },
   {
    "duration": 21,
    "start_time": "2021-11-07T14:44:27.133Z"
   },
   {
    "duration": 913,
    "start_time": "2021-11-07T14:44:37.723Z"
   },
   {
    "duration": 156,
    "start_time": "2021-11-07T14:44:38.639Z"
   },
   {
    "duration": 21,
    "start_time": "2021-11-07T14:44:38.798Z"
   },
   {
    "duration": 47,
    "start_time": "2021-11-07T14:44:38.821Z"
   },
   {
    "duration": 129,
    "start_time": "2021-11-07T14:44:38.871Z"
   },
   {
    "duration": 16,
    "start_time": "2021-11-07T14:44:39.002Z"
   },
   {
    "duration": 43,
    "start_time": "2021-11-07T14:44:39.020Z"
   },
   {
    "duration": 78,
    "start_time": "2021-11-07T14:44:39.066Z"
   },
   {
    "duration": 3,
    "start_time": "2021-11-07T14:44:39.147Z"
   },
   {
    "duration": 16,
    "start_time": "2021-11-07T14:44:39.160Z"
   },
   {
    "duration": 30,
    "start_time": "2021-11-07T14:44:39.178Z"
   },
   {
    "duration": 9,
    "start_time": "2021-11-07T14:44:39.210Z"
   },
   {
    "duration": 49,
    "start_time": "2021-11-07T14:44:39.222Z"
   },
   {
    "duration": 3,
    "start_time": "2021-11-07T14:44:39.274Z"
   },
   {
    "duration": 12,
    "start_time": "2021-11-07T14:44:39.279Z"
   },
   {
    "duration": 8,
    "start_time": "2021-11-07T14:44:39.293Z"
   },
   {
    "duration": 9,
    "start_time": "2021-11-07T14:44:39.303Z"
   },
   {
    "duration": 53,
    "start_time": "2021-11-07T14:44:39.314Z"
   },
   {
    "duration": 3,
    "start_time": "2021-11-07T14:44:39.370Z"
   },
   {
    "duration": 14,
    "start_time": "2021-11-07T14:44:39.376Z"
   },
   {
    "duration": 32,
    "start_time": "2021-11-07T14:44:39.392Z"
   },
   {
    "duration": 51,
    "start_time": "2021-11-07T14:44:39.426Z"
   },
   {
    "duration": 18,
    "start_time": "2021-11-07T14:44:39.483Z"
   },
   {
    "duration": 6,
    "start_time": "2021-11-07T14:44:39.504Z"
   },
   {
    "duration": 8,
    "start_time": "2021-11-07T14:44:39.512Z"
   },
   {
    "duration": 39,
    "start_time": "2021-11-07T14:44:39.523Z"
   },
   {
    "duration": 27,
    "start_time": "2021-11-07T14:44:39.565Z"
   },
   {
    "duration": 19,
    "start_time": "2021-11-07T14:44:39.595Z"
   },
   {
    "duration": 16,
    "start_time": "2021-11-07T14:44:39.616Z"
   },
   {
    "duration": 6,
    "start_time": "2021-11-07T14:44:39.658Z"
   },
   {
    "duration": 8,
    "start_time": "2021-11-07T14:44:39.667Z"
   },
   {
    "duration": 22,
    "start_time": "2021-11-07T14:44:39.677Z"
   },
   {
    "duration": 15,
    "start_time": "2021-11-07T14:44:39.701Z"
   },
   {
    "duration": 44,
    "start_time": "2021-11-07T14:44:39.719Z"
   },
   {
    "duration": 520,
    "start_time": "2021-11-07T14:44:39.766Z"
   },
   {
    "duration": 3,
    "start_time": "2021-11-07T14:44:40.288Z"
   },
   {
    "duration": 37,
    "start_time": "2021-11-07T14:44:40.293Z"
   },
   {
    "duration": 29,
    "start_time": "2021-11-07T14:44:40.332Z"
   },
   {
    "duration": 13,
    "start_time": "2021-11-07T14:44:40.363Z"
   },
   {
    "duration": 12,
    "start_time": "2021-11-07T14:44:40.378Z"
   },
   {
    "duration": 34,
    "start_time": "2021-11-07T14:44:40.392Z"
   },
   {
    "duration": 32,
    "start_time": "2021-11-07T14:44:40.428Z"
   },
   {
    "duration": 11,
    "start_time": "2021-11-07T14:44:40.463Z"
   },
   {
    "duration": 7,
    "start_time": "2021-11-07T14:44:40.476Z"
   },
   {
    "duration": 27,
    "start_time": "2021-11-07T14:44:40.485Z"
   },
   {
    "duration": 45,
    "start_time": "2021-11-07T14:44:40.515Z"
   },
   {
    "duration": 5,
    "start_time": "2021-11-07T14:44:40.563Z"
   },
   {
    "duration": 25,
    "start_time": "2021-11-07T14:44:40.571Z"
   },
   {
    "duration": 21,
    "start_time": "2021-11-07T14:44:40.598Z"
   },
   {
    "duration": 66,
    "start_time": "2021-11-07T14:44:40.622Z"
   },
   {
    "duration": 22,
    "start_time": "2021-11-07T14:44:40.691Z"
   },
   {
    "duration": 19,
    "start_time": "2021-11-07T14:44:40.715Z"
   },
   {
    "duration": 23,
    "start_time": "2021-11-07T14:44:40.736Z"
   },
   {
    "duration": 28,
    "start_time": "2021-11-07T14:44:40.762Z"
   },
   {
    "duration": 9,
    "start_time": "2021-11-07T14:44:40.792Z"
   },
   {
    "duration": 7,
    "start_time": "2021-11-07T14:44:40.803Z"
   },
   {
    "duration": 5,
    "start_time": "2021-11-07T14:46:06.310Z"
   },
   {
    "duration": 22,
    "start_time": "2021-11-07T14:46:08.749Z"
   },
   {
    "duration": 8,
    "start_time": "2021-11-07T14:46:27.230Z"
   },
   {
    "duration": 855,
    "start_time": "2021-11-07T14:46:33.523Z"
   },
   {
    "duration": 9,
    "start_time": "2021-11-07T14:47:55.349Z"
   },
   {
    "duration": 818,
    "start_time": "2021-11-07T14:47:59.532Z"
   },
   {
    "duration": 703,
    "start_time": "2021-11-08T11:51:53.720Z"
   },
   {
    "duration": 130,
    "start_time": "2021-11-08T11:51:54.426Z"
   },
   {
    "duration": 17,
    "start_time": "2021-11-08T11:51:54.558Z"
   },
   {
    "duration": 40,
    "start_time": "2021-11-08T11:51:54.578Z"
   },
   {
    "duration": 106,
    "start_time": "2021-11-08T11:51:54.620Z"
   },
   {
    "duration": 15,
    "start_time": "2021-11-08T11:51:54.727Z"
   },
   {
    "duration": 21,
    "start_time": "2021-11-08T11:51:54.744Z"
   },
   {
    "duration": 79,
    "start_time": "2021-11-08T11:51:54.767Z"
   },
   {
    "duration": 2,
    "start_time": "2021-11-08T11:51:54.848Z"
   },
   {
    "duration": 14,
    "start_time": "2021-11-08T11:51:54.852Z"
   },
   {
    "duration": 23,
    "start_time": "2021-11-08T11:51:54.868Z"
   },
   {
    "duration": 18,
    "start_time": "2021-11-08T11:51:54.893Z"
   },
   {
    "duration": 64,
    "start_time": "2021-11-08T11:51:54.912Z"
   },
   {
    "duration": 14,
    "start_time": "2021-11-08T11:51:54.978Z"
   },
   {
    "duration": 12,
    "start_time": "2021-11-08T11:51:54.994Z"
   },
   {
    "duration": 14,
    "start_time": "2021-11-08T11:51:55.008Z"
   },
   {
    "duration": 16,
    "start_time": "2021-11-08T11:51:55.024Z"
   },
   {
    "duration": 21,
    "start_time": "2021-11-08T11:51:55.042Z"
   },
   {
    "duration": 12,
    "start_time": "2021-11-08T11:51:55.065Z"
   },
   {
    "duration": 13,
    "start_time": "2021-11-08T11:51:55.079Z"
   },
   {
    "duration": 37,
    "start_time": "2021-11-08T11:51:55.094Z"
   },
   {
    "duration": 17,
    "start_time": "2021-11-08T11:51:55.132Z"
   },
   {
    "duration": 13,
    "start_time": "2021-11-08T11:51:55.153Z"
   },
   {
    "duration": 4,
    "start_time": "2021-11-08T11:51:55.168Z"
   },
   {
    "duration": 7,
    "start_time": "2021-11-08T11:51:55.174Z"
   },
   {
    "duration": 25,
    "start_time": "2021-11-08T11:51:55.183Z"
   },
   {
    "duration": 29,
    "start_time": "2021-11-08T11:51:55.210Z"
   },
   {
    "duration": 15,
    "start_time": "2021-11-08T11:51:55.241Z"
   },
   {
    "duration": 10,
    "start_time": "2021-11-08T11:51:55.258Z"
   },
   {
    "duration": 4,
    "start_time": "2021-11-08T11:51:55.270Z"
   },
   {
    "duration": 6,
    "start_time": "2021-11-08T11:51:55.276Z"
   },
   {
    "duration": 30,
    "start_time": "2021-11-08T11:51:55.283Z"
   },
   {
    "duration": 12,
    "start_time": "2021-11-08T11:51:55.315Z"
   },
   {
    "duration": 18,
    "start_time": "2021-11-08T11:51:55.329Z"
   },
   {
    "duration": 379,
    "start_time": "2021-11-08T11:51:55.348Z"
   },
   {
    "duration": 2,
    "start_time": "2021-11-08T11:51:55.729Z"
   },
   {
    "duration": 33,
    "start_time": "2021-11-08T11:51:55.733Z"
   },
   {
    "duration": 18,
    "start_time": "2021-11-08T11:51:55.768Z"
   },
   {
    "duration": 18,
    "start_time": "2021-11-08T11:51:55.788Z"
   },
   {
    "duration": 14,
    "start_time": "2021-11-08T11:51:55.808Z"
   },
   {
    "duration": 28,
    "start_time": "2021-11-08T11:51:55.824Z"
   },
   {
    "duration": 8,
    "start_time": "2021-11-08T11:51:55.853Z"
   },
   {
    "duration": 9,
    "start_time": "2021-11-08T11:51:55.863Z"
   },
   {
    "duration": 2,
    "start_time": "2021-11-08T11:51:55.874Z"
   },
   {
    "duration": 29,
    "start_time": "2021-11-08T11:51:55.878Z"
   },
   {
    "duration": 13,
    "start_time": "2021-11-08T11:51:55.908Z"
   },
   {
    "duration": 16,
    "start_time": "2021-11-08T11:51:55.923Z"
   },
   {
    "duration": 32,
    "start_time": "2021-11-08T11:51:55.940Z"
   },
   {
    "duration": 15,
    "start_time": "2021-11-08T11:51:55.974Z"
   },
   {
    "duration": 38,
    "start_time": "2021-11-08T11:51:55.990Z"
   },
   {
    "duration": 14,
    "start_time": "2021-11-08T11:51:56.030Z"
   },
   {
    "duration": 24,
    "start_time": "2021-11-08T11:51:56.046Z"
   },
   {
    "duration": 16,
    "start_time": "2021-11-08T11:51:56.072Z"
   },
   {
    "duration": 39,
    "start_time": "2021-11-08T11:51:56.090Z"
   },
   {
    "duration": 13,
    "start_time": "2021-11-08T11:51:56.131Z"
   },
   {
    "duration": 798,
    "start_time": "2021-11-08T11:51:56.145Z"
   },
   {
    "duration": 3,
    "start_time": "2021-11-08T11:52:22.054Z"
   },
   {
    "duration": 4,
    "start_time": "2021-11-08T11:52:27.727Z"
   },
   {
    "duration": 15,
    "start_time": "2021-11-08T11:52:32.562Z"
   },
   {
    "duration": 5,
    "start_time": "2021-11-08T11:53:05.104Z"
   },
   {
    "duration": 717,
    "start_time": "2021-11-08T11:53:11.464Z"
   },
   {
    "duration": 4,
    "start_time": "2021-11-08T12:18:24.251Z"
   },
   {
    "duration": 752,
    "start_time": "2021-11-08T13:07:18.890Z"
   },
   {
    "duration": 119,
    "start_time": "2021-11-08T13:07:32.128Z"
   },
   {
    "duration": 926,
    "start_time": "2021-11-08T13:07:39.797Z"
   },
   {
    "duration": 6,
    "start_time": "2021-11-08T13:07:48.224Z"
   },
   {
    "duration": 863,
    "start_time": "2021-11-08T13:07:54.335Z"
   },
   {
    "duration": 6,
    "start_time": "2021-11-08T13:08:19.089Z"
   },
   {
    "duration": 871,
    "start_time": "2021-11-08T13:08:23.113Z"
   },
   {
    "duration": 10,
    "start_time": "2021-11-08T13:12:38.155Z"
   },
   {
    "duration": 12,
    "start_time": "2021-11-08T13:12:40.361Z"
   },
   {
    "duration": 4,
    "start_time": "2021-11-08T13:12:45.039Z"
   },
   {
    "duration": 4,
    "start_time": "2021-11-08T13:12:45.541Z"
   },
   {
    "duration": 4,
    "start_time": "2021-11-08T13:12:46.004Z"
   },
   {
    "duration": 10,
    "start_time": "2021-11-08T13:12:46.797Z"
   },
   {
    "duration": 3,
    "start_time": "2021-11-08T13:12:50.986Z"
   },
   {
    "duration": 120,
    "start_time": "2021-11-08T13:12:56.111Z"
   },
   {
    "duration": 6,
    "start_time": "2021-11-08T13:13:10.723Z"
   },
   {
    "duration": 756,
    "start_time": "2021-11-08T13:13:14.261Z"
   },
   {
    "duration": 702,
    "start_time": "2021-11-08T13:25:34.188Z"
   },
   {
    "duration": 21,
    "start_time": "2021-11-08T13:33:59.450Z"
   },
   {
    "duration": 213,
    "start_time": "2021-11-08T13:34:57.513Z"
   },
   {
    "duration": 6,
    "start_time": "2021-11-08T13:36:15.263Z"
   },
   {
    "duration": 95,
    "start_time": "2021-11-08T13:36:18.721Z"
   },
   {
    "duration": 5,
    "start_time": "2021-11-08T13:36:32.606Z"
   },
   {
    "duration": 5,
    "start_time": "2021-11-08T13:36:36.815Z"
   },
   {
    "duration": 1859,
    "start_time": "2021-11-08T13:37:59.415Z"
   },
   {
    "duration": -177,
    "start_time": "2021-11-08T13:38:01.454Z"
   },
   {
    "duration": 1475,
    "start_time": "2021-11-08T13:38:16.550Z"
   },
   {
    "duration": 6,
    "start_time": "2021-11-08T13:38:18.899Z"
   },
   {
    "duration": 1390,
    "start_time": "2021-11-08T13:40:42.304Z"
   },
   {
    "duration": 5,
    "start_time": "2021-11-08T13:40:46.945Z"
   },
   {
    "duration": 1505,
    "start_time": "2021-11-08T13:40:50.694Z"
   },
   {
    "duration": 1489,
    "start_time": "2021-11-08T13:41:29.576Z"
   },
   {
    "duration": 1393,
    "start_time": "2021-11-08T13:42:12.516Z"
   },
   {
    "duration": 5,
    "start_time": "2021-11-08T13:42:14.097Z"
   },
   {
    "duration": 1368,
    "start_time": "2021-11-08T13:42:18.813Z"
   },
   {
    "duration": 6,
    "start_time": "2021-11-08T13:42:22.742Z"
   },
   {
    "duration": 1437,
    "start_time": "2021-11-08T13:42:24.290Z"
   },
   {
    "duration": 1552,
    "start_time": "2021-11-08T13:42:32.126Z"
   },
   {
    "duration": 738,
    "start_time": "2021-11-08T13:42:41.483Z"
   },
   {
    "duration": 132,
    "start_time": "2021-11-08T13:42:42.224Z"
   },
   {
    "duration": 17,
    "start_time": "2021-11-08T13:42:42.358Z"
   },
   {
    "duration": 35,
    "start_time": "2021-11-08T13:42:42.378Z"
   },
   {
    "duration": 117,
    "start_time": "2021-11-08T13:42:42.415Z"
   },
   {
    "duration": 23,
    "start_time": "2021-11-08T13:42:42.535Z"
   },
   {
    "duration": 32,
    "start_time": "2021-11-08T13:42:42.560Z"
   },
   {
    "duration": 67,
    "start_time": "2021-11-08T13:42:42.609Z"
   },
   {
    "duration": 3,
    "start_time": "2021-11-08T13:42:42.678Z"
   },
   {
    "duration": 39,
    "start_time": "2021-11-08T13:42:42.682Z"
   },
   {
    "duration": 30,
    "start_time": "2021-11-08T13:42:42.723Z"
   },
   {
    "duration": 21,
    "start_time": "2021-11-08T13:42:42.755Z"
   },
   {
    "duration": 62,
    "start_time": "2021-11-08T13:42:42.778Z"
   },
   {
    "duration": 5,
    "start_time": "2021-11-08T13:42:42.843Z"
   },
   {
    "duration": 20,
    "start_time": "2021-11-08T13:42:42.850Z"
   },
   {
    "duration": 20,
    "start_time": "2021-11-08T13:42:42.871Z"
   },
   {
    "duration": 39,
    "start_time": "2021-11-08T13:42:42.892Z"
   },
   {
    "duration": 50,
    "start_time": "2021-11-08T13:42:42.933Z"
   },
   {
    "duration": 25,
    "start_time": "2021-11-08T13:42:42.986Z"
   },
   {
    "duration": 22,
    "start_time": "2021-11-08T13:42:43.013Z"
   },
   {
    "duration": 41,
    "start_time": "2021-11-08T13:42:43.037Z"
   },
   {
    "duration": 17,
    "start_time": "2021-11-08T13:42:43.080Z"
   },
   {
    "duration": 16,
    "start_time": "2021-11-08T13:42:43.101Z"
   },
   {
    "duration": 12,
    "start_time": "2021-11-08T13:42:43.119Z"
   },
   {
    "duration": 15,
    "start_time": "2021-11-08T13:42:43.133Z"
   },
   {
    "duration": 17,
    "start_time": "2021-11-08T13:42:43.149Z"
   },
   {
    "duration": 26,
    "start_time": "2021-11-08T13:42:43.169Z"
   },
   {
    "duration": 14,
    "start_time": "2021-11-08T13:42:43.197Z"
   },
   {
    "duration": 17,
    "start_time": "2021-11-08T13:42:43.213Z"
   },
   {
    "duration": 4,
    "start_time": "2021-11-08T13:42:43.232Z"
   },
   {
    "duration": 25,
    "start_time": "2021-11-08T13:42:43.238Z"
   },
   {
    "duration": 21,
    "start_time": "2021-11-08T13:42:43.265Z"
   },
   {
    "duration": 16,
    "start_time": "2021-11-08T13:42:43.288Z"
   },
   {
    "duration": 13,
    "start_time": "2021-11-08T13:42:43.306Z"
   },
   {
    "duration": 397,
    "start_time": "2021-11-08T13:42:43.321Z"
   },
   {
    "duration": 2,
    "start_time": "2021-11-08T13:42:43.720Z"
   },
   {
    "duration": 47,
    "start_time": "2021-11-08T13:42:43.723Z"
   },
   {
    "duration": 9,
    "start_time": "2021-11-08T13:42:43.772Z"
   },
   {
    "duration": 19,
    "start_time": "2021-11-08T13:42:43.783Z"
   },
   {
    "duration": 24,
    "start_time": "2021-11-08T13:42:43.804Z"
   },
   {
    "duration": 36,
    "start_time": "2021-11-08T13:42:43.829Z"
   },
   {
    "duration": 8,
    "start_time": "2021-11-08T13:42:43.867Z"
   },
   {
    "duration": 19,
    "start_time": "2021-11-08T13:42:43.877Z"
   },
   {
    "duration": 17,
    "start_time": "2021-11-08T13:42:43.898Z"
   },
   {
    "duration": 28,
    "start_time": "2021-11-08T13:42:43.918Z"
   },
   {
    "duration": 16,
    "start_time": "2021-11-08T13:42:43.948Z"
   },
   {
    "duration": 10,
    "start_time": "2021-11-08T13:42:43.966Z"
   },
   {
    "duration": 37,
    "start_time": "2021-11-08T13:42:43.978Z"
   },
   {
    "duration": 35,
    "start_time": "2021-11-08T13:42:44.017Z"
   },
   {
    "duration": 14,
    "start_time": "2021-11-08T13:42:44.054Z"
   },
   {
    "duration": 19,
    "start_time": "2021-11-08T13:42:44.070Z"
   },
   {
    "duration": 18,
    "start_time": "2021-11-08T13:42:44.091Z"
   },
   {
    "duration": 4,
    "start_time": "2021-11-08T13:42:44.111Z"
   },
   {
    "duration": 25,
    "start_time": "2021-11-08T13:42:44.117Z"
   },
   {
    "duration": 15,
    "start_time": "2021-11-08T13:42:44.144Z"
   },
   {
    "duration": 15,
    "start_time": "2021-11-08T13:42:44.161Z"
   },
   {
    "duration": 11,
    "start_time": "2021-11-08T13:42:44.178Z"
   },
   {
    "duration": 97,
    "start_time": "2021-11-08T13:42:44.191Z"
   },
   {
    "duration": 12,
    "start_time": "2021-11-08T13:42:44.290Z"
   },
   {
    "duration": 23,
    "start_time": "2021-11-08T13:42:44.307Z"
   },
   {
    "duration": 209,
    "start_time": "2021-11-08T13:42:44.332Z"
   },
   {
    "duration": 26,
    "start_time": "2021-11-08T13:43:30.160Z"
   },
   {
    "duration": 434,
    "start_time": "2021-11-08T13:50:15.122Z"
   },
   {
    "duration": 429,
    "start_time": "2021-11-08T13:50:16.567Z"
   },
   {
    "duration": 131,
    "start_time": "2021-11-08T13:50:42.063Z"
   },
   {
    "duration": 470,
    "start_time": "2021-11-08T13:50:53.858Z"
   },
   {
    "duration": 6,
    "start_time": "2021-11-08T13:53:01.522Z"
   },
   {
    "duration": 16,
    "start_time": "2021-11-08T13:53:04.109Z"
   },
   {
    "duration": 7,
    "start_time": "2021-11-08T13:53:33.609Z"
   },
   {
    "duration": 221,
    "start_time": "2021-11-08T13:59:25.532Z"
   },
   {
    "duration": 231,
    "start_time": "2021-11-08T14:08:49.691Z"
   },
   {
    "duration": 26,
    "start_time": "2021-11-08T14:09:53.651Z"
   },
   {
    "duration": 24,
    "start_time": "2021-11-08T14:09:58.503Z"
   },
   {
    "duration": 25,
    "start_time": "2021-11-08T14:10:10.916Z"
   },
   {
    "duration": 222,
    "start_time": "2021-11-08T14:12:09.487Z"
   },
   {
    "duration": 218,
    "start_time": "2021-11-08T14:15:07.324Z"
   },
   {
    "duration": 628,
    "start_time": "2021-11-08T14:17:00.412Z"
   },
   {
    "duration": 237,
    "start_time": "2021-11-08T14:17:22.579Z"
   },
   {
    "duration": 242,
    "start_time": "2021-11-08T14:17:32.489Z"
   },
   {
    "duration": 250,
    "start_time": "2021-11-08T14:19:13.583Z"
   },
   {
    "duration": 255,
    "start_time": "2021-11-08T14:19:22.140Z"
   },
   {
    "duration": 324,
    "start_time": "2021-11-08T14:19:30.093Z"
   },
   {
    "duration": 258,
    "start_time": "2021-11-08T14:19:44.092Z"
   },
   {
    "duration": 284,
    "start_time": "2021-11-08T14:19:55.294Z"
   },
   {
    "duration": 253,
    "start_time": "2021-11-08T14:20:27.053Z"
   },
   {
    "duration": 236,
    "start_time": "2021-11-08T14:20:58.838Z"
   },
   {
    "duration": 239,
    "start_time": "2021-11-08T14:21:14.759Z"
   },
   {
    "duration": 242,
    "start_time": "2021-11-08T14:21:50.859Z"
   },
   {
    "duration": 246,
    "start_time": "2021-11-08T14:22:10.526Z"
   },
   {
    "duration": 417,
    "start_time": "2021-11-08T14:22:28.606Z"
   },
   {
    "duration": 237,
    "start_time": "2021-11-08T14:25:22.010Z"
   },
   {
    "duration": 299,
    "start_time": "2021-11-08T14:25:50.733Z"
   },
   {
    "duration": 389,
    "start_time": "2021-11-08T14:26:56.126Z"
   },
   {
    "duration": 6,
    "start_time": "2021-11-08T14:32:52.711Z"
   },
   {
    "duration": 5,
    "start_time": "2021-11-08T14:33:20.302Z"
   },
   {
    "duration": 179,
    "start_time": "2021-11-08T14:33:30.352Z"
   },
   {
    "duration": 9,
    "start_time": "2021-11-08T14:33:49.783Z"
   },
   {
    "duration": 6,
    "start_time": "2021-11-08T14:34:24.783Z"
   },
   {
    "duration": 10,
    "start_time": "2021-11-08T14:34:25.947Z"
   },
   {
    "duration": 6,
    "start_time": "2021-11-08T14:34:40.004Z"
   },
   {
    "duration": 11,
    "start_time": "2021-11-08T14:34:42.185Z"
   },
   {
    "duration": 6,
    "start_time": "2021-11-08T14:34:56.222Z"
   },
   {
    "duration": 11,
    "start_time": "2021-11-08T14:34:58.246Z"
   },
   {
    "duration": 782,
    "start_time": "2021-11-08T14:35:20.736Z"
   },
   {
    "duration": 132,
    "start_time": "2021-11-08T14:35:21.521Z"
   },
   {
    "duration": 16,
    "start_time": "2021-11-08T14:35:21.656Z"
   },
   {
    "duration": 33,
    "start_time": "2021-11-08T14:35:21.674Z"
   },
   {
    "duration": 104,
    "start_time": "2021-11-08T14:35:21.709Z"
   },
   {
    "duration": 14,
    "start_time": "2021-11-08T14:35:21.815Z"
   },
   {
    "duration": 24,
    "start_time": "2021-11-08T14:35:21.831Z"
   },
   {
    "duration": 80,
    "start_time": "2021-11-08T14:35:21.856Z"
   },
   {
    "duration": 3,
    "start_time": "2021-11-08T14:35:21.939Z"
   },
   {
    "duration": 18,
    "start_time": "2021-11-08T14:35:21.944Z"
   },
   {
    "duration": 23,
    "start_time": "2021-11-08T14:35:21.964Z"
   },
   {
    "duration": 17,
    "start_time": "2021-11-08T14:35:21.989Z"
   },
   {
    "duration": 61,
    "start_time": "2021-11-08T14:35:22.008Z"
   },
   {
    "duration": 2,
    "start_time": "2021-11-08T14:35:22.071Z"
   },
   {
    "duration": 14,
    "start_time": "2021-11-08T14:35:22.075Z"
   },
   {
    "duration": 14,
    "start_time": "2021-11-08T14:35:22.090Z"
   },
   {
    "duration": 9,
    "start_time": "2021-11-08T14:35:22.106Z"
   },
   {
    "duration": 22,
    "start_time": "2021-11-08T14:35:22.117Z"
   },
   {
    "duration": 22,
    "start_time": "2021-11-08T14:35:22.141Z"
   },
   {
    "duration": 21,
    "start_time": "2021-11-08T14:35:22.165Z"
   },
   {
    "duration": 27,
    "start_time": "2021-11-08T14:35:22.188Z"
   },
   {
    "duration": 21,
    "start_time": "2021-11-08T14:35:22.217Z"
   },
   {
    "duration": 13,
    "start_time": "2021-11-08T14:35:22.240Z"
   },
   {
    "duration": 7,
    "start_time": "2021-11-08T14:35:22.255Z"
   },
   {
    "duration": 17,
    "start_time": "2021-11-08T14:35:22.263Z"
   },
   {
    "duration": 11,
    "start_time": "2021-11-08T14:35:22.282Z"
   },
   {
    "duration": 32,
    "start_time": "2021-11-08T14:35:22.297Z"
   },
   {
    "duration": 14,
    "start_time": "2021-11-08T14:35:22.332Z"
   },
   {
    "duration": 11,
    "start_time": "2021-11-08T14:35:22.348Z"
   },
   {
    "duration": 7,
    "start_time": "2021-11-08T14:35:22.361Z"
   },
   {
    "duration": 12,
    "start_time": "2021-11-08T14:35:22.370Z"
   },
   {
    "duration": 23,
    "start_time": "2021-11-08T14:35:22.384Z"
   },
   {
    "duration": 9,
    "start_time": "2021-11-08T14:35:22.409Z"
   },
   {
    "duration": 7,
    "start_time": "2021-11-08T14:35:22.420Z"
   },
   {
    "duration": 397,
    "start_time": "2021-11-08T14:35:22.428Z"
   },
   {
    "duration": 2,
    "start_time": "2021-11-08T14:35:22.828Z"
   },
   {
    "duration": 28,
    "start_time": "2021-11-08T14:35:22.833Z"
   },
   {
    "duration": 8,
    "start_time": "2021-11-08T14:35:22.863Z"
   },
   {
    "duration": 38,
    "start_time": "2021-11-08T14:35:22.872Z"
   },
   {
    "duration": 5,
    "start_time": "2021-11-08T14:35:22.912Z"
   },
   {
    "duration": 29,
    "start_time": "2021-11-08T14:35:22.918Z"
   },
   {
    "duration": 11,
    "start_time": "2021-11-08T14:35:22.948Z"
   },
   {
    "duration": 15,
    "start_time": "2021-11-08T14:35:22.960Z"
   },
   {
    "duration": 10,
    "start_time": "2021-11-08T14:35:22.977Z"
   },
   {
    "duration": 33,
    "start_time": "2021-11-08T14:35:22.988Z"
   },
   {
    "duration": 13,
    "start_time": "2021-11-08T14:35:23.023Z"
   },
   {
    "duration": 5,
    "start_time": "2021-11-08T14:35:23.039Z"
   },
   {
    "duration": 19,
    "start_time": "2021-11-08T14:35:23.046Z"
   },
   {
    "duration": 39,
    "start_time": "2021-11-08T14:35:23.067Z"
   },
   {
    "duration": 11,
    "start_time": "2021-11-08T14:35:23.109Z"
   },
   {
    "duration": 10,
    "start_time": "2021-11-08T14:35:23.122Z"
   },
   {
    "duration": 31,
    "start_time": "2021-11-08T14:35:23.134Z"
   },
   {
    "duration": 12,
    "start_time": "2021-11-08T14:35:23.167Z"
   },
   {
    "duration": 7,
    "start_time": "2021-11-08T14:35:23.181Z"
   },
   {
    "duration": 13,
    "start_time": "2021-11-08T14:35:23.190Z"
   },
   {
    "duration": 3,
    "start_time": "2021-11-08T14:35:23.207Z"
   },
   {
    "duration": 8,
    "start_time": "2021-11-08T14:35:23.212Z"
   },
   {
    "duration": 116,
    "start_time": "2021-11-08T14:35:23.222Z"
   },
   {
    "duration": 12,
    "start_time": "2021-11-08T14:35:23.339Z"
   },
   {
    "duration": 26,
    "start_time": "2021-11-08T14:35:23.352Z"
   },
   {
    "duration": 213,
    "start_time": "2021-11-08T14:35:23.380Z"
   },
   {
    "duration": 35,
    "start_time": "2021-11-08T14:35:23.594Z"
   },
   {
    "duration": 24,
    "start_time": "2021-11-08T14:35:23.631Z"
   },
   {
    "duration": 279,
    "start_time": "2021-11-08T14:35:23.656Z"
   },
   {
    "duration": 260,
    "start_time": "2021-11-08T14:35:23.937Z"
   },
   {
    "duration": 257,
    "start_time": "2021-11-08T14:35:24.199Z"
   },
   {
    "duration": 305,
    "start_time": "2021-11-08T14:35:24.458Z"
   },
   {
    "duration": 6,
    "start_time": "2021-11-08T14:35:24.765Z"
   },
   {
    "duration": 21,
    "start_time": "2021-11-08T14:35:24.772Z"
   },
   {
    "duration": 6,
    "start_time": "2021-11-08T14:37:26.169Z"
   },
   {
    "duration": 10,
    "start_time": "2021-11-08T14:37:27.748Z"
   },
   {
    "duration": 631,
    "start_time": "2021-11-08T14:37:35.658Z"
   },
   {
    "duration": 186,
    "start_time": "2021-11-08T14:38:00.117Z"
   },
   {
    "duration": 6,
    "start_time": "2021-11-08T14:38:16.537Z"
   },
   {
    "duration": 122,
    "start_time": "2021-11-08T14:38:17.240Z"
   },
   {
    "duration": 275,
    "start_time": "2021-11-08T14:38:21.293Z"
   },
   {
    "duration": 5,
    "start_time": "2021-11-08T14:38:38.186Z"
   },
   {
    "duration": 5,
    "start_time": "2021-11-08T14:39:15.385Z"
   },
   {
    "duration": 201,
    "start_time": "2021-11-08T14:39:22.682Z"
   },
   {
    "duration": 4,
    "start_time": "2021-11-08T14:39:58.980Z"
   },
   {
    "duration": 3,
    "start_time": "2021-11-08T14:40:12.112Z"
   },
   {
    "duration": 427,
    "start_time": "2021-11-08T14:51:23.543Z"
   },
   {
    "duration": 11,
    "start_time": "2021-11-08T14:51:39.134Z"
   },
   {
    "duration": 9,
    "start_time": "2021-11-08T14:51:46.032Z"
   },
   {
    "duration": 14,
    "start_time": "2021-11-08T14:52:01.225Z"
   },
   {
    "duration": 10,
    "start_time": "2021-11-08T14:52:59.931Z"
   },
   {
    "duration": 18,
    "start_time": "2021-11-08T14:53:11.994Z"
   },
   {
    "duration": 19,
    "start_time": "2021-11-08T14:54:10.679Z"
   },
   {
    "duration": 28,
    "start_time": "2021-11-08T14:55:06.269Z"
   },
   {
    "duration": 37,
    "start_time": "2021-11-08T14:55:27.383Z"
   },
   {
    "duration": 41,
    "start_time": "2021-11-08T14:55:34.565Z"
   },
   {
    "duration": 20,
    "start_time": "2021-11-08T14:55:46.284Z"
   },
   {
    "duration": 28,
    "start_time": "2021-11-08T14:55:51.786Z"
   },
   {
    "duration": 18,
    "start_time": "2021-11-08T14:55:56.974Z"
   },
   {
    "duration": 18,
    "start_time": "2021-11-08T14:56:02.428Z"
   },
   {
    "duration": 392,
    "start_time": "2021-11-08T15:11:56.067Z"
   },
   {
    "duration": 1118,
    "start_time": "2021-11-08T15:12:04.932Z"
   },
   {
    "duration": 175,
    "start_time": "2021-11-08T15:12:06.053Z"
   },
   {
    "duration": 25,
    "start_time": "2021-11-08T15:12:06.230Z"
   },
   {
    "duration": 63,
    "start_time": "2021-11-08T15:12:06.257Z"
   },
   {
    "duration": 118,
    "start_time": "2021-11-08T15:12:06.322Z"
   },
   {
    "duration": 15,
    "start_time": "2021-11-08T15:12:06.442Z"
   },
   {
    "duration": 29,
    "start_time": "2021-11-08T15:12:06.459Z"
   },
   {
    "duration": 69,
    "start_time": "2021-11-08T15:12:06.491Z"
   },
   {
    "duration": 2,
    "start_time": "2021-11-08T15:12:06.563Z"
   },
   {
    "duration": 18,
    "start_time": "2021-11-08T15:12:06.567Z"
   },
   {
    "duration": 27,
    "start_time": "2021-11-08T15:12:06.588Z"
   },
   {
    "duration": 12,
    "start_time": "2021-11-08T15:12:06.617Z"
   },
   {
    "duration": 47,
    "start_time": "2021-11-08T15:12:06.631Z"
   },
   {
    "duration": 3,
    "start_time": "2021-11-08T15:12:06.679Z"
   },
   {
    "duration": 10,
    "start_time": "2021-11-08T15:12:06.683Z"
   },
   {
    "duration": 15,
    "start_time": "2021-11-08T15:12:06.695Z"
   },
   {
    "duration": 9,
    "start_time": "2021-11-08T15:12:06.712Z"
   },
   {
    "duration": 22,
    "start_time": "2021-11-08T15:12:06.723Z"
   },
   {
    "duration": 14,
    "start_time": "2021-11-08T15:12:06.747Z"
   },
   {
    "duration": 35,
    "start_time": "2021-11-08T15:12:06.763Z"
   },
   {
    "duration": 35,
    "start_time": "2021-11-08T15:12:06.800Z"
   },
   {
    "duration": 19,
    "start_time": "2021-11-08T15:12:06.837Z"
   },
   {
    "duration": 18,
    "start_time": "2021-11-08T15:12:06.860Z"
   },
   {
    "duration": 20,
    "start_time": "2021-11-08T15:12:06.881Z"
   },
   {
    "duration": 28,
    "start_time": "2021-11-08T15:12:06.902Z"
   },
   {
    "duration": 19,
    "start_time": "2021-11-08T15:12:06.932Z"
   },
   {
    "duration": 38,
    "start_time": "2021-11-08T15:12:06.953Z"
   },
   {
    "duration": 16,
    "start_time": "2021-11-08T15:12:06.993Z"
   },
   {
    "duration": 19,
    "start_time": "2021-11-08T15:12:07.011Z"
   },
   {
    "duration": 9,
    "start_time": "2021-11-08T15:12:07.032Z"
   },
   {
    "duration": 25,
    "start_time": "2021-11-08T15:12:07.043Z"
   },
   {
    "duration": 20,
    "start_time": "2021-11-08T15:12:07.070Z"
   },
   {
    "duration": 28,
    "start_time": "2021-11-08T15:12:07.092Z"
   },
   {
    "duration": 26,
    "start_time": "2021-11-08T15:12:07.122Z"
   },
   {
    "duration": 370,
    "start_time": "2021-11-08T15:12:07.151Z"
   },
   {
    "duration": 2,
    "start_time": "2021-11-08T15:12:07.523Z"
   },
   {
    "duration": 44,
    "start_time": "2021-11-08T15:12:07.527Z"
   },
   {
    "duration": 8,
    "start_time": "2021-11-08T15:12:07.573Z"
   },
   {
    "duration": 29,
    "start_time": "2021-11-08T15:12:07.582Z"
   },
   {
    "duration": 14,
    "start_time": "2021-11-08T15:12:07.613Z"
   },
   {
    "duration": 48,
    "start_time": "2021-11-08T15:12:07.628Z"
   },
   {
    "duration": 8,
    "start_time": "2021-11-08T15:12:07.678Z"
   },
   {
    "duration": 29,
    "start_time": "2021-11-08T15:12:07.688Z"
   },
   {
    "duration": 10,
    "start_time": "2021-11-08T15:12:07.718Z"
   },
   {
    "duration": 42,
    "start_time": "2021-11-08T15:12:07.730Z"
   },
   {
    "duration": 12,
    "start_time": "2021-11-08T15:12:07.773Z"
   },
   {
    "duration": 15,
    "start_time": "2021-11-08T15:12:07.787Z"
   },
   {
    "duration": 39,
    "start_time": "2021-11-08T15:12:07.804Z"
   },
   {
    "duration": 14,
    "start_time": "2021-11-08T15:12:07.845Z"
   },
   {
    "duration": 20,
    "start_time": "2021-11-08T15:12:07.861Z"
   },
   {
    "duration": 25,
    "start_time": "2021-11-08T15:12:07.883Z"
   },
   {
    "duration": 20,
    "start_time": "2021-11-08T15:12:07.910Z"
   },
   {
    "duration": 15,
    "start_time": "2021-11-08T15:12:07.931Z"
   },
   {
    "duration": 26,
    "start_time": "2021-11-08T15:12:07.947Z"
   },
   {
    "duration": 22,
    "start_time": "2021-11-08T15:12:07.975Z"
   },
   {
    "duration": 21,
    "start_time": "2021-11-08T15:12:08.000Z"
   },
   {
    "duration": 10,
    "start_time": "2021-11-08T15:12:08.023Z"
   },
   {
    "duration": 116,
    "start_time": "2021-11-08T15:12:08.035Z"
   },
   {
    "duration": 13,
    "start_time": "2021-11-08T15:12:08.153Z"
   },
   {
    "duration": 42,
    "start_time": "2021-11-08T15:12:08.168Z"
   },
   {
    "duration": 203,
    "start_time": "2021-11-08T15:12:08.212Z"
   },
   {
    "duration": 27,
    "start_time": "2021-11-08T15:12:08.417Z"
   },
   {
    "duration": 26,
    "start_time": "2021-11-08T15:12:08.447Z"
   },
   {
    "duration": 280,
    "start_time": "2021-11-08T15:12:08.476Z"
   },
   {
    "duration": 252,
    "start_time": "2021-11-08T15:12:08.759Z"
   },
   {
    "duration": 260,
    "start_time": "2021-11-08T15:12:09.013Z"
   },
   {
    "duration": 315,
    "start_time": "2021-11-08T15:12:09.275Z"
   },
   {
    "duration": 14,
    "start_time": "2021-11-08T15:12:09.595Z"
   },
   {
    "duration": 20,
    "start_time": "2021-11-08T15:12:09.611Z"
   },
   {
    "duration": 230,
    "start_time": "2021-11-08T15:12:09.633Z"
   },
   {
    "duration": 5,
    "start_time": "2021-11-08T15:12:09.865Z"
   },
   {
    "duration": 43,
    "start_time": "2021-11-08T15:12:09.871Z"
   },
   {
    "duration": 216,
    "start_time": "2021-11-08T15:12:09.916Z"
   },
   {
    "duration": 18,
    "start_time": "2021-11-08T15:12:10.133Z"
   },
   {
    "duration": 18,
    "start_time": "2021-11-08T15:12:10.153Z"
   },
   {
    "duration": 43,
    "start_time": "2021-11-08T15:12:10.173Z"
   },
   {
    "duration": 4,
    "start_time": "2021-11-08T15:16:01.425Z"
   },
   {
    "duration": 9,
    "start_time": "2021-11-08T15:16:39.426Z"
   },
   {
    "duration": 4,
    "start_time": "2021-11-08T15:17:19.189Z"
   },
   {
    "duration": 6,
    "start_time": "2021-11-08T15:17:38.331Z"
   },
   {
    "duration": 5,
    "start_time": "2021-11-08T15:17:55.187Z"
   },
   {
    "duration": 7,
    "start_time": "2021-11-08T15:19:01.776Z"
   },
   {
    "duration": 442,
    "start_time": "2021-11-08T15:19:05.575Z"
   },
   {
    "duration": 3,
    "start_time": "2021-11-08T15:20:02.985Z"
   },
   {
    "duration": 364,
    "start_time": "2021-11-08T15:21:03.965Z"
   },
   {
    "duration": 2,
    "start_time": "2021-11-08T15:21:22.281Z"
   },
   {
    "duration": 3,
    "start_time": "2021-11-08T15:23:37.997Z"
   },
   {
    "duration": 6,
    "start_time": "2021-11-08T15:23:38.691Z"
   },
   {
    "duration": 5,
    "start_time": "2021-11-08T15:24:51.348Z"
   },
   {
    "duration": 5,
    "start_time": "2021-11-08T15:25:08.198Z"
   },
   {
    "duration": 649,
    "start_time": "2021-11-08T17:30:51.538Z"
   },
   {
    "duration": 265,
    "start_time": "2021-11-08T17:31:03.617Z"
   },
   {
    "duration": 1313,
    "start_time": "2021-11-08T17:31:11.472Z"
   },
   {
    "duration": 155,
    "start_time": "2021-11-08T17:31:12.787Z"
   },
   {
    "duration": 21,
    "start_time": "2021-11-08T17:31:12.945Z"
   },
   {
    "duration": 30,
    "start_time": "2021-11-08T17:31:12.969Z"
   },
   {
    "duration": 150,
    "start_time": "2021-11-08T17:31:13.002Z"
   },
   {
    "duration": 18,
    "start_time": "2021-11-08T17:31:13.154Z"
   },
   {
    "duration": 28,
    "start_time": "2021-11-08T17:31:13.175Z"
   },
   {
    "duration": 79,
    "start_time": "2021-11-08T17:31:13.231Z"
   },
   {
    "duration": 3,
    "start_time": "2021-11-08T17:31:13.313Z"
   },
   {
    "duration": 24,
    "start_time": "2021-11-08T17:31:13.319Z"
   },
   {
    "duration": 28,
    "start_time": "2021-11-08T17:31:13.346Z"
   },
   {
    "duration": 10,
    "start_time": "2021-11-08T17:31:13.376Z"
   },
   {
    "duration": 41,
    "start_time": "2021-11-08T17:31:13.389Z"
   },
   {
    "duration": 3,
    "start_time": "2021-11-08T17:31:13.433Z"
   },
   {
    "duration": 12,
    "start_time": "2021-11-08T17:31:13.439Z"
   },
   {
    "duration": 10,
    "start_time": "2021-11-08T17:31:13.453Z"
   },
   {
    "duration": 8,
    "start_time": "2021-11-08T17:31:13.465Z"
   },
   {
    "duration": 60,
    "start_time": "2021-11-08T17:31:13.475Z"
   },
   {
    "duration": 3,
    "start_time": "2021-11-08T17:31:13.537Z"
   },
   {
    "duration": 21,
    "start_time": "2021-11-08T17:31:13.543Z"
   },
   {
    "duration": 33,
    "start_time": "2021-11-08T17:31:13.566Z"
   },
   {
    "duration": 46,
    "start_time": "2021-11-08T17:31:13.601Z"
   },
   {
    "duration": 18,
    "start_time": "2021-11-08T17:31:13.653Z"
   },
   {
    "duration": 5,
    "start_time": "2021-11-08T17:31:13.675Z"
   },
   {
    "duration": 15,
    "start_time": "2021-11-08T17:31:13.682Z"
   },
   {
    "duration": 30,
    "start_time": "2021-11-08T17:31:13.700Z"
   },
   {
    "duration": 31,
    "start_time": "2021-11-08T17:31:13.732Z"
   },
   {
    "duration": 19,
    "start_time": "2021-11-08T17:31:13.765Z"
   },
   {
    "duration": 14,
    "start_time": "2021-11-08T17:31:13.786Z"
   },
   {
    "duration": 28,
    "start_time": "2021-11-08T17:31:13.802Z"
   },
   {
    "duration": 12,
    "start_time": "2021-11-08T17:31:13.832Z"
   },
   {
    "duration": 20,
    "start_time": "2021-11-08T17:31:13.846Z"
   },
   {
    "duration": 13,
    "start_time": "2021-11-08T17:31:13.868Z"
   },
   {
    "duration": 14,
    "start_time": "2021-11-08T17:31:13.883Z"
   },
   {
    "duration": 475,
    "start_time": "2021-11-08T17:31:13.899Z"
   },
   {
    "duration": 3,
    "start_time": "2021-11-08T17:31:14.376Z"
   },
   {
    "duration": 50,
    "start_time": "2021-11-08T17:31:14.381Z"
   },
   {
    "duration": 11,
    "start_time": "2021-11-08T17:31:14.434Z"
   },
   {
    "duration": 22,
    "start_time": "2021-11-08T17:31:14.448Z"
   },
   {
    "duration": 19,
    "start_time": "2021-11-08T17:31:14.472Z"
   },
   {
    "duration": 32,
    "start_time": "2021-11-08T17:31:14.493Z"
   },
   {
    "duration": 12,
    "start_time": "2021-11-08T17:31:14.528Z"
   },
   {
    "duration": 22,
    "start_time": "2021-11-08T17:31:14.543Z"
   },
   {
    "duration": 18,
    "start_time": "2021-11-08T17:31:14.568Z"
   },
   {
    "duration": 45,
    "start_time": "2021-11-08T17:31:14.589Z"
   },
   {
    "duration": 19,
    "start_time": "2021-11-08T17:31:14.636Z"
   },
   {
    "duration": 19,
    "start_time": "2021-11-08T17:31:14.658Z"
   },
   {
    "duration": 51,
    "start_time": "2021-11-08T17:31:14.679Z"
   },
   {
    "duration": 23,
    "start_time": "2021-11-08T17:31:14.732Z"
   },
   {
    "duration": 16,
    "start_time": "2021-11-08T17:31:14.758Z"
   },
   {
    "duration": 30,
    "start_time": "2021-11-08T17:31:14.776Z"
   },
   {
    "duration": 29,
    "start_time": "2021-11-08T17:31:14.809Z"
   },
   {
    "duration": 20,
    "start_time": "2021-11-08T17:31:14.840Z"
   },
   {
    "duration": 17,
    "start_time": "2021-11-08T17:31:14.863Z"
   },
   {
    "duration": 26,
    "start_time": "2021-11-08T17:31:14.883Z"
   },
   {
    "duration": 6,
    "start_time": "2021-11-08T17:31:14.912Z"
   },
   {
    "duration": 9,
    "start_time": "2021-11-08T17:31:14.921Z"
   },
   {
    "duration": 176,
    "start_time": "2021-11-08T17:31:14.933Z"
   },
   {
    "duration": 22,
    "start_time": "2021-11-08T17:31:15.111Z"
   },
   {
    "duration": 36,
    "start_time": "2021-11-08T17:31:15.136Z"
   },
   {
    "duration": 345,
    "start_time": "2021-11-08T17:31:15.175Z"
   },
   {
    "duration": 42,
    "start_time": "2021-11-08T17:31:15.523Z"
   },
   {
    "duration": 64,
    "start_time": "2021-11-08T17:31:15.567Z"
   },
   {
    "duration": 403,
    "start_time": "2021-11-08T17:31:15.635Z"
   },
   {
    "duration": 392,
    "start_time": "2021-11-08T17:31:16.041Z"
   },
   {
    "duration": 398,
    "start_time": "2021-11-08T17:31:16.436Z"
   },
   {
    "duration": 488,
    "start_time": "2021-11-08T17:31:16.837Z"
   },
   {
    "duration": 6,
    "start_time": "2021-11-08T17:31:17.333Z"
   },
   {
    "duration": 8,
    "start_time": "2021-11-08T17:31:17.342Z"
   },
   {
    "duration": 343,
    "start_time": "2021-11-08T17:31:17.353Z"
   },
   {
    "duration": 6,
    "start_time": "2021-11-08T17:31:17.698Z"
   },
   {
    "duration": 22,
    "start_time": "2021-11-08T17:31:17.707Z"
   },
   {
    "duration": 335,
    "start_time": "2021-11-08T17:31:17.731Z"
   },
   {
    "duration": 28,
    "start_time": "2021-11-08T17:31:18.069Z"
   },
   {
    "duration": 46,
    "start_time": "2021-11-08T17:31:18.099Z"
   },
   {
    "duration": 26,
    "start_time": "2021-11-08T17:31:18.148Z"
   },
   {
    "duration": 16,
    "start_time": "2021-11-08T17:31:18.176Z"
   },
   {
    "duration": 403,
    "start_time": "2021-11-08T17:31:18.195Z"
   },
   {
    "duration": 120,
    "start_time": "2021-11-08T17:31:18.481Z"
   },
   {
    "duration": 7,
    "start_time": "2021-11-08T17:31:45.019Z"
   },
   {
    "duration": 8,
    "start_time": "2021-11-08T17:32:28.006Z"
   },
   {
    "duration": 7,
    "start_time": "2021-11-08T17:33:03.011Z"
   },
   {
    "duration": 7,
    "start_time": "2021-11-08T17:33:42.453Z"
   },
   {
    "duration": 6,
    "start_time": "2021-11-08T17:33:54.553Z"
   },
   {
    "duration": 426,
    "start_time": "2021-11-09T14:48:03.637Z"
   },
   {
    "duration": 1365,
    "start_time": "2021-11-09T14:48:15.229Z"
   },
   {
    "duration": 163,
    "start_time": "2021-11-09T14:48:16.597Z"
   },
   {
    "duration": 23,
    "start_time": "2021-11-09T14:48:16.762Z"
   },
   {
    "duration": 51,
    "start_time": "2021-11-09T14:48:16.788Z"
   },
   {
    "duration": 141,
    "start_time": "2021-11-09T14:48:16.842Z"
   },
   {
    "duration": 19,
    "start_time": "2021-11-09T14:48:16.985Z"
   },
   {
    "duration": 46,
    "start_time": "2021-11-09T14:48:17.006Z"
   },
   {
    "duration": 90,
    "start_time": "2021-11-09T14:48:17.056Z"
   },
   {
    "duration": 4,
    "start_time": "2021-11-09T14:48:17.149Z"
   },
   {
    "duration": 37,
    "start_time": "2021-11-09T14:48:17.155Z"
   },
   {
    "duration": 38,
    "start_time": "2021-11-09T14:48:17.194Z"
   },
   {
    "duration": 36,
    "start_time": "2021-11-09T14:48:17.234Z"
   },
   {
    "duration": 56,
    "start_time": "2021-11-09T14:48:17.272Z"
   },
   {
    "duration": 21,
    "start_time": "2021-11-09T14:48:17.330Z"
   },
   {
    "duration": 28,
    "start_time": "2021-11-09T14:48:17.353Z"
   },
   {
    "duration": 30,
    "start_time": "2021-11-09T14:48:17.384Z"
   },
   {
    "duration": 29,
    "start_time": "2021-11-09T14:48:17.417Z"
   },
   {
    "duration": 65,
    "start_time": "2021-11-09T14:48:17.449Z"
   },
   {
    "duration": 22,
    "start_time": "2021-11-09T14:48:17.517Z"
   },
   {
    "duration": 33,
    "start_time": "2021-11-09T14:48:17.542Z"
   },
   {
    "duration": 59,
    "start_time": "2021-11-09T14:48:17.577Z"
   },
   {
    "duration": 22,
    "start_time": "2021-11-09T14:48:17.638Z"
   },
   {
    "duration": 28,
    "start_time": "2021-11-09T14:48:17.666Z"
   },
   {
    "duration": 9,
    "start_time": "2021-11-09T14:48:17.697Z"
   },
   {
    "duration": 22,
    "start_time": "2021-11-09T14:48:17.708Z"
   },
   {
    "duration": 36,
    "start_time": "2021-11-09T14:48:17.732Z"
   },
   {
    "duration": 47,
    "start_time": "2021-11-09T14:48:17.771Z"
   },
   {
    "duration": 20,
    "start_time": "2021-11-09T14:48:17.821Z"
   },
   {
    "duration": 23,
    "start_time": "2021-11-09T14:48:17.844Z"
   },
   {
    "duration": 26,
    "start_time": "2021-11-09T14:48:17.869Z"
   },
   {
    "duration": 19,
    "start_time": "2021-11-09T14:48:17.897Z"
   },
   {
    "duration": 52,
    "start_time": "2021-11-09T14:48:17.919Z"
   },
   {
    "duration": 27,
    "start_time": "2021-11-09T14:48:17.974Z"
   },
   {
    "duration": 31,
    "start_time": "2021-11-09T14:48:18.004Z"
   },
   {
    "duration": 495,
    "start_time": "2021-11-09T14:48:18.037Z"
   },
   {
    "duration": 3,
    "start_time": "2021-11-09T14:48:18.535Z"
   },
   {
    "duration": 53,
    "start_time": "2021-11-09T14:48:18.540Z"
   },
   {
    "duration": 13,
    "start_time": "2021-11-09T14:48:18.596Z"
   },
   {
    "duration": 29,
    "start_time": "2021-11-09T14:48:18.612Z"
   },
   {
    "duration": 32,
    "start_time": "2021-11-09T14:48:18.643Z"
   },
   {
    "duration": 45,
    "start_time": "2021-11-09T14:48:18.677Z"
   },
   {
    "duration": 11,
    "start_time": "2021-11-09T14:48:18.725Z"
   },
   {
    "duration": 32,
    "start_time": "2021-11-09T14:48:18.738Z"
   },
   {
    "duration": 31,
    "start_time": "2021-11-09T14:48:18.773Z"
   },
   {
    "duration": 53,
    "start_time": "2021-11-09T14:48:18.806Z"
   },
   {
    "duration": 20,
    "start_time": "2021-11-09T14:48:18.861Z"
   },
   {
    "duration": 24,
    "start_time": "2021-11-09T14:48:18.883Z"
   },
   {
    "duration": 55,
    "start_time": "2021-11-09T14:48:18.910Z"
   },
   {
    "duration": 28,
    "start_time": "2021-11-09T14:48:18.967Z"
   },
   {
    "duration": 60,
    "start_time": "2021-11-09T14:48:18.998Z"
   },
   {
    "duration": 41,
    "start_time": "2021-11-09T14:48:19.060Z"
   },
   {
    "duration": 41,
    "start_time": "2021-11-09T14:48:19.104Z"
   },
   {
    "duration": 21,
    "start_time": "2021-11-09T14:48:19.148Z"
   },
   {
    "duration": 32,
    "start_time": "2021-11-09T14:48:19.171Z"
   },
   {
    "duration": 39,
    "start_time": "2021-11-09T14:48:19.205Z"
   },
   {
    "duration": 26,
    "start_time": "2021-11-09T14:48:19.246Z"
   },
   {
    "duration": 41,
    "start_time": "2021-11-09T14:48:19.274Z"
   },
   {
    "duration": 185,
    "start_time": "2021-11-09T14:48:19.317Z"
   },
   {
    "duration": 16,
    "start_time": "2021-11-09T14:48:19.504Z"
   },
   {
    "duration": 51,
    "start_time": "2021-11-09T14:48:19.529Z"
   },
   {
    "duration": 321,
    "start_time": "2021-11-09T14:48:19.582Z"
   },
   {
    "duration": 47,
    "start_time": "2021-11-09T14:48:19.906Z"
   },
   {
    "duration": 39,
    "start_time": "2021-11-09T14:48:19.956Z"
   },
   {
    "duration": 433,
    "start_time": "2021-11-09T14:48:19.997Z"
   },
   {
    "duration": 413,
    "start_time": "2021-11-09T14:48:20.433Z"
   },
   {
    "duration": 407,
    "start_time": "2021-11-09T14:48:20.848Z"
   },
   {
    "duration": 497,
    "start_time": "2021-11-09T14:48:21.258Z"
   },
   {
    "duration": 7,
    "start_time": "2021-11-09T14:48:21.762Z"
   },
   {
    "duration": 7,
    "start_time": "2021-11-09T14:48:21.772Z"
   },
   {
    "duration": 361,
    "start_time": "2021-11-09T14:48:21.781Z"
   },
   {
    "duration": 7,
    "start_time": "2021-11-09T14:48:22.144Z"
   },
   {
    "duration": 6,
    "start_time": "2021-11-09T14:48:22.154Z"
   },
   {
    "duration": 355,
    "start_time": "2021-11-09T14:48:22.163Z"
   },
   {
    "duration": 33,
    "start_time": "2021-11-09T14:48:22.521Z"
   },
   {
    "duration": 27,
    "start_time": "2021-11-09T14:48:22.557Z"
   },
   {
    "duration": 57,
    "start_time": "2021-11-09T14:48:22.586Z"
   },
   {
    "duration": 4,
    "start_time": "2021-11-09T14:48:22.645Z"
   },
   {
    "duration": 468,
    "start_time": "2021-11-09T14:48:22.651Z"
   },
   {
    "duration": 267,
    "start_time": "2021-11-09T14:48:22.854Z"
   },
   {
    "duration": 8,
    "start_time": "2021-11-09T14:49:41.823Z"
   },
   {
    "duration": 7,
    "start_time": "2021-11-09T14:53:33.610Z"
   },
   {
    "duration": 7,
    "start_time": "2021-11-09T14:53:48.909Z"
   },
   {
    "duration": 7,
    "start_time": "2021-11-09T14:54:08.066Z"
   },
   {
    "duration": 16,
    "start_time": "2021-11-09T15:07:36.698Z"
   },
   {
    "duration": 16,
    "start_time": "2021-11-09T15:07:46.869Z"
   },
   {
    "duration": 18,
    "start_time": "2021-11-09T15:08:39.338Z"
   },
   {
    "duration": 33,
    "start_time": "2021-11-09T15:08:44.540Z"
   },
   {
    "duration": 7,
    "start_time": "2021-11-09T15:09:11.024Z"
   },
   {
    "duration": 17,
    "start_time": "2021-11-09T15:09:22.370Z"
   },
   {
    "duration": 6,
    "start_time": "2021-11-09T15:09:40.116Z"
   },
   {
    "duration": 8,
    "start_time": "2021-11-09T15:09:59.674Z"
   },
   {
    "duration": 7,
    "start_time": "2021-11-09T15:10:08.463Z"
   },
   {
    "duration": 290,
    "start_time": "2021-11-09T15:24:48.571Z"
   },
   {
    "duration": 285,
    "start_time": "2021-11-09T15:25:11.386Z"
   },
   {
    "duration": 297,
    "start_time": "2021-11-09T15:26:50.470Z"
   },
   {
    "duration": 1353,
    "start_time": "2021-11-09T15:27:12.869Z"
   },
   {
    "duration": 165,
    "start_time": "2021-11-09T15:27:14.224Z"
   },
   {
    "duration": 37,
    "start_time": "2021-11-09T15:27:14.392Z"
   },
   {
    "duration": 49,
    "start_time": "2021-11-09T15:27:14.432Z"
   },
   {
    "duration": 150,
    "start_time": "2021-11-09T15:27:14.484Z"
   },
   {
    "duration": 17,
    "start_time": "2021-11-09T15:27:14.636Z"
   },
   {
    "duration": 35,
    "start_time": "2021-11-09T15:27:14.656Z"
   },
   {
    "duration": 93,
    "start_time": "2021-11-09T15:27:14.694Z"
   },
   {
    "duration": 3,
    "start_time": "2021-11-09T15:27:14.791Z"
   },
   {
    "duration": 34,
    "start_time": "2021-11-09T15:27:14.797Z"
   },
   {
    "duration": 50,
    "start_time": "2021-11-09T15:27:14.834Z"
   },
   {
    "duration": 36,
    "start_time": "2021-11-09T15:27:14.886Z"
   },
   {
    "duration": 51,
    "start_time": "2021-11-09T15:27:14.925Z"
   },
   {
    "duration": 18,
    "start_time": "2021-11-09T15:27:14.978Z"
   },
   {
    "duration": 39,
    "start_time": "2021-11-09T15:27:14.999Z"
   },
   {
    "duration": 25,
    "start_time": "2021-11-09T15:27:15.040Z"
   },
   {
    "duration": 31,
    "start_time": "2021-11-09T15:27:15.069Z"
   },
   {
    "duration": 53,
    "start_time": "2021-11-09T15:27:15.103Z"
   },
   {
    "duration": 18,
    "start_time": "2021-11-09T15:27:15.158Z"
   },
   {
    "duration": 53,
    "start_time": "2021-11-09T15:27:15.178Z"
   },
   {
    "duration": 55,
    "start_time": "2021-11-09T15:27:15.234Z"
   },
   {
    "duration": 45,
    "start_time": "2021-11-09T15:27:15.292Z"
   },
   {
    "duration": 32,
    "start_time": "2021-11-09T15:27:15.342Z"
   },
   {
    "duration": 14,
    "start_time": "2021-11-09T15:27:15.378Z"
   },
   {
    "duration": 30,
    "start_time": "2021-11-09T15:27:15.394Z"
   },
   {
    "duration": 48,
    "start_time": "2021-11-09T15:27:15.426Z"
   },
   {
    "duration": 67,
    "start_time": "2021-11-09T15:27:15.476Z"
   },
   {
    "duration": 28,
    "start_time": "2021-11-09T15:27:15.545Z"
   },
   {
    "duration": 20,
    "start_time": "2021-11-09T15:27:15.576Z"
   },
   {
    "duration": 18,
    "start_time": "2021-11-09T15:27:15.599Z"
   },
   {
    "duration": 26,
    "start_time": "2021-11-09T15:27:15.620Z"
   },
   {
    "duration": 37,
    "start_time": "2021-11-09T15:27:15.648Z"
   },
   {
    "duration": 44,
    "start_time": "2021-11-09T15:27:15.687Z"
   },
   {
    "duration": 31,
    "start_time": "2021-11-09T15:27:15.733Z"
   },
   {
    "duration": 477,
    "start_time": "2021-11-09T15:27:15.767Z"
   },
   {
    "duration": 2,
    "start_time": "2021-11-09T15:27:16.247Z"
   },
   {
    "duration": 51,
    "start_time": "2021-11-09T15:27:16.251Z"
   },
   {
    "duration": 16,
    "start_time": "2021-11-09T15:27:16.304Z"
   },
   {
    "duration": 34,
    "start_time": "2021-11-09T15:27:16.322Z"
   },
   {
    "duration": 4,
    "start_time": "2021-11-09T15:27:16.359Z"
   },
   {
    "duration": 41,
    "start_time": "2021-11-09T15:27:16.365Z"
   },
   {
    "duration": 10,
    "start_time": "2021-11-09T15:27:16.409Z"
   },
   {
    "duration": 18,
    "start_time": "2021-11-09T15:27:16.421Z"
   },
   {
    "duration": 13,
    "start_time": "2021-11-09T15:27:16.441Z"
   },
   {
    "duration": 44,
    "start_time": "2021-11-09T15:27:16.456Z"
   },
   {
    "duration": 17,
    "start_time": "2021-11-09T15:27:16.502Z"
   },
   {
    "duration": 12,
    "start_time": "2021-11-09T15:27:16.521Z"
   },
   {
    "duration": 31,
    "start_time": "2021-11-09T15:27:16.535Z"
   },
   {
    "duration": 21,
    "start_time": "2021-11-09T15:27:16.569Z"
   },
   {
    "duration": 22,
    "start_time": "2021-11-09T15:27:16.592Z"
   },
   {
    "duration": 23,
    "start_time": "2021-11-09T15:27:16.616Z"
   },
   {
    "duration": 9,
    "start_time": "2021-11-09T15:27:16.641Z"
   },
   {
    "duration": 10,
    "start_time": "2021-11-09T15:27:16.652Z"
   },
   {
    "duration": 9,
    "start_time": "2021-11-09T15:27:16.665Z"
   },
   {
    "duration": 17,
    "start_time": "2021-11-09T15:27:16.677Z"
   },
   {
    "duration": 12,
    "start_time": "2021-11-09T15:27:16.697Z"
   },
   {
    "duration": 8,
    "start_time": "2021-11-09T15:27:16.730Z"
   },
   {
    "duration": 172,
    "start_time": "2021-11-09T15:27:16.741Z"
   },
   {
    "duration": 20,
    "start_time": "2021-11-09T15:27:16.916Z"
   },
   {
    "duration": 36,
    "start_time": "2021-11-09T15:27:16.939Z"
   },
   {
    "duration": 328,
    "start_time": "2021-11-09T15:27:16.977Z"
   },
   {
    "duration": 46,
    "start_time": "2021-11-09T15:27:17.308Z"
   },
   {
    "duration": 36,
    "start_time": "2021-11-09T15:27:17.357Z"
   },
   {
    "duration": 417,
    "start_time": "2021-11-09T15:27:17.395Z"
   },
   {
    "duration": 429,
    "start_time": "2021-11-09T15:27:17.815Z"
   },
   {
    "duration": 406,
    "start_time": "2021-11-09T15:27:18.247Z"
   },
   {
    "duration": 499,
    "start_time": "2021-11-09T15:27:18.655Z"
   },
   {
    "duration": 8,
    "start_time": "2021-11-09T15:27:19.161Z"
   },
   {
    "duration": 9,
    "start_time": "2021-11-09T15:27:19.172Z"
   },
   {
    "duration": 361,
    "start_time": "2021-11-09T15:27:19.183Z"
   },
   {
    "duration": 7,
    "start_time": "2021-11-09T15:27:19.546Z"
   },
   {
    "duration": 10,
    "start_time": "2021-11-09T15:27:19.555Z"
   },
   {
    "duration": 347,
    "start_time": "2021-11-09T15:27:19.568Z"
   },
   {
    "duration": 34,
    "start_time": "2021-11-09T15:27:19.918Z"
   },
   {
    "duration": 33,
    "start_time": "2021-11-09T15:27:19.954Z"
   },
   {
    "duration": 48,
    "start_time": "2021-11-09T15:27:19.990Z"
   },
   {
    "duration": 5,
    "start_time": "2021-11-09T15:27:20.041Z"
   },
   {
    "duration": 11,
    "start_time": "2021-11-09T15:27:20.049Z"
   },
   {
    "duration": 15,
    "start_time": "2021-11-09T15:27:20.063Z"
   },
   {
    "duration": 55,
    "start_time": "2021-11-09T15:27:20.081Z"
   },
   {
    "duration": 10,
    "start_time": "2021-11-09T15:27:20.139Z"
   },
   {
    "duration": 15,
    "start_time": "2021-11-09T15:27:20.152Z"
   },
   {
    "duration": 9,
    "start_time": "2021-11-09T15:27:20.170Z"
   },
   {
    "duration": 430,
    "start_time": "2021-11-09T15:27:20.182Z"
   },
   {
    "duration": -171,
    "start_time": "2021-11-09T15:27:20.786Z"
   },
   {
    "duration": 4,
    "start_time": "2021-11-09T15:28:03.845Z"
   },
   {
    "duration": 487,
    "start_time": "2021-11-09T15:28:04.599Z"
   },
   {
    "duration": 3,
    "start_time": "2021-11-09T15:28:30.056Z"
   },
   {
    "duration": 482,
    "start_time": "2021-11-09T15:28:31.762Z"
   },
   {
    "duration": 528,
    "start_time": "2021-11-09T15:29:15.207Z"
   },
   {
    "duration": 484,
    "start_time": "2021-11-09T15:29:24.712Z"
   },
   {
    "duration": 3,
    "start_time": "2021-11-09T15:30:42.578Z"
   },
   {
    "duration": 4,
    "start_time": "2021-11-09T15:30:46.284Z"
   },
   {
    "duration": 6,
    "start_time": "2021-11-09T15:32:43.377Z"
   },
   {
    "duration": 6,
    "start_time": "2021-11-09T15:32:58.052Z"
   },
   {
    "duration": 6,
    "start_time": "2021-11-09T15:34:59.785Z"
   },
   {
    "duration": 6,
    "start_time": "2021-11-09T15:35:01.958Z"
   },
   {
    "duration": 499,
    "start_time": "2021-11-09T15:35:36.441Z"
   },
   {
    "duration": 6,
    "start_time": "2021-11-09T15:36:03.281Z"
   },
   {
    "duration": 576,
    "start_time": "2021-11-09T15:36:22.793Z"
   },
   {
    "duration": 1318,
    "start_time": "2021-11-09T15:37:39.884Z"
   },
   {
    "duration": 163,
    "start_time": "2021-11-09T15:37:41.205Z"
   },
   {
    "duration": 23,
    "start_time": "2021-11-09T15:37:41.371Z"
   },
   {
    "duration": 57,
    "start_time": "2021-11-09T15:37:41.397Z"
   },
   {
    "duration": 136,
    "start_time": "2021-11-09T15:37:41.456Z"
   },
   {
    "duration": 34,
    "start_time": "2021-11-09T15:37:41.595Z"
   },
   {
    "duration": 31,
    "start_time": "2021-11-09T15:37:41.632Z"
   },
   {
    "duration": 106,
    "start_time": "2021-11-09T15:37:41.668Z"
   },
   {
    "duration": 4,
    "start_time": "2021-11-09T15:37:41.778Z"
   },
   {
    "duration": 18,
    "start_time": "2021-11-09T15:37:41.786Z"
   },
   {
    "duration": 28,
    "start_time": "2021-11-09T15:37:41.829Z"
   },
   {
    "duration": 17,
    "start_time": "2021-11-09T15:37:41.859Z"
   },
   {
    "duration": 43,
    "start_time": "2021-11-09T15:37:41.878Z"
   },
   {
    "duration": 4,
    "start_time": "2021-11-09T15:37:41.924Z"
   },
   {
    "duration": 17,
    "start_time": "2021-11-09T15:37:41.932Z"
   },
   {
    "duration": 12,
    "start_time": "2021-11-09T15:37:41.951Z"
   },
   {
    "duration": 18,
    "start_time": "2021-11-09T15:37:41.966Z"
   },
   {
    "duration": 54,
    "start_time": "2021-11-09T15:37:41.986Z"
   },
   {
    "duration": 4,
    "start_time": "2021-11-09T15:37:42.044Z"
   },
   {
    "duration": 38,
    "start_time": "2021-11-09T15:37:42.050Z"
   },
   {
    "duration": 49,
    "start_time": "2021-11-09T15:37:42.090Z"
   },
   {
    "duration": 22,
    "start_time": "2021-11-09T15:37:42.142Z"
   },
   {
    "duration": 28,
    "start_time": "2021-11-09T15:37:42.175Z"
   },
   {
    "duration": 9,
    "start_time": "2021-11-09T15:37:42.229Z"
   },
   {
    "duration": 10,
    "start_time": "2021-11-09T15:37:42.241Z"
   },
   {
    "duration": 14,
    "start_time": "2021-11-09T15:37:42.253Z"
   },
   {
    "duration": 28,
    "start_time": "2021-11-09T15:37:42.269Z"
   },
   {
    "duration": 43,
    "start_time": "2021-11-09T15:37:42.299Z"
   },
   {
    "duration": 15,
    "start_time": "2021-11-09T15:37:42.345Z"
   },
   {
    "duration": 5,
    "start_time": "2021-11-09T15:37:42.362Z"
   },
   {
    "duration": 9,
    "start_time": "2021-11-09T15:37:42.370Z"
   },
   {
    "duration": 49,
    "start_time": "2021-11-09T15:37:42.381Z"
   },
   {
    "duration": 17,
    "start_time": "2021-11-09T15:37:42.434Z"
   },
   {
    "duration": 14,
    "start_time": "2021-11-09T15:37:42.454Z"
   },
   {
    "duration": 792,
    "start_time": "2021-11-09T15:37:42.471Z"
   },
   {
    "duration": 4,
    "start_time": "2021-11-09T15:37:43.266Z"
   },
   {
    "duration": 67,
    "start_time": "2021-11-09T15:37:43.273Z"
   },
   {
    "duration": 12,
    "start_time": "2021-11-09T15:37:43.343Z"
   },
   {
    "duration": 22,
    "start_time": "2021-11-09T15:37:43.357Z"
   },
   {
    "duration": 2,
    "start_time": "2021-11-09T15:37:43.382Z"
   },
   {
    "duration": 54,
    "start_time": "2021-11-09T15:37:43.386Z"
   },
   {
    "duration": 11,
    "start_time": "2021-11-09T15:37:43.442Z"
   },
   {
    "duration": 21,
    "start_time": "2021-11-09T15:37:43.456Z"
   },
   {
    "duration": 4,
    "start_time": "2021-11-09T15:37:43.479Z"
   },
   {
    "duration": 57,
    "start_time": "2021-11-09T15:37:43.485Z"
   },
   {
    "duration": 18,
    "start_time": "2021-11-09T15:37:43.544Z"
   },
   {
    "duration": 17,
    "start_time": "2021-11-09T15:37:43.565Z"
   },
   {
    "duration": 30,
    "start_time": "2021-11-09T15:37:43.585Z"
   },
   {
    "duration": 20,
    "start_time": "2021-11-09T15:37:43.630Z"
   },
   {
    "duration": 17,
    "start_time": "2021-11-09T15:37:43.653Z"
   },
   {
    "duration": 25,
    "start_time": "2021-11-09T15:37:43.673Z"
   },
   {
    "duration": 15,
    "start_time": "2021-11-09T15:37:43.700Z"
   },
   {
    "duration": 5,
    "start_time": "2021-11-09T15:37:43.729Z"
   },
   {
    "duration": 10,
    "start_time": "2021-11-09T15:37:43.737Z"
   },
   {
    "duration": 21,
    "start_time": "2021-11-09T15:37:43.749Z"
   },
   {
    "duration": 9,
    "start_time": "2021-11-09T15:37:43.772Z"
   },
   {
    "duration": 8,
    "start_time": "2021-11-09T15:37:43.783Z"
   },
   {
    "duration": 181,
    "start_time": "2021-11-09T15:37:43.793Z"
   },
   {
    "duration": 15,
    "start_time": "2021-11-09T15:37:43.976Z"
   },
   {
    "duration": 52,
    "start_time": "2021-11-09T15:37:43.993Z"
   },
   {
    "duration": 426,
    "start_time": "2021-11-09T15:37:44.048Z"
   },
   {
    "duration": 37,
    "start_time": "2021-11-09T15:37:44.476Z"
   },
   {
    "duration": 48,
    "start_time": "2021-11-09T15:37:44.515Z"
   },
   {
    "duration": 438,
    "start_time": "2021-11-09T15:37:44.566Z"
   },
   {
    "duration": 436,
    "start_time": "2021-11-09T15:37:45.007Z"
   },
   {
    "duration": 439,
    "start_time": "2021-11-09T15:37:45.446Z"
   },
   {
    "duration": 518,
    "start_time": "2021-11-09T15:37:45.888Z"
   },
   {
    "duration": 17,
    "start_time": "2021-11-09T15:37:46.417Z"
   },
   {
    "duration": 9,
    "start_time": "2021-11-09T15:37:46.438Z"
   },
   {
    "duration": 392,
    "start_time": "2021-11-09T15:37:46.450Z"
   },
   {
    "duration": 7,
    "start_time": "2021-11-09T15:37:46.844Z"
   },
   {
    "duration": 6,
    "start_time": "2021-11-09T15:37:46.855Z"
   },
   {
    "duration": 368,
    "start_time": "2021-11-09T15:37:46.864Z"
   },
   {
    "duration": 39,
    "start_time": "2021-11-09T15:37:47.235Z"
   },
   {
    "duration": 66,
    "start_time": "2021-11-09T15:37:47.278Z"
   },
   {
    "duration": 39,
    "start_time": "2021-11-09T15:37:47.347Z"
   },
   {
    "duration": 5,
    "start_time": "2021-11-09T15:37:47.389Z"
   },
   {
    "duration": 39,
    "start_time": "2021-11-09T15:37:47.396Z"
   },
   {
    "duration": 21,
    "start_time": "2021-11-09T15:37:47.438Z"
   },
   {
    "duration": 22,
    "start_time": "2021-11-09T15:37:47.462Z"
   },
   {
    "duration": 46,
    "start_time": "2021-11-09T15:37:47.487Z"
   },
   {
    "duration": 26,
    "start_time": "2021-11-09T15:37:47.536Z"
   },
   {
    "duration": 17,
    "start_time": "2021-11-09T15:37:47.565Z"
   },
   {
    "duration": 10,
    "start_time": "2021-11-09T15:37:47.584Z"
   },
   {
    "duration": 9,
    "start_time": "2021-11-09T15:37:47.596Z"
   },
   {
    "duration": 23,
    "start_time": "2021-11-09T15:37:47.607Z"
   },
   {
    "duration": 696,
    "start_time": "2021-11-09T15:37:47.632Z"
   },
   {
    "duration": 507,
    "start_time": "2021-11-09T15:39:06.342Z"
   },
   {
    "duration": 8,
    "start_time": "2021-11-09T15:40:53.189Z"
   },
   {
    "duration": 7,
    "start_time": "2021-11-09T15:42:21.456Z"
   },
   {
    "duration": 7,
    "start_time": "2021-11-09T15:42:40.599Z"
   },
   {
    "duration": 6,
    "start_time": "2021-11-09T15:57:39.676Z"
   },
   {
    "duration": 7,
    "start_time": "2021-11-09T15:57:42.333Z"
   },
   {
    "duration": 9,
    "start_time": "2021-11-09T17:09:23.427Z"
   },
   {
    "duration": 6,
    "start_time": "2021-11-09T17:09:43.932Z"
   },
   {
    "duration": 4,
    "start_time": "2021-11-09T17:14:48.636Z"
   },
   {
    "duration": 539,
    "start_time": "2021-11-09T17:16:17.802Z"
   },
   {
    "duration": 1426,
    "start_time": "2021-11-09T17:21:43.471Z"
   },
   {
    "duration": 166,
    "start_time": "2021-11-09T17:21:44.900Z"
   },
   {
    "duration": 21,
    "start_time": "2021-11-09T17:21:45.070Z"
   },
   {
    "duration": 58,
    "start_time": "2021-11-09T17:21:45.094Z"
   },
   {
    "duration": 146,
    "start_time": "2021-11-09T17:21:45.155Z"
   },
   {
    "duration": 32,
    "start_time": "2021-11-09T17:21:45.304Z"
   },
   {
    "duration": 30,
    "start_time": "2021-11-09T17:21:45.338Z"
   },
   {
    "duration": 93,
    "start_time": "2021-11-09T17:21:45.371Z"
   },
   {
    "duration": 3,
    "start_time": "2021-11-09T17:21:45.467Z"
   },
   {
    "duration": 18,
    "start_time": "2021-11-09T17:21:45.473Z"
   },
   {
    "duration": 43,
    "start_time": "2021-11-09T17:21:45.494Z"
   },
   {
    "duration": 10,
    "start_time": "2021-11-09T17:21:45.539Z"
   },
   {
    "duration": 40,
    "start_time": "2021-11-09T17:21:45.551Z"
   },
   {
    "duration": 3,
    "start_time": "2021-11-09T17:21:45.594Z"
   },
   {
    "duration": 31,
    "start_time": "2021-11-09T17:21:45.599Z"
   },
   {
    "duration": 19,
    "start_time": "2021-11-09T17:21:45.632Z"
   },
   {
    "duration": 29,
    "start_time": "2021-11-09T17:21:45.653Z"
   },
   {
    "duration": 30,
    "start_time": "2021-11-09T17:21:45.684Z"
   },
   {
    "duration": 21,
    "start_time": "2021-11-09T17:21:45.716Z"
   },
   {
    "duration": 39,
    "start_time": "2021-11-09T17:21:45.740Z"
   },
   {
    "duration": 31,
    "start_time": "2021-11-09T17:21:45.781Z"
   },
   {
    "duration": 33,
    "start_time": "2021-11-09T17:21:45.815Z"
   },
   {
    "duration": 19,
    "start_time": "2021-11-09T17:21:45.856Z"
   },
   {
    "duration": 6,
    "start_time": "2021-11-09T17:21:45.881Z"
   },
   {
    "duration": 42,
    "start_time": "2021-11-09T17:21:45.890Z"
   },
   {
    "duration": 29,
    "start_time": "2021-11-09T17:21:45.934Z"
   },
   {
    "duration": 35,
    "start_time": "2021-11-09T17:21:45.966Z"
   },
   {
    "duration": 21,
    "start_time": "2021-11-09T17:21:46.003Z"
   },
   {
    "duration": 15,
    "start_time": "2021-11-09T17:21:46.028Z"
   },
   {
    "duration": 5,
    "start_time": "2021-11-09T17:21:46.045Z"
   },
   {
    "duration": 8,
    "start_time": "2021-11-09T17:21:46.052Z"
   },
   {
    "duration": 20,
    "start_time": "2021-11-09T17:21:46.063Z"
   },
   {
    "duration": 46,
    "start_time": "2021-11-09T17:21:46.085Z"
   },
   {
    "duration": 16,
    "start_time": "2021-11-09T17:21:46.134Z"
   },
   {
    "duration": 477,
    "start_time": "2021-11-09T17:21:46.153Z"
   },
   {
    "duration": 3,
    "start_time": "2021-11-09T17:21:46.634Z"
   },
   {
    "duration": 32,
    "start_time": "2021-11-09T17:21:46.640Z"
   },
   {
    "duration": 12,
    "start_time": "2021-11-09T17:21:46.675Z"
   },
   {
    "duration": 51,
    "start_time": "2021-11-09T17:21:46.691Z"
   },
   {
    "duration": 3,
    "start_time": "2021-11-09T17:21:46.745Z"
   },
   {
    "duration": 27,
    "start_time": "2021-11-09T17:21:46.751Z"
   },
   {
    "duration": 50,
    "start_time": "2021-11-09T17:21:46.781Z"
   },
   {
    "duration": 18,
    "start_time": "2021-11-09T17:21:46.835Z"
   },
   {
    "duration": 5,
    "start_time": "2021-11-09T17:21:46.856Z"
   },
   {
    "duration": 31,
    "start_time": "2021-11-09T17:21:46.863Z"
   },
   {
    "duration": 45,
    "start_time": "2021-11-09T17:21:46.897Z"
   },
   {
    "duration": 8,
    "start_time": "2021-11-09T17:21:46.944Z"
   },
   {
    "duration": 26,
    "start_time": "2021-11-09T17:21:46.954Z"
   },
   {
    "duration": 47,
    "start_time": "2021-11-09T17:21:46.983Z"
   },
   {
    "duration": 13,
    "start_time": "2021-11-09T17:21:47.033Z"
   },
   {
    "duration": 13,
    "start_time": "2021-11-09T17:21:47.048Z"
   },
   {
    "duration": 13,
    "start_time": "2021-11-09T17:21:47.063Z"
   },
   {
    "duration": 5,
    "start_time": "2021-11-09T17:21:47.078Z"
   },
   {
    "duration": 7,
    "start_time": "2021-11-09T17:21:47.085Z"
   },
   {
    "duration": 43,
    "start_time": "2021-11-09T17:21:47.094Z"
   },
   {
    "duration": 8,
    "start_time": "2021-11-09T17:21:47.139Z"
   },
   {
    "duration": 8,
    "start_time": "2021-11-09T17:21:47.149Z"
   },
   {
    "duration": 180,
    "start_time": "2021-11-09T17:21:47.159Z"
   },
   {
    "duration": 15,
    "start_time": "2021-11-09T17:21:47.342Z"
   },
   {
    "duration": 37,
    "start_time": "2021-11-09T17:21:47.359Z"
   },
   {
    "duration": 340,
    "start_time": "2021-11-09T17:21:47.398Z"
   },
   {
    "duration": 37,
    "start_time": "2021-11-09T17:21:47.740Z"
   },
   {
    "duration": 60,
    "start_time": "2021-11-09T17:21:47.779Z"
   },
   {
    "duration": 418,
    "start_time": "2021-11-09T17:21:47.841Z"
   },
   {
    "duration": 423,
    "start_time": "2021-11-09T17:21:48.262Z"
   },
   {
    "duration": 412,
    "start_time": "2021-11-09T17:21:48.687Z"
   },
   {
    "duration": 524,
    "start_time": "2021-11-09T17:21:49.101Z"
   },
   {
    "duration": 7,
    "start_time": "2021-11-09T17:21:49.633Z"
   },
   {
    "duration": 10,
    "start_time": "2021-11-09T17:21:49.644Z"
   },
   {
    "duration": 375,
    "start_time": "2021-11-09T17:21:49.657Z"
   },
   {
    "duration": 7,
    "start_time": "2021-11-09T17:21:50.034Z"
   },
   {
    "duration": 18,
    "start_time": "2021-11-09T17:21:50.043Z"
   },
   {
    "duration": 371,
    "start_time": "2021-11-09T17:21:50.064Z"
   },
   {
    "duration": 27,
    "start_time": "2021-11-09T17:21:50.437Z"
   },
   {
    "duration": 36,
    "start_time": "2021-11-09T17:21:50.466Z"
   },
   {
    "duration": 43,
    "start_time": "2021-11-09T17:21:50.505Z"
   },
   {
    "duration": 16,
    "start_time": "2021-11-09T17:21:50.550Z"
   },
   {
    "duration": 25,
    "start_time": "2021-11-09T17:21:50.568Z"
   },
   {
    "duration": 36,
    "start_time": "2021-11-09T17:21:50.595Z"
   },
   {
    "duration": 50,
    "start_time": "2021-11-09T17:21:50.633Z"
   },
   {
    "duration": 25,
    "start_time": "2021-11-09T17:21:50.686Z"
   },
   {
    "duration": 26,
    "start_time": "2021-11-09T17:21:50.714Z"
   },
   {
    "duration": 23,
    "start_time": "2021-11-09T17:21:50.742Z"
   },
   {
    "duration": 14,
    "start_time": "2021-11-09T17:21:50.767Z"
   },
   {
    "duration": 20,
    "start_time": "2021-11-09T17:21:50.783Z"
   },
   {
    "duration": 20,
    "start_time": "2021-11-09T17:21:50.805Z"
   },
   {
    "duration": 14,
    "start_time": "2021-11-09T17:21:50.827Z"
   },
   {
    "duration": 6,
    "start_time": "2021-11-09T17:21:50.843Z"
   },
   {
    "duration": 22,
    "start_time": "2021-11-09T17:21:50.851Z"
   },
   {
    "duration": 1396,
    "start_time": "2021-11-09T17:53:03.936Z"
   },
   {
    "duration": 169,
    "start_time": "2021-11-09T17:53:05.335Z"
   },
   {
    "duration": 29,
    "start_time": "2021-11-09T17:53:05.507Z"
   },
   {
    "duration": 29,
    "start_time": "2021-11-09T17:53:05.539Z"
   },
   {
    "duration": 154,
    "start_time": "2021-11-09T17:53:05.570Z"
   },
   {
    "duration": 18,
    "start_time": "2021-11-09T17:53:05.727Z"
   },
   {
    "duration": 36,
    "start_time": "2021-11-09T17:53:05.747Z"
   },
   {
    "duration": 97,
    "start_time": "2021-11-09T17:53:05.787Z"
   },
   {
    "duration": 3,
    "start_time": "2021-11-09T17:53:05.887Z"
   },
   {
    "duration": 19,
    "start_time": "2021-11-09T17:53:05.892Z"
   },
   {
    "duration": 27,
    "start_time": "2021-11-09T17:53:05.930Z"
   },
   {
    "duration": 13,
    "start_time": "2021-11-09T17:53:05.960Z"
   },
   {
    "duration": 39,
    "start_time": "2021-11-09T17:53:05.975Z"
   },
   {
    "duration": 12,
    "start_time": "2021-11-09T17:53:06.017Z"
   },
   {
    "duration": 15,
    "start_time": "2021-11-09T17:53:06.032Z"
   },
   {
    "duration": 9,
    "start_time": "2021-11-09T17:53:06.050Z"
   },
   {
    "duration": 11,
    "start_time": "2021-11-09T17:53:06.062Z"
   },
   {
    "duration": 65,
    "start_time": "2021-11-09T17:53:06.076Z"
   },
   {
    "duration": 2,
    "start_time": "2021-11-09T17:53:06.144Z"
   },
   {
    "duration": 33,
    "start_time": "2021-11-09T17:53:06.149Z"
   },
   {
    "duration": 50,
    "start_time": "2021-11-09T17:53:06.184Z"
   },
   {
    "duration": 23,
    "start_time": "2021-11-09T17:53:06.237Z"
   },
   {
    "duration": 17,
    "start_time": "2021-11-09T17:53:06.266Z"
   },
   {
    "duration": 6,
    "start_time": "2021-11-09T17:53:06.287Z"
   },
   {
    "duration": 34,
    "start_time": "2021-11-09T17:53:06.295Z"
   },
   {
    "duration": 17,
    "start_time": "2021-11-09T17:53:06.332Z"
   },
   {
    "duration": 28,
    "start_time": "2021-11-09T17:53:06.352Z"
   },
   {
    "duration": 19,
    "start_time": "2021-11-09T17:53:06.382Z"
   },
   {
    "duration": 35,
    "start_time": "2021-11-09T17:53:06.404Z"
   },
   {
    "duration": 5,
    "start_time": "2021-11-09T17:53:06.442Z"
   },
   {
    "duration": 8,
    "start_time": "2021-11-09T17:53:06.449Z"
   },
   {
    "duration": 21,
    "start_time": "2021-11-09T17:53:06.459Z"
   },
   {
    "duration": 47,
    "start_time": "2021-11-09T17:53:06.482Z"
   },
   {
    "duration": 8,
    "start_time": "2021-11-09T17:53:06.532Z"
   },
   {
    "duration": 488,
    "start_time": "2021-11-09T17:53:06.542Z"
   },
   {
    "duration": 3,
    "start_time": "2021-11-09T17:53:07.032Z"
   },
   {
    "duration": 35,
    "start_time": "2021-11-09T17:53:07.037Z"
   },
   {
    "duration": 11,
    "start_time": "2021-11-09T17:53:07.074Z"
   },
   {
    "duration": 47,
    "start_time": "2021-11-09T17:53:07.088Z"
   },
   {
    "duration": 7,
    "start_time": "2021-11-09T17:53:07.137Z"
   },
   {
    "duration": 28,
    "start_time": "2021-11-09T17:53:07.146Z"
   },
   {
    "duration": 13,
    "start_time": "2021-11-09T17:53:07.176Z"
   },
   {
    "duration": 46,
    "start_time": "2021-11-09T17:53:07.191Z"
   },
   {
    "duration": 4,
    "start_time": "2021-11-09T17:53:07.239Z"
   },
   {
    "duration": 39,
    "start_time": "2021-11-09T17:53:07.246Z"
   },
   {
    "duration": 17,
    "start_time": "2021-11-09T17:53:07.287Z"
   },
   {
    "duration": 4,
    "start_time": "2021-11-09T17:53:07.329Z"
   },
   {
    "duration": 30,
    "start_time": "2021-11-09T17:53:07.336Z"
   },
   {
    "duration": 22,
    "start_time": "2021-11-09T17:53:07.368Z"
   },
   {
    "duration": 48,
    "start_time": "2021-11-09T17:53:07.393Z"
   },
   {
    "duration": 14,
    "start_time": "2021-11-09T17:53:07.444Z"
   },
   {
    "duration": 13,
    "start_time": "2021-11-09T17:53:07.461Z"
   },
   {
    "duration": 7,
    "start_time": "2021-11-09T17:53:07.478Z"
   },
   {
    "duration": 10,
    "start_time": "2021-11-09T17:53:07.488Z"
   },
   {
    "duration": 16,
    "start_time": "2021-11-09T17:53:07.529Z"
   },
   {
    "duration": 7,
    "start_time": "2021-11-09T17:53:07.547Z"
   },
   {
    "duration": 16,
    "start_time": "2021-11-09T17:53:07.556Z"
   },
   {
    "duration": 180,
    "start_time": "2021-11-09T17:53:07.574Z"
   },
   {
    "duration": 16,
    "start_time": "2021-11-09T17:53:07.756Z"
   },
   {
    "duration": 56,
    "start_time": "2021-11-09T17:53:07.774Z"
   },
   {
    "duration": 327,
    "start_time": "2021-11-09T17:53:07.832Z"
   },
   {
    "duration": 38,
    "start_time": "2021-11-09T17:53:08.162Z"
   },
   {
    "duration": 63,
    "start_time": "2021-11-09T17:53:08.202Z"
   },
   {
    "duration": 506,
    "start_time": "2021-11-09T17:53:08.268Z"
   },
   {
    "duration": 401,
    "start_time": "2021-11-09T17:53:08.776Z"
   },
   {
    "duration": 399,
    "start_time": "2021-11-09T17:53:09.180Z"
   },
   {
    "duration": 508,
    "start_time": "2021-11-09T17:53:09.581Z"
   },
   {
    "duration": 8,
    "start_time": "2021-11-09T17:53:10.097Z"
   },
   {
    "duration": 23,
    "start_time": "2021-11-09T17:53:10.108Z"
   },
   {
    "duration": 355,
    "start_time": "2021-11-09T17:53:10.133Z"
   },
   {
    "duration": 7,
    "start_time": "2021-11-09T17:53:10.491Z"
   },
   {
    "duration": 29,
    "start_time": "2021-11-09T17:53:10.500Z"
   },
   {
    "duration": 339,
    "start_time": "2021-11-09T17:53:10.531Z"
   },
   {
    "duration": 26,
    "start_time": "2021-11-09T17:53:10.873Z"
   },
   {
    "duration": 46,
    "start_time": "2021-11-09T17:53:10.902Z"
   },
   {
    "duration": 29,
    "start_time": "2021-11-09T17:53:10.951Z"
   },
   {
    "duration": 26,
    "start_time": "2021-11-09T17:53:10.982Z"
   },
   {
    "duration": 21,
    "start_time": "2021-11-09T17:53:11.010Z"
   },
   {
    "duration": 23,
    "start_time": "2021-11-09T17:53:11.033Z"
   },
   {
    "duration": 20,
    "start_time": "2021-11-09T17:53:11.058Z"
   },
   {
    "duration": 12,
    "start_time": "2021-11-09T17:53:11.081Z"
   },
   {
    "duration": 19,
    "start_time": "2021-11-09T17:53:11.096Z"
   },
   {
    "duration": 9,
    "start_time": "2021-11-09T17:53:11.130Z"
   },
   {
    "duration": 7,
    "start_time": "2021-11-09T17:53:11.142Z"
   },
   {
    "duration": 6,
    "start_time": "2021-11-09T17:53:11.152Z"
   },
   {
    "duration": 6,
    "start_time": "2021-11-09T17:53:11.161Z"
   },
   {
    "duration": 7,
    "start_time": "2021-11-09T17:53:11.169Z"
   },
   {
    "duration": 9,
    "start_time": "2021-11-09T17:53:11.178Z"
   },
   {
    "duration": 43,
    "start_time": "2021-11-09T17:53:11.190Z"
   },
   {
    "duration": 19,
    "start_time": "2021-11-09T17:53:37.670Z"
   },
   {
    "duration": 1373,
    "start_time": "2021-11-09T22:14:24.424Z"
   },
   {
    "duration": 166,
    "start_time": "2021-11-09T22:14:25.799Z"
   },
   {
    "duration": 20,
    "start_time": "2021-11-09T22:14:25.968Z"
   },
   {
    "duration": 57,
    "start_time": "2021-11-09T22:14:25.991Z"
   },
   {
    "duration": 133,
    "start_time": "2021-11-09T22:14:26.050Z"
   },
   {
    "duration": 17,
    "start_time": "2021-11-09T22:14:26.185Z"
   },
   {
    "duration": 45,
    "start_time": "2021-11-09T22:14:26.205Z"
   },
   {
    "duration": 89,
    "start_time": "2021-11-09T22:14:26.254Z"
   },
   {
    "duration": 3,
    "start_time": "2021-11-09T22:14:26.346Z"
   },
   {
    "duration": 23,
    "start_time": "2021-11-09T22:14:26.351Z"
   },
   {
    "duration": 25,
    "start_time": "2021-11-09T22:14:26.377Z"
   },
   {
    "duration": 29,
    "start_time": "2021-11-09T22:14:26.405Z"
   },
   {
    "duration": 43,
    "start_time": "2021-11-09T22:14:26.436Z"
   },
   {
    "duration": 4,
    "start_time": "2021-11-09T22:14:26.483Z"
   },
   {
    "duration": 16,
    "start_time": "2021-11-09T22:14:26.490Z"
   },
   {
    "duration": 22,
    "start_time": "2021-11-09T22:14:26.509Z"
   },
   {
    "duration": 10,
    "start_time": "2021-11-09T22:14:26.534Z"
   },
   {
    "duration": 24,
    "start_time": "2021-11-09T22:14:26.547Z"
   },
   {
    "duration": 4,
    "start_time": "2021-11-09T22:14:26.574Z"
   },
   {
    "duration": 61,
    "start_time": "2021-11-09T22:14:26.580Z"
   },
   {
    "duration": 33,
    "start_time": "2021-11-09T22:14:26.643Z"
   },
   {
    "duration": 23,
    "start_time": "2021-11-09T22:14:26.678Z"
   },
   {
    "duration": 39,
    "start_time": "2021-11-09T22:14:26.707Z"
   },
   {
    "duration": 6,
    "start_time": "2021-11-09T22:14:26.750Z"
   },
   {
    "duration": 10,
    "start_time": "2021-11-09T22:14:26.759Z"
   },
   {
    "duration": 15,
    "start_time": "2021-11-09T22:14:26.771Z"
   },
   {
    "duration": 58,
    "start_time": "2021-11-09T22:14:26.789Z"
   },
   {
    "duration": 21,
    "start_time": "2021-11-09T22:14:26.850Z"
   },
   {
    "duration": 17,
    "start_time": "2021-11-09T22:14:26.873Z"
   },
   {
    "duration": 37,
    "start_time": "2021-11-09T22:14:26.892Z"
   },
   {
    "duration": 14,
    "start_time": "2021-11-09T22:14:26.932Z"
   },
   {
    "duration": 29,
    "start_time": "2021-11-09T22:14:26.948Z"
   },
   {
    "duration": 19,
    "start_time": "2021-11-09T22:14:26.980Z"
   },
   {
    "duration": 32,
    "start_time": "2021-11-09T22:14:27.002Z"
   },
   {
    "duration": 493,
    "start_time": "2021-11-09T22:14:27.037Z"
   },
   {
    "duration": 3,
    "start_time": "2021-11-09T22:14:27.532Z"
   },
   {
    "duration": 49,
    "start_time": "2021-11-09T22:14:27.537Z"
   },
   {
    "duration": 12,
    "start_time": "2021-11-09T22:14:27.588Z"
   },
   {
    "duration": 29,
    "start_time": "2021-11-09T22:14:27.602Z"
   },
   {
    "duration": 3,
    "start_time": "2021-11-09T22:14:27.633Z"
   },
   {
    "duration": 29,
    "start_time": "2021-11-09T22:14:27.638Z"
   },
   {
    "duration": 11,
    "start_time": "2021-11-09T22:14:27.669Z"
   },
   {
    "duration": 14,
    "start_time": "2021-11-09T22:14:27.682Z"
   },
   {
    "duration": 4,
    "start_time": "2021-11-09T22:14:27.730Z"
   },
   {
    "duration": 34,
    "start_time": "2021-11-09T22:14:27.737Z"
   },
   {
    "duration": 20,
    "start_time": "2021-11-09T22:14:27.774Z"
   },
   {
    "duration": 32,
    "start_time": "2021-11-09T22:14:27.797Z"
   },
   {
    "duration": 29,
    "start_time": "2021-11-09T22:14:27.832Z"
   },
   {
    "duration": 23,
    "start_time": "2021-11-09T22:14:27.863Z"
   },
   {
    "duration": 48,
    "start_time": "2021-11-09T22:14:27.890Z"
   },
   {
    "duration": 22,
    "start_time": "2021-11-09T22:14:27.941Z"
   },
   {
    "duration": 20,
    "start_time": "2021-11-09T22:14:27.966Z"
   },
   {
    "duration": 12,
    "start_time": "2021-11-09T22:14:27.988Z"
   },
   {
    "duration": 9,
    "start_time": "2021-11-09T22:14:28.003Z"
   },
   {
    "duration": 24,
    "start_time": "2021-11-09T22:14:28.014Z"
   },
   {
    "duration": 14,
    "start_time": "2021-11-09T22:14:28.041Z"
   },
   {
    "duration": 8,
    "start_time": "2021-11-09T22:14:28.058Z"
   },
   {
    "duration": 175,
    "start_time": "2021-11-09T22:14:28.069Z"
   },
   {
    "duration": 16,
    "start_time": "2021-11-09T22:14:28.246Z"
   },
   {
    "duration": 36,
    "start_time": "2021-11-09T22:14:28.264Z"
   },
   {
    "duration": 335,
    "start_time": "2021-11-09T22:14:28.303Z"
   },
   {
    "duration": 39,
    "start_time": "2021-11-09T22:14:28.640Z"
   },
   {
    "duration": 66,
    "start_time": "2021-11-09T22:14:28.682Z"
   },
   {
    "duration": 404,
    "start_time": "2021-11-09T22:14:28.751Z"
   },
   {
    "duration": 392,
    "start_time": "2021-11-09T22:14:29.157Z"
   },
   {
    "duration": 396,
    "start_time": "2021-11-09T22:14:29.551Z"
   },
   {
    "duration": 475,
    "start_time": "2021-11-09T22:14:29.949Z"
   },
   {
    "duration": 7,
    "start_time": "2021-11-09T22:14:30.435Z"
   },
   {
    "duration": 20,
    "start_time": "2021-11-09T22:14:30.444Z"
   },
   {
    "duration": 351,
    "start_time": "2021-11-09T22:14:30.467Z"
   },
   {
    "duration": 11,
    "start_time": "2021-11-09T22:14:30.821Z"
   },
   {
    "duration": 33,
    "start_time": "2021-11-09T22:14:30.834Z"
   },
   {
    "duration": 353,
    "start_time": "2021-11-09T22:14:30.869Z"
   },
   {
    "duration": 26,
    "start_time": "2021-11-09T22:14:31.228Z"
   },
   {
    "duration": 25,
    "start_time": "2021-11-09T22:14:31.257Z"
   },
   {
    "duration": 53,
    "start_time": "2021-11-09T22:14:31.285Z"
   },
   {
    "duration": 4,
    "start_time": "2021-11-09T22:14:31.340Z"
   },
   {
    "duration": 14,
    "start_time": "2021-11-09T22:14:31.346Z"
   },
   {
    "duration": 27,
    "start_time": "2021-11-09T22:14:31.363Z"
   },
   {
    "duration": 16,
    "start_time": "2021-11-09T22:14:31.392Z"
   },
   {
    "duration": 7,
    "start_time": "2021-11-09T22:14:31.429Z"
   },
   {
    "duration": 11,
    "start_time": "2021-11-09T22:14:31.439Z"
   },
   {
    "duration": 17,
    "start_time": "2021-11-09T22:14:31.452Z"
   },
   {
    "duration": 24,
    "start_time": "2021-11-09T22:14:31.471Z"
   },
   {
    "duration": 15,
    "start_time": "2021-11-09T22:14:31.497Z"
   },
   {
    "duration": 17,
    "start_time": "2021-11-09T22:14:31.515Z"
   },
   {
    "duration": 13,
    "start_time": "2021-11-09T22:14:31.534Z"
   },
   {
    "duration": 13,
    "start_time": "2021-11-09T22:14:31.549Z"
   },
   {
    "duration": 18,
    "start_time": "2021-11-09T22:14:31.564Z"
   },
   {
    "duration": 17,
    "start_time": "2021-11-09T22:20:18.708Z"
   },
   {
    "duration": 124,
    "start_time": "2021-11-09T22:20:56.980Z"
   },
   {
    "duration": 38,
    "start_time": "2021-11-09T22:22:49.177Z"
   },
   {
    "duration": 6,
    "start_time": "2021-11-09T22:28:10.446Z"
   },
   {
    "duration": 22,
    "start_time": "2021-11-09T22:30:29.849Z"
   },
   {
    "duration": 339,
    "start_time": "2021-11-10T13:18:18.829Z"
   },
   {
    "duration": 1366,
    "start_time": "2021-11-10T13:18:30.519Z"
   },
   {
    "duration": 161,
    "start_time": "2021-11-10T13:18:31.888Z"
   },
   {
    "duration": 21,
    "start_time": "2021-11-10T13:18:32.052Z"
   },
   {
    "duration": 51,
    "start_time": "2021-11-10T13:18:32.076Z"
   },
   {
    "duration": 138,
    "start_time": "2021-11-10T13:18:32.130Z"
   },
   {
    "duration": 517,
    "start_time": "2021-11-10T13:18:32.270Z"
   },
   {
    "duration": 38,
    "start_time": "2021-11-10T13:18:32.789Z"
   },
   {
    "duration": 29,
    "start_time": "2021-11-10T13:18:32.832Z"
   },
   {
    "duration": 97,
    "start_time": "2021-11-10T13:18:32.864Z"
   },
   {
    "duration": 3,
    "start_time": "2021-11-10T13:18:32.963Z"
   },
   {
    "duration": 20,
    "start_time": "2021-11-10T13:18:32.968Z"
   },
   {
    "duration": 42,
    "start_time": "2021-11-10T13:18:32.990Z"
   },
   {
    "duration": 12,
    "start_time": "2021-11-10T13:18:33.035Z"
   },
   {
    "duration": 45,
    "start_time": "2021-11-10T13:18:33.050Z"
   },
   {
    "duration": 3,
    "start_time": "2021-11-10T13:18:33.098Z"
   },
   {
    "duration": 28,
    "start_time": "2021-11-10T13:18:33.103Z"
   },
   {
    "duration": 10,
    "start_time": "2021-11-10T13:18:33.133Z"
   },
   {
    "duration": 15,
    "start_time": "2021-11-10T13:18:33.145Z"
   },
   {
    "duration": 35,
    "start_time": "2021-11-10T13:18:33.163Z"
   },
   {
    "duration": 21,
    "start_time": "2021-11-10T13:18:33.201Z"
   },
   {
    "duration": 24,
    "start_time": "2021-11-10T13:18:33.224Z"
   },
   {
    "duration": 30,
    "start_time": "2021-11-10T13:18:33.250Z"
   },
   {
    "duration": 43,
    "start_time": "2021-11-10T13:18:33.286Z"
   },
   {
    "duration": 18,
    "start_time": "2021-11-10T13:18:33.333Z"
   },
   {
    "duration": 6,
    "start_time": "2021-11-10T13:18:33.353Z"
   },
   {
    "duration": 14,
    "start_time": "2021-11-10T13:18:33.362Z"
   },
   {
    "duration": 15,
    "start_time": "2021-11-10T13:18:33.378Z"
   },
   {
    "duration": 46,
    "start_time": "2021-11-10T13:18:33.396Z"
   },
   {
    "duration": 19,
    "start_time": "2021-11-10T13:18:33.444Z"
   },
   {
    "duration": 15,
    "start_time": "2021-11-10T13:18:33.465Z"
   },
   {
    "duration": 5,
    "start_time": "2021-11-10T13:18:33.482Z"
   },
   {
    "duration": 33,
    "start_time": "2021-11-10T13:18:33.490Z"
   },
   {
    "duration": 27,
    "start_time": "2021-11-10T13:18:33.525Z"
   },
   {
    "duration": 26,
    "start_time": "2021-11-10T13:18:33.555Z"
   },
   {
    "duration": 16,
    "start_time": "2021-11-10T13:18:33.584Z"
   },
   {
    "duration": 455,
    "start_time": "2021-11-10T13:18:33.602Z"
   },
   {
    "duration": 3,
    "start_time": "2021-11-10T13:18:34.060Z"
   },
   {
    "duration": 31,
    "start_time": "2021-11-10T13:18:34.065Z"
   },
   {
    "duration": 33,
    "start_time": "2021-11-10T13:18:34.098Z"
   },
   {
    "duration": 15,
    "start_time": "2021-11-10T13:18:34.133Z"
   },
   {
    "duration": 9,
    "start_time": "2021-11-10T13:18:34.150Z"
   },
   {
    "duration": 26,
    "start_time": "2021-11-10T13:18:34.162Z"
   },
   {
    "duration": 38,
    "start_time": "2021-11-10T13:18:34.190Z"
   },
   {
    "duration": 19,
    "start_time": "2021-11-10T13:18:34.231Z"
   },
   {
    "duration": 3,
    "start_time": "2021-11-10T13:18:34.253Z"
   },
   {
    "duration": 31,
    "start_time": "2021-11-10T13:18:34.258Z"
   },
   {
    "duration": 46,
    "start_time": "2021-11-10T13:18:34.291Z"
   },
   {
    "duration": 5,
    "start_time": "2021-11-10T13:18:34.339Z"
   },
   {
    "duration": 30,
    "start_time": "2021-11-10T13:18:34.346Z"
   },
   {
    "duration": 46,
    "start_time": "2021-11-10T13:18:34.378Z"
   },
   {
    "duration": 14,
    "start_time": "2021-11-10T13:18:34.427Z"
   },
   {
    "duration": 19,
    "start_time": "2021-11-10T13:18:34.443Z"
   },
   {
    "duration": 13,
    "start_time": "2021-11-10T13:18:34.465Z"
   },
   {
    "duration": 4,
    "start_time": "2021-11-10T13:18:34.481Z"
   },
   {
    "duration": 6,
    "start_time": "2021-11-10T13:18:34.487Z"
   },
   {
    "duration": 15,
    "start_time": "2021-11-10T13:18:34.523Z"
   },
   {
    "duration": 4,
    "start_time": "2021-11-10T13:18:34.540Z"
   },
   {
    "duration": 10,
    "start_time": "2021-11-10T13:18:34.546Z"
   },
   {
    "duration": 186,
    "start_time": "2021-11-10T13:18:34.559Z"
   },
   {
    "duration": 17,
    "start_time": "2021-11-10T13:18:34.747Z"
   },
   {
    "duration": 56,
    "start_time": "2021-11-10T13:18:34.766Z"
   },
   {
    "duration": 414,
    "start_time": "2021-11-10T13:18:34.825Z"
   },
   {
    "duration": 37,
    "start_time": "2021-11-10T13:18:35.241Z"
   },
   {
    "duration": 63,
    "start_time": "2021-11-10T13:18:35.281Z"
   },
   {
    "duration": 401,
    "start_time": "2021-11-10T13:18:35.346Z"
   },
   {
    "duration": 403,
    "start_time": "2021-11-10T13:18:35.749Z"
   },
   {
    "duration": 400,
    "start_time": "2021-11-10T13:18:36.154Z"
   },
   {
    "duration": 488,
    "start_time": "2021-11-10T13:18:36.563Z"
   },
   {
    "duration": 7,
    "start_time": "2021-11-10T13:18:37.055Z"
   },
   {
    "duration": 8,
    "start_time": "2021-11-10T13:18:37.064Z"
   },
   {
    "duration": 354,
    "start_time": "2021-11-10T13:18:37.074Z"
   },
   {
    "duration": 6,
    "start_time": "2021-11-10T13:18:37.431Z"
   },
   {
    "duration": 12,
    "start_time": "2021-11-10T13:18:37.439Z"
   },
   {
    "duration": 405,
    "start_time": "2021-11-10T13:18:37.454Z"
   },
   {
    "duration": 28,
    "start_time": "2021-11-10T13:18:37.862Z"
   },
   {
    "duration": 48,
    "start_time": "2021-11-10T13:18:37.892Z"
   },
   {
    "duration": 27,
    "start_time": "2021-11-10T13:18:37.943Z"
   },
   {
    "duration": 4,
    "start_time": "2021-11-10T13:18:37.972Z"
   },
   {
    "duration": 10,
    "start_time": "2021-11-10T13:18:37.978Z"
   },
   {
    "duration": 51,
    "start_time": "2021-11-10T13:18:37.990Z"
   },
   {
    "duration": 15,
    "start_time": "2021-11-10T13:18:38.044Z"
   },
   {
    "duration": 8,
    "start_time": "2021-11-10T13:18:38.061Z"
   },
   {
    "duration": 10,
    "start_time": "2021-11-10T13:18:38.071Z"
   },
   {
    "duration": 7,
    "start_time": "2021-11-10T13:18:38.084Z"
   },
   {
    "duration": 33,
    "start_time": "2021-11-10T13:18:38.093Z"
   },
   {
    "duration": 7,
    "start_time": "2021-11-10T13:18:38.128Z"
   },
   {
    "duration": 6,
    "start_time": "2021-11-10T13:18:38.137Z"
   },
   {
    "duration": 10,
    "start_time": "2021-11-10T13:18:38.145Z"
   },
   {
    "duration": 4,
    "start_time": "2021-11-10T13:18:38.158Z"
   },
   {
    "duration": 9,
    "start_time": "2021-11-10T13:18:38.164Z"
   },
   {
    "duration": 307,
    "start_time": "2021-11-10T13:19:56.302Z"
   },
   {
    "duration": 293,
    "start_time": "2021-11-10T13:20:54.360Z"
   },
   {
    "duration": 4,
    "start_time": "2021-11-10T14:06:07.263Z"
   },
   {
    "duration": 13,
    "start_time": "2021-11-10T14:06:08.003Z"
   },
   {
    "duration": 288,
    "start_time": "2021-11-10T14:12:08.539Z"
   },
   {
    "duration": 377,
    "start_time": "2021-11-10T14:12:59.660Z"
   },
   {
    "duration": 362,
    "start_time": "2021-11-10T14:13:04.588Z"
   },
   {
    "duration": 382,
    "start_time": "2021-11-10T14:13:10.908Z"
   },
   {
    "duration": 451,
    "start_time": "2021-11-10T14:13:22.985Z"
   },
   {
    "duration": 325,
    "start_time": "2021-11-10T14:13:30.325Z"
   },
   {
    "duration": 305,
    "start_time": "2021-11-10T14:13:35.309Z"
   },
   {
    "duration": 97,
    "start_time": "2021-11-10T14:14:38.007Z"
   },
   {
    "duration": 912,
    "start_time": "2021-11-10T14:14:57.013Z"
   },
   {
    "duration": 1200,
    "start_time": "2021-11-10T14:15:20.090Z"
   },
   {
    "duration": 1080,
    "start_time": "2021-11-10T14:15:26.915Z"
   },
   {
    "duration": 319,
    "start_time": "2021-11-10T14:15:46.318Z"
   },
   {
    "duration": 5,
    "start_time": "2021-11-10T14:25:59.407Z"
   },
   {
    "duration": 305,
    "start_time": "2021-11-10T14:26:02.628Z"
   },
   {
    "duration": 6,
    "start_time": "2021-11-10T14:26:23.629Z"
   },
   {
    "duration": 5,
    "start_time": "2021-11-10T14:26:56.503Z"
   },
   {
    "duration": 5,
    "start_time": "2021-11-10T14:27:29.581Z"
   },
   {
    "duration": 110,
    "start_time": "2021-11-10T14:47:51.811Z"
   },
   {
    "duration": 9,
    "start_time": "2021-11-10T14:48:03.930Z"
   },
   {
    "duration": 7,
    "start_time": "2021-11-10T14:48:26.871Z"
   },
   {
    "duration": 7,
    "start_time": "2021-11-10T14:48:35.814Z"
   },
   {
    "duration": 488,
    "start_time": "2021-11-10T14:49:11.960Z"
   },
   {
    "duration": 12,
    "start_time": "2021-11-10T14:49:57.476Z"
   },
   {
    "duration": 9,
    "start_time": "2021-11-10T14:58:45.745Z"
   },
   {
    "duration": 9,
    "start_time": "2021-11-10T14:59:03.553Z"
   },
   {
    "duration": 8,
    "start_time": "2021-11-10T15:01:12.048Z"
   },
   {
    "duration": 8,
    "start_time": "2021-11-10T15:01:58.545Z"
   },
   {
    "duration": 6,
    "start_time": "2021-11-10T15:02:11.293Z"
   },
   {
    "duration": 7,
    "start_time": "2021-11-10T15:02:21.626Z"
   },
   {
    "duration": 1372,
    "start_time": "2021-11-10T15:29:14.009Z"
   },
   {
    "duration": 163,
    "start_time": "2021-11-10T15:29:15.383Z"
   },
   {
    "duration": 22,
    "start_time": "2021-11-10T15:29:15.549Z"
   },
   {
    "duration": 335,
    "start_time": "2021-11-10T15:29:15.574Z"
   },
   {
    "duration": 38,
    "start_time": "2021-11-10T15:29:15.911Z"
   },
   {
    "duration": 146,
    "start_time": "2021-11-10T15:29:15.951Z"
   },
   {
    "duration": 313,
    "start_time": "2021-11-10T15:29:16.099Z"
   },
   {
    "duration": 18,
    "start_time": "2021-11-10T15:29:16.421Z"
   },
   {
    "duration": 33,
    "start_time": "2021-11-10T15:29:16.442Z"
   },
   {
    "duration": 100,
    "start_time": "2021-11-10T15:29:16.478Z"
   },
   {
    "duration": 3,
    "start_time": "2021-11-10T15:29:16.581Z"
   },
   {
    "duration": 27,
    "start_time": "2021-11-10T15:29:16.586Z"
   },
   {
    "duration": 28,
    "start_time": "2021-11-10T15:29:16.621Z"
   },
   {
    "duration": 13,
    "start_time": "2021-11-10T15:29:16.652Z"
   },
   {
    "duration": 44,
    "start_time": "2021-11-10T15:29:16.667Z"
   },
   {
    "duration": 3,
    "start_time": "2021-11-10T15:29:16.713Z"
   },
   {
    "duration": 14,
    "start_time": "2021-11-10T15:29:16.718Z"
   },
   {
    "duration": 10,
    "start_time": "2021-11-10T15:29:16.735Z"
   },
   {
    "duration": 33,
    "start_time": "2021-11-10T15:29:16.747Z"
   },
   {
    "duration": 24,
    "start_time": "2021-11-10T15:29:16.782Z"
   },
   {
    "duration": 34,
    "start_time": "2021-11-10T15:29:16.808Z"
   },
   {
    "duration": 11,
    "start_time": "2021-11-10T15:29:16.844Z"
   },
   {
    "duration": 29,
    "start_time": "2021-11-10T15:29:16.861Z"
   },
   {
    "duration": 46,
    "start_time": "2021-11-10T15:29:16.894Z"
   },
   {
    "duration": 24,
    "start_time": "2021-11-10T15:29:16.942Z"
   },
   {
    "duration": 23,
    "start_time": "2021-11-10T15:29:16.968Z"
   },
   {
    "duration": 5,
    "start_time": "2021-11-10T15:29:16.993Z"
   },
   {
    "duration": 21,
    "start_time": "2021-11-10T15:29:17.001Z"
   },
   {
    "duration": 10,
    "start_time": "2021-11-10T15:29:17.025Z"
   },
   {
    "duration": 31,
    "start_time": "2021-11-10T15:29:17.037Z"
   },
   {
    "duration": 19,
    "start_time": "2021-11-10T15:29:17.070Z"
   },
   {
    "duration": 44,
    "start_time": "2021-11-10T15:29:17.091Z"
   },
   {
    "duration": 7,
    "start_time": "2021-11-10T15:29:17.137Z"
   },
   {
    "duration": 24,
    "start_time": "2021-11-10T15:29:17.146Z"
   },
   {
    "duration": 44,
    "start_time": "2021-11-10T15:29:17.173Z"
   },
   {
    "duration": 26,
    "start_time": "2021-11-10T15:29:17.220Z"
   },
   {
    "duration": 21,
    "start_time": "2021-11-10T15:29:17.249Z"
   },
   {
    "duration": 29,
    "start_time": "2021-11-10T15:29:17.273Z"
   },
   {
    "duration": 27,
    "start_time": "2021-11-10T15:29:17.304Z"
   },
   {
    "duration": 482,
    "start_time": "2021-11-10T15:29:17.334Z"
   },
   {
    "duration": 3,
    "start_time": "2021-11-10T15:29:17.822Z"
   },
   {
    "duration": 42,
    "start_time": "2021-11-10T15:29:17.827Z"
   },
   {
    "duration": 12,
    "start_time": "2021-11-10T15:29:17.871Z"
   },
   {
    "duration": 38,
    "start_time": "2021-11-10T15:29:17.887Z"
   },
   {
    "duration": 6,
    "start_time": "2021-11-10T15:29:17.928Z"
   },
   {
    "duration": 27,
    "start_time": "2021-11-10T15:29:17.936Z"
   },
   {
    "duration": 11,
    "start_time": "2021-11-10T15:29:17.966Z"
   },
   {
    "duration": 50,
    "start_time": "2021-11-10T15:29:17.979Z"
   },
   {
    "duration": 7,
    "start_time": "2021-11-10T15:29:18.031Z"
   },
   {
    "duration": 31,
    "start_time": "2021-11-10T15:29:18.041Z"
   },
   {
    "duration": 18,
    "start_time": "2021-11-10T15:29:18.074Z"
   },
   {
    "duration": 29,
    "start_time": "2021-11-10T15:29:18.094Z"
   },
   {
    "duration": 26,
    "start_time": "2021-11-10T15:29:18.125Z"
   },
   {
    "duration": 22,
    "start_time": "2021-11-10T15:29:18.153Z"
   },
   {
    "duration": 45,
    "start_time": "2021-11-10T15:29:18.177Z"
   },
   {
    "duration": 14,
    "start_time": "2021-11-10T15:29:18.225Z"
   },
   {
    "duration": 13,
    "start_time": "2021-11-10T15:29:18.242Z"
   },
   {
    "duration": 5,
    "start_time": "2021-11-10T15:29:18.257Z"
   },
   {
    "duration": 6,
    "start_time": "2021-11-10T15:29:18.264Z"
   },
   {
    "duration": 16,
    "start_time": "2021-11-10T15:29:18.272Z"
   },
   {
    "duration": 5,
    "start_time": "2021-11-10T15:29:18.323Z"
   },
   {
    "duration": 11,
    "start_time": "2021-11-10T15:29:18.330Z"
   },
   {
    "duration": 179,
    "start_time": "2021-11-10T15:29:18.343Z"
   },
   {
    "duration": 17,
    "start_time": "2021-11-10T15:29:18.524Z"
   },
   {
    "duration": 37,
    "start_time": "2021-11-10T15:29:18.543Z"
   },
   {
    "duration": 5,
    "start_time": "2021-11-10T15:29:18.582Z"
   },
   {
    "duration": 36,
    "start_time": "2021-11-10T15:29:18.589Z"
   },
   {
    "duration": 14,
    "start_time": "2021-11-10T15:29:18.634Z"
   },
   {
    "duration": 17,
    "start_time": "2021-11-10T15:29:18.652Z"
   },
   {
    "duration": 306,
    "start_time": "2021-11-10T15:29:18.672Z"
   },
   {
    "duration": 51,
    "start_time": "2021-11-10T15:29:18.981Z"
   },
   {
    "duration": 39,
    "start_time": "2021-11-10T15:29:19.035Z"
   },
   {
    "duration": 399,
    "start_time": "2021-11-10T15:29:19.077Z"
   },
   {
    "duration": 379,
    "start_time": "2021-11-10T15:29:19.479Z"
   },
   {
    "duration": 397,
    "start_time": "2021-11-10T15:29:19.861Z"
   },
   {
    "duration": 579,
    "start_time": "2021-11-10T15:29:20.261Z"
   },
   {
    "duration": 7,
    "start_time": "2021-11-10T15:29:20.843Z"
   },
   {
    "duration": 8,
    "start_time": "2021-11-10T15:29:20.853Z"
   },
   {
    "duration": 343,
    "start_time": "2021-11-10T15:29:20.863Z"
   },
   {
    "duration": 14,
    "start_time": "2021-11-10T15:29:21.208Z"
   },
   {
    "duration": 5,
    "start_time": "2021-11-10T15:29:21.226Z"
   },
   {
    "duration": 424,
    "start_time": "2021-11-10T15:29:21.234Z"
   },
   {
    "duration": 27,
    "start_time": "2021-11-10T15:29:21.661Z"
   },
   {
    "duration": 51,
    "start_time": "2021-11-10T15:29:21.691Z"
   },
   {
    "duration": 26,
    "start_time": "2021-11-10T15:29:21.745Z"
   },
   {
    "duration": 3,
    "start_time": "2021-11-10T15:29:21.774Z"
   },
   {
    "duration": 42,
    "start_time": "2021-11-10T15:29:21.780Z"
   },
   {
    "duration": 15,
    "start_time": "2021-11-10T15:29:21.825Z"
   },
   {
    "duration": 15,
    "start_time": "2021-11-10T15:29:21.843Z"
   },
   {
    "duration": 10,
    "start_time": "2021-11-10T15:29:21.860Z"
   },
   {
    "duration": 9,
    "start_time": "2021-11-10T15:29:21.872Z"
   },
   {
    "duration": 41,
    "start_time": "2021-11-10T15:29:21.884Z"
   },
   {
    "duration": 7,
    "start_time": "2021-11-10T15:29:21.928Z"
   },
   {
    "duration": 10,
    "start_time": "2021-11-10T15:29:21.937Z"
   },
   {
    "duration": 6,
    "start_time": "2021-11-10T15:29:21.949Z"
   },
   {
    "duration": 8,
    "start_time": "2021-11-10T15:29:21.957Z"
   },
   {
    "duration": 9,
    "start_time": "2021-11-10T15:29:21.968Z"
   },
   {
    "duration": 4,
    "start_time": "2021-11-10T15:29:22.023Z"
   },
   {
    "duration": 10,
    "start_time": "2021-11-10T15:29:22.029Z"
   },
   {
    "duration": 3687,
    "start_time": "2021-11-10T15:29:22.041Z"
   },
   {
    "duration": 5,
    "start_time": "2021-11-10T15:29:53.448Z"
   },
   {
    "duration": 4,
    "start_time": "2021-11-10T15:39:16.902Z"
   },
   {
    "duration": 4016,
    "start_time": "2021-11-10T15:56:13.079Z"
   },
   {
    "duration": 89,
    "start_time": "2021-11-10T15:56:54.307Z"
   },
   {
    "duration": 4156,
    "start_time": "2021-11-10T15:57:01.052Z"
   },
   {
    "duration": 1382,
    "start_time": "2021-11-10T15:57:15.794Z"
   },
   {
    "duration": 165,
    "start_time": "2021-11-10T15:57:17.179Z"
   },
   {
    "duration": 23,
    "start_time": "2021-11-10T15:57:17.349Z"
   },
   {
    "duration": 337,
    "start_time": "2021-11-10T15:57:17.375Z"
   },
   {
    "duration": 38,
    "start_time": "2021-11-10T15:57:17.715Z"
   },
   {
    "duration": 155,
    "start_time": "2021-11-10T15:57:17.756Z"
   },
   {
    "duration": 327,
    "start_time": "2021-11-10T15:57:17.914Z"
   },
   {
    "duration": 18,
    "start_time": "2021-11-10T15:57:18.245Z"
   },
   {
    "duration": 29,
    "start_time": "2021-11-10T15:57:18.267Z"
   },
   {
    "duration": 83,
    "start_time": "2021-11-10T15:57:18.322Z"
   },
   {
    "duration": 3,
    "start_time": "2021-11-10T15:57:18.408Z"
   },
   {
    "duration": 25,
    "start_time": "2021-11-10T15:57:18.414Z"
   },
   {
    "duration": 30,
    "start_time": "2021-11-10T15:57:18.442Z"
   },
   {
    "duration": 10,
    "start_time": "2021-11-10T15:57:18.475Z"
   },
   {
    "duration": 51,
    "start_time": "2021-11-10T15:57:18.487Z"
   },
   {
    "duration": 3,
    "start_time": "2021-11-10T15:57:18.541Z"
   },
   {
    "duration": 15,
    "start_time": "2021-11-10T15:57:18.547Z"
   },
   {
    "duration": 9,
    "start_time": "2021-11-10T15:57:18.564Z"
   },
   {
    "duration": 9,
    "start_time": "2021-11-10T15:57:18.575Z"
   },
   {
    "duration": 42,
    "start_time": "2021-11-10T15:57:18.586Z"
   },
   {
    "duration": 22,
    "start_time": "2021-11-10T15:57:18.630Z"
   },
   {
    "duration": 5,
    "start_time": "2021-11-10T15:57:18.655Z"
   },
   {
    "duration": 15,
    "start_time": "2021-11-10T15:57:18.666Z"
   },
   {
    "duration": 29,
    "start_time": "2021-11-10T15:57:18.725Z"
   },
   {
    "duration": 22,
    "start_time": "2021-11-10T15:57:18.756Z"
   },
   {
    "duration": 41,
    "start_time": "2021-11-10T15:57:18.781Z"
   },
   {
    "duration": 6,
    "start_time": "2021-11-10T15:57:18.825Z"
   },
   {
    "duration": 9,
    "start_time": "2021-11-10T15:57:18.833Z"
   },
   {
    "duration": 17,
    "start_time": "2021-11-10T15:57:18.844Z"
   },
   {
    "duration": 28,
    "start_time": "2021-11-10T15:57:18.864Z"
   },
   {
    "duration": 43,
    "start_time": "2021-11-10T15:57:18.894Z"
   },
   {
    "duration": 17,
    "start_time": "2021-11-10T15:57:18.940Z"
   },
   {
    "duration": 6,
    "start_time": "2021-11-10T15:57:18.960Z"
   },
   {
    "duration": 9,
    "start_time": "2021-11-10T15:57:18.969Z"
   },
   {
    "duration": 54,
    "start_time": "2021-11-10T15:57:18.981Z"
   },
   {
    "duration": 13,
    "start_time": "2021-11-10T15:57:19.038Z"
   },
   {
    "duration": 7,
    "start_time": "2021-11-10T15:57:19.053Z"
   },
   {
    "duration": 13,
    "start_time": "2021-11-10T15:57:19.062Z"
   },
   {
    "duration": 45,
    "start_time": "2021-11-10T15:57:19.077Z"
   },
   {
    "duration": 479,
    "start_time": "2021-11-10T15:57:19.125Z"
   },
   {
    "duration": 3,
    "start_time": "2021-11-10T15:57:19.606Z"
   },
   {
    "duration": 30,
    "start_time": "2021-11-10T15:57:19.622Z"
   },
   {
    "duration": 12,
    "start_time": "2021-11-10T15:57:19.654Z"
   },
   {
    "duration": 12,
    "start_time": "2021-11-10T15:57:19.669Z"
   },
   {
    "duration": 39,
    "start_time": "2021-11-10T15:57:19.684Z"
   },
   {
    "duration": 29,
    "start_time": "2021-11-10T15:57:19.725Z"
   },
   {
    "duration": 12,
    "start_time": "2021-11-10T15:57:19.757Z"
   },
   {
    "duration": 13,
    "start_time": "2021-11-10T15:57:19.771Z"
   },
   {
    "duration": 36,
    "start_time": "2021-11-10T15:57:19.787Z"
   },
   {
    "duration": 29,
    "start_time": "2021-11-10T15:57:19.825Z"
   },
   {
    "duration": 18,
    "start_time": "2021-11-10T15:57:19.857Z"
   },
   {
    "duration": 5,
    "start_time": "2021-11-10T15:57:19.877Z"
   },
   {
    "duration": 51,
    "start_time": "2021-11-10T15:57:19.885Z"
   },
   {
    "duration": 22,
    "start_time": "2021-11-10T15:57:19.938Z"
   },
   {
    "duration": 13,
    "start_time": "2021-11-10T15:57:19.963Z"
   },
   {
    "duration": 15,
    "start_time": "2021-11-10T15:57:19.978Z"
   },
   {
    "duration": 11,
    "start_time": "2021-11-10T15:57:20.022Z"
   },
   {
    "duration": 5,
    "start_time": "2021-11-10T15:57:20.036Z"
   },
   {
    "duration": 10,
    "start_time": "2021-11-10T15:57:20.044Z"
   },
   {
    "duration": 18,
    "start_time": "2021-11-10T15:57:20.057Z"
   },
   {
    "duration": 12,
    "start_time": "2021-11-10T15:57:20.078Z"
   },
   {
    "duration": 33,
    "start_time": "2021-11-10T15:57:20.093Z"
   },
   {
    "duration": 170,
    "start_time": "2021-11-10T15:57:20.128Z"
   },
   {
    "duration": 22,
    "start_time": "2021-11-10T15:57:20.301Z"
   },
   {
    "duration": 31,
    "start_time": "2021-11-10T15:57:20.326Z"
   },
   {
    "duration": 5,
    "start_time": "2021-11-10T15:57:20.359Z"
   },
   {
    "duration": 8,
    "start_time": "2021-11-10T15:57:20.366Z"
   },
   {
    "duration": 39,
    "start_time": "2021-11-10T15:57:20.383Z"
   },
   {
    "duration": 6,
    "start_time": "2021-11-10T15:57:20.425Z"
   },
   {
    "duration": 310,
    "start_time": "2021-11-10T15:57:20.433Z"
   },
   {
    "duration": 39,
    "start_time": "2021-11-10T15:57:20.745Z"
   },
   {
    "duration": 61,
    "start_time": "2021-11-10T15:57:20.787Z"
   },
   {
    "duration": 503,
    "start_time": "2021-11-10T15:57:20.850Z"
   },
   {
    "duration": 584,
    "start_time": "2021-11-10T15:57:21.356Z"
   },
   {
    "duration": 646,
    "start_time": "2021-11-10T15:57:21.944Z"
   },
   {
    "duration": 483,
    "start_time": "2021-11-10T15:57:22.593Z"
   },
   {
    "duration": 8,
    "start_time": "2021-11-10T15:57:23.078Z"
   },
   {
    "duration": 8,
    "start_time": "2021-11-10T15:57:23.088Z"
   },
   {
    "duration": 342,
    "start_time": "2021-11-10T15:57:23.123Z"
   },
   {
    "duration": 7,
    "start_time": "2021-11-10T15:57:23.467Z"
   },
   {
    "duration": 10,
    "start_time": "2021-11-10T15:57:23.476Z"
   },
   {
    "duration": 427,
    "start_time": "2021-11-10T15:57:23.488Z"
   },
   {
    "duration": 41,
    "start_time": "2021-11-10T15:57:23.917Z"
   },
   {
    "duration": 26,
    "start_time": "2021-11-10T15:57:23.961Z"
   },
   {
    "duration": 48,
    "start_time": "2021-11-10T15:57:23.989Z"
   },
   {
    "duration": 5,
    "start_time": "2021-11-10T15:57:24.040Z"
   },
   {
    "duration": 12,
    "start_time": "2021-11-10T15:57:24.048Z"
   },
   {
    "duration": 34,
    "start_time": "2021-11-10T15:57:24.063Z"
   },
   {
    "duration": 30,
    "start_time": "2021-11-10T15:57:24.099Z"
   },
   {
    "duration": 15,
    "start_time": "2021-11-10T15:57:24.132Z"
   },
   {
    "duration": 16,
    "start_time": "2021-11-10T15:57:24.149Z"
   },
   {
    "duration": 7,
    "start_time": "2021-11-10T15:57:24.168Z"
   },
   {
    "duration": 8,
    "start_time": "2021-11-10T15:57:24.178Z"
   },
   {
    "duration": 35,
    "start_time": "2021-11-10T15:57:24.188Z"
   },
   {
    "duration": 7,
    "start_time": "2021-11-10T15:57:24.225Z"
   },
   {
    "duration": 8,
    "start_time": "2021-11-10T15:57:24.234Z"
   },
   {
    "duration": 8,
    "start_time": "2021-11-10T15:57:24.244Z"
   },
   {
    "duration": 8,
    "start_time": "2021-11-10T15:57:24.254Z"
   },
   {
    "duration": 6,
    "start_time": "2021-11-10T15:57:24.264Z"
   },
   {
    "duration": 54,
    "start_time": "2021-11-10T15:57:24.272Z"
   },
   {
    "duration": 10,
    "start_time": "2021-11-10T15:57:24.328Z"
   },
   {
    "duration": 12,
    "start_time": "2021-11-10T15:57:24.340Z"
   },
   {
    "duration": 4242,
    "start_time": "2021-11-10T15:58:51.703Z"
   },
   {
    "duration": 1385,
    "start_time": "2021-11-10T15:59:27.857Z"
   },
   {
    "duration": 164,
    "start_time": "2021-11-10T15:59:29.245Z"
   },
   {
    "duration": 25,
    "start_time": "2021-11-10T15:59:29.412Z"
   },
   {
    "duration": 312,
    "start_time": "2021-11-10T15:59:29.440Z"
   },
   {
    "duration": 33,
    "start_time": "2021-11-10T15:59:29.754Z"
   },
   {
    "duration": 154,
    "start_time": "2021-11-10T15:59:29.789Z"
   },
   {
    "duration": 324,
    "start_time": "2021-11-10T15:59:29.945Z"
   },
   {
    "duration": 18,
    "start_time": "2021-11-10T15:59:30.273Z"
   },
   {
    "duration": 45,
    "start_time": "2021-11-10T15:59:30.294Z"
   },
   {
    "duration": 85,
    "start_time": "2021-11-10T15:59:30.341Z"
   },
   {
    "duration": 3,
    "start_time": "2021-11-10T15:59:30.428Z"
   },
   {
    "duration": 34,
    "start_time": "2021-11-10T15:59:30.433Z"
   },
   {
    "duration": 30,
    "start_time": "2021-11-10T15:59:30.470Z"
   },
   {
    "duration": 26,
    "start_time": "2021-11-10T15:59:30.503Z"
   },
   {
    "duration": 45,
    "start_time": "2021-11-10T15:59:30.532Z"
   },
   {
    "duration": 3,
    "start_time": "2021-11-10T15:59:30.580Z"
   },
   {
    "duration": 24,
    "start_time": "2021-11-10T15:59:30.585Z"
   },
   {
    "duration": 13,
    "start_time": "2021-11-10T15:59:30.612Z"
   },
   {
    "duration": 12,
    "start_time": "2021-11-10T15:59:30.628Z"
   },
   {
    "duration": 24,
    "start_time": "2021-11-10T15:59:30.643Z"
   },
   {
    "duration": 30,
    "start_time": "2021-11-10T15:59:30.669Z"
   },
   {
    "duration": 3,
    "start_time": "2021-11-10T15:59:30.702Z"
   },
   {
    "duration": 16,
    "start_time": "2021-11-10T15:59:30.725Z"
   },
   {
    "duration": 33,
    "start_time": "2021-11-10T15:59:30.745Z"
   },
   {
    "duration": 43,
    "start_time": "2021-11-10T15:59:30.780Z"
   },
   {
    "duration": 17,
    "start_time": "2021-11-10T15:59:30.826Z"
   },
   {
    "duration": 6,
    "start_time": "2021-11-10T15:59:30.846Z"
   },
   {
    "duration": 21,
    "start_time": "2021-11-10T15:59:30.854Z"
   },
   {
    "duration": 26,
    "start_time": "2021-11-10T15:59:30.878Z"
   },
   {
    "duration": 35,
    "start_time": "2021-11-10T15:59:30.907Z"
   },
   {
    "duration": 19,
    "start_time": "2021-11-10T15:59:30.944Z"
   },
   {
    "duration": 15,
    "start_time": "2021-11-10T15:59:30.965Z"
   },
   {
    "duration": 19,
    "start_time": "2021-11-10T15:59:30.983Z"
   },
   {
    "duration": 35,
    "start_time": "2021-11-10T15:59:31.004Z"
   },
   {
    "duration": 36,
    "start_time": "2021-11-10T15:59:31.041Z"
   },
   {
    "duration": 35,
    "start_time": "2021-11-10T15:59:31.080Z"
   },
   {
    "duration": 11,
    "start_time": "2021-11-10T15:59:31.117Z"
   },
   {
    "duration": 24,
    "start_time": "2021-11-10T15:59:31.131Z"
   },
   {
    "duration": 22,
    "start_time": "2021-11-10T15:59:31.157Z"
   },
   {
    "duration": 482,
    "start_time": "2021-11-10T15:59:31.181Z"
   },
   {
    "duration": 3,
    "start_time": "2021-11-10T15:59:31.665Z"
   },
   {
    "duration": 52,
    "start_time": "2021-11-10T15:59:31.670Z"
   },
   {
    "duration": 12,
    "start_time": "2021-11-10T15:59:31.724Z"
   },
   {
    "duration": 21,
    "start_time": "2021-11-10T15:59:31.738Z"
   },
   {
    "duration": 5,
    "start_time": "2021-11-10T15:59:31.762Z"
   },
   {
    "duration": 52,
    "start_time": "2021-11-10T15:59:31.770Z"
   },
   {
    "duration": 11,
    "start_time": "2021-11-10T15:59:31.825Z"
   },
   {
    "duration": 13,
    "start_time": "2021-11-10T15:59:31.838Z"
   },
   {
    "duration": 12,
    "start_time": "2021-11-10T15:59:31.853Z"
   },
   {
    "duration": 35,
    "start_time": "2021-11-10T15:59:31.867Z"
   },
   {
    "duration": 20,
    "start_time": "2021-11-10T15:59:31.923Z"
   },
   {
    "duration": 12,
    "start_time": "2021-11-10T15:59:31.945Z"
   },
   {
    "duration": 32,
    "start_time": "2021-11-10T15:59:31.959Z"
   },
   {
    "duration": 44,
    "start_time": "2021-11-10T15:59:31.994Z"
   },
   {
    "duration": 16,
    "start_time": "2021-11-10T15:59:32.041Z"
   },
   {
    "duration": 15,
    "start_time": "2021-11-10T15:59:32.060Z"
   },
   {
    "duration": 15,
    "start_time": "2021-11-10T15:59:32.078Z"
   },
   {
    "duration": 27,
    "start_time": "2021-11-10T15:59:32.095Z"
   },
   {
    "duration": 9,
    "start_time": "2021-11-10T15:59:32.125Z"
   },
   {
    "duration": 17,
    "start_time": "2021-11-10T15:59:32.137Z"
   },
   {
    "duration": 5,
    "start_time": "2021-11-10T15:59:32.157Z"
   },
   {
    "duration": 18,
    "start_time": "2021-11-10T15:59:32.165Z"
   },
   {
    "duration": 196,
    "start_time": "2021-11-10T15:59:32.186Z"
   },
   {
    "duration": 16,
    "start_time": "2021-11-10T15:59:32.385Z"
   },
   {
    "duration": 36,
    "start_time": "2021-11-10T15:59:32.422Z"
   },
   {
    "duration": 5,
    "start_time": "2021-11-10T15:59:32.460Z"
   },
   {
    "duration": 13,
    "start_time": "2021-11-10T15:59:32.467Z"
   },
   {
    "duration": 5,
    "start_time": "2021-11-10T15:59:32.489Z"
   },
   {
    "duration": 5,
    "start_time": "2021-11-10T15:59:32.524Z"
   },
   {
    "duration": 343,
    "start_time": "2021-11-10T15:59:32.532Z"
   },
   {
    "duration": 59,
    "start_time": "2021-11-10T15:59:32.878Z"
   },
   {
    "duration": 56,
    "start_time": "2021-11-10T15:59:32.941Z"
   },
   {
    "duration": 437,
    "start_time": "2021-11-10T15:59:32.999Z"
   },
   {
    "duration": 386,
    "start_time": "2021-11-10T15:59:33.439Z"
   },
   {
    "duration": 385,
    "start_time": "2021-11-10T15:59:33.828Z"
   },
   {
    "duration": 470,
    "start_time": "2021-11-10T15:59:34.223Z"
   },
   {
    "duration": 8,
    "start_time": "2021-11-10T15:59:34.695Z"
   },
   {
    "duration": 16,
    "start_time": "2021-11-10T15:59:34.706Z"
   },
   {
    "duration": 346,
    "start_time": "2021-11-10T15:59:34.724Z"
   },
   {
    "duration": 7,
    "start_time": "2021-11-10T15:59:35.073Z"
   },
   {
    "duration": 12,
    "start_time": "2021-11-10T15:59:35.082Z"
   },
   {
    "duration": 401,
    "start_time": "2021-11-10T15:59:35.096Z"
   },
   {
    "duration": 38,
    "start_time": "2021-11-10T15:59:35.500Z"
   },
   {
    "duration": 25,
    "start_time": "2021-11-10T15:59:35.540Z"
   },
   {
    "duration": 26,
    "start_time": "2021-11-10T15:59:35.567Z"
   },
   {
    "duration": 4,
    "start_time": "2021-11-10T15:59:35.623Z"
   },
   {
    "duration": 10,
    "start_time": "2021-11-10T15:59:35.629Z"
   },
   {
    "duration": 15,
    "start_time": "2021-11-10T15:59:35.641Z"
   },
   {
    "duration": 16,
    "start_time": "2021-11-10T15:59:35.658Z"
   },
   {
    "duration": 48,
    "start_time": "2021-11-10T15:59:35.676Z"
   },
   {
    "duration": 10,
    "start_time": "2021-11-10T15:59:35.727Z"
   },
   {
    "duration": 7,
    "start_time": "2021-11-10T15:59:35.739Z"
   },
   {
    "duration": 8,
    "start_time": "2021-11-10T15:59:35.749Z"
   },
   {
    "duration": 7,
    "start_time": "2021-11-10T15:59:35.760Z"
   },
   {
    "duration": 8,
    "start_time": "2021-11-10T15:59:35.770Z"
   },
   {
    "duration": 46,
    "start_time": "2021-11-10T15:59:35.780Z"
   },
   {
    "duration": 10,
    "start_time": "2021-11-10T15:59:35.829Z"
   },
   {
    "duration": 13,
    "start_time": "2021-11-10T15:59:35.841Z"
   },
   {
    "duration": 4,
    "start_time": "2021-11-10T15:59:35.856Z"
   },
   {
    "duration": 7,
    "start_time": "2021-11-10T15:59:35.863Z"
   },
   {
    "duration": 8,
    "start_time": "2021-11-10T15:59:35.872Z"
   },
   {
    "duration": 44,
    "start_time": "2021-11-10T15:59:35.883Z"
   },
   {
    "duration": 6,
    "start_time": "2021-11-10T15:59:35.929Z"
   },
   {
    "duration": 4082,
    "start_time": "2021-11-10T16:00:40.055Z"
   },
   {
    "duration": -226,
    "start_time": "2021-11-10T16:00:44.366Z"
   },
   {
    "duration": 1402,
    "start_time": "2021-11-10T16:00:59.393Z"
   },
   {
    "duration": 174,
    "start_time": "2021-11-10T16:01:00.797Z"
   },
   {
    "duration": 22,
    "start_time": "2021-11-10T16:01:00.974Z"
   },
   {
    "duration": 329,
    "start_time": "2021-11-10T16:01:00.999Z"
   },
   {
    "duration": 32,
    "start_time": "2021-11-10T16:01:01.331Z"
   },
   {
    "duration": 158,
    "start_time": "2021-11-10T16:01:01.366Z"
   },
   {
    "duration": 323,
    "start_time": "2021-11-10T16:01:01.526Z"
   },
   {
    "duration": 18,
    "start_time": "2021-11-10T16:01:01.853Z"
   },
   {
    "duration": 55,
    "start_time": "2021-11-10T16:01:01.874Z"
   },
   {
    "duration": 84,
    "start_time": "2021-11-10T16:01:01.932Z"
   },
   {
    "duration": 4,
    "start_time": "2021-11-10T16:01:02.018Z"
   },
   {
    "duration": 25,
    "start_time": "2021-11-10T16:01:02.024Z"
   },
   {
    "duration": 32,
    "start_time": "2021-11-10T16:01:02.051Z"
   },
   {
    "duration": 13,
    "start_time": "2021-11-10T16:01:02.086Z"
   },
   {
    "duration": 49,
    "start_time": "2021-11-10T16:01:02.102Z"
   },
   {
    "duration": 4,
    "start_time": "2021-11-10T16:01:02.154Z"
   },
   {
    "duration": 18,
    "start_time": "2021-11-10T16:01:02.161Z"
   },
   {
    "duration": 15,
    "start_time": "2021-11-10T16:01:02.181Z"
   },
   {
    "duration": 24,
    "start_time": "2021-11-10T16:01:02.198Z"
   },
   {
    "duration": 15,
    "start_time": "2021-11-10T16:01:02.225Z"
   },
   {
    "duration": 33,
    "start_time": "2021-11-10T16:01:02.244Z"
   },
   {
    "duration": 16,
    "start_time": "2021-11-10T16:01:02.279Z"
   },
   {
    "duration": 23,
    "start_time": "2021-11-10T16:01:02.301Z"
   },
   {
    "duration": 31,
    "start_time": "2021-11-10T16:01:02.327Z"
   },
   {
    "duration": 22,
    "start_time": "2021-11-10T16:01:02.360Z"
   },
   {
    "duration": 43,
    "start_time": "2021-11-10T16:01:02.385Z"
   },
   {
    "duration": 6,
    "start_time": "2021-11-10T16:01:02.430Z"
   },
   {
    "duration": 36,
    "start_time": "2021-11-10T16:01:02.439Z"
   },
   {
    "duration": 29,
    "start_time": "2021-11-10T16:01:02.478Z"
   },
   {
    "duration": 32,
    "start_time": "2021-11-10T16:01:02.510Z"
   },
   {
    "duration": 19,
    "start_time": "2021-11-10T16:01:02.544Z"
   },
   {
    "duration": 15,
    "start_time": "2021-11-10T16:01:02.566Z"
   },
   {
    "duration": 5,
    "start_time": "2021-11-10T16:01:02.584Z"
   },
   {
    "duration": 31,
    "start_time": "2021-11-10T16:01:02.592Z"
   },
   {
    "duration": 31,
    "start_time": "2021-11-10T16:01:02.625Z"
   },
   {
    "duration": 27,
    "start_time": "2021-11-10T16:01:02.658Z"
   },
   {
    "duration": 16,
    "start_time": "2021-11-10T16:01:02.687Z"
   },
   {
    "duration": 19,
    "start_time": "2021-11-10T16:01:02.705Z"
   },
   {
    "duration": 6,
    "start_time": "2021-11-10T16:01:02.727Z"
   },
   {
    "duration": 510,
    "start_time": "2021-11-10T16:01:02.736Z"
   },
   {
    "duration": 3,
    "start_time": "2021-11-10T16:01:03.248Z"
   },
   {
    "duration": 39,
    "start_time": "2021-11-10T16:01:03.253Z"
   },
   {
    "duration": 28,
    "start_time": "2021-11-10T16:01:03.294Z"
   },
   {
    "duration": 13,
    "start_time": "2021-11-10T16:01:03.324Z"
   },
   {
    "duration": 13,
    "start_time": "2021-11-10T16:01:03.339Z"
   },
   {
    "duration": 40,
    "start_time": "2021-11-10T16:01:03.354Z"
   },
   {
    "duration": 10,
    "start_time": "2021-11-10T16:01:03.397Z"
   },
   {
    "duration": 25,
    "start_time": "2021-11-10T16:01:03.422Z"
   },
   {
    "duration": 4,
    "start_time": "2021-11-10T16:01:03.449Z"
   },
   {
    "duration": 35,
    "start_time": "2021-11-10T16:01:03.455Z"
   },
   {
    "duration": 31,
    "start_time": "2021-11-10T16:01:03.492Z"
   },
   {
    "duration": 4,
    "start_time": "2021-11-10T16:01:03.525Z"
   },
   {
    "duration": 28,
    "start_time": "2021-11-10T16:01:03.538Z"
   },
   {
    "duration": 23,
    "start_time": "2021-11-10T16:01:03.568Z"
   },
   {
    "duration": 44,
    "start_time": "2021-11-10T16:01:03.593Z"
   },
   {
    "duration": 28,
    "start_time": "2021-11-10T16:01:03.640Z"
   },
   {
    "duration": 23,
    "start_time": "2021-11-10T16:01:03.671Z"
   },
   {
    "duration": 22,
    "start_time": "2021-11-10T16:01:03.696Z"
   },
   {
    "duration": 27,
    "start_time": "2021-11-10T16:01:03.721Z"
   },
   {
    "duration": 31,
    "start_time": "2021-11-10T16:01:03.750Z"
   },
   {
    "duration": 19,
    "start_time": "2021-11-10T16:01:03.783Z"
   },
   {
    "duration": 24,
    "start_time": "2021-11-10T16:01:03.805Z"
   },
   {
    "duration": 162,
    "start_time": "2021-11-10T16:01:03.832Z"
   },
   {
    "duration": 18,
    "start_time": "2021-11-10T16:01:03.996Z"
   },
   {
    "duration": 37,
    "start_time": "2021-11-10T16:01:04.023Z"
   },
   {
    "duration": 5,
    "start_time": "2021-11-10T16:01:04.064Z"
   },
   {
    "duration": 13,
    "start_time": "2021-11-10T16:01:04.072Z"
   },
   {
    "duration": 6,
    "start_time": "2021-11-10T16:01:04.128Z"
   },
   {
    "duration": 16,
    "start_time": "2021-11-10T16:01:04.137Z"
   },
   {
    "duration": 302,
    "start_time": "2021-11-10T16:01:04.156Z"
   },
   {
    "duration": 37,
    "start_time": "2021-11-10T16:01:04.461Z"
   },
   {
    "duration": 54,
    "start_time": "2021-11-10T16:01:04.500Z"
   },
   {
    "duration": 401,
    "start_time": "2021-11-10T16:01:04.557Z"
   },
   {
    "duration": 387,
    "start_time": "2021-11-10T16:01:04.961Z"
   },
   {
    "duration": 381,
    "start_time": "2021-11-10T16:01:05.350Z"
   },
   {
    "duration": 466,
    "start_time": "2021-11-10T16:01:05.735Z"
   },
   {
    "duration": 19,
    "start_time": "2021-11-10T16:01:06.204Z"
   },
   {
    "duration": 12,
    "start_time": "2021-11-10T16:01:06.227Z"
   },
   {
    "duration": 340,
    "start_time": "2021-11-10T16:01:06.241Z"
   },
   {
    "duration": 8,
    "start_time": "2021-11-10T16:01:06.584Z"
   },
   {
    "duration": 22,
    "start_time": "2021-11-10T16:01:06.595Z"
   },
   {
    "duration": 407,
    "start_time": "2021-11-10T16:01:06.623Z"
   },
   {
    "duration": 28,
    "start_time": "2021-11-10T16:01:07.033Z"
   },
   {
    "duration": 30,
    "start_time": "2021-11-10T16:01:07.063Z"
   },
   {
    "duration": 52,
    "start_time": "2021-11-10T16:01:07.096Z"
   },
   {
    "duration": 10,
    "start_time": "2021-11-10T16:01:07.150Z"
   },
   {
    "duration": 25,
    "start_time": "2021-11-10T16:01:07.162Z"
   },
   {
    "duration": 45,
    "start_time": "2021-11-10T16:01:07.189Z"
   },
   {
    "duration": 27,
    "start_time": "2021-11-10T16:01:07.237Z"
   },
   {
    "duration": 14,
    "start_time": "2021-11-10T16:01:07.266Z"
   },
   {
    "duration": 22,
    "start_time": "2021-11-10T16:01:07.283Z"
   },
   {
    "duration": 23,
    "start_time": "2021-11-10T16:01:07.307Z"
   },
   {
    "duration": 13,
    "start_time": "2021-11-10T16:01:07.333Z"
   },
   {
    "duration": 17,
    "start_time": "2021-11-10T16:01:07.348Z"
   },
   {
    "duration": 24,
    "start_time": "2021-11-10T16:01:07.367Z"
   },
   {
    "duration": 19,
    "start_time": "2021-11-10T16:01:07.393Z"
   },
   {
    "duration": 17,
    "start_time": "2021-11-10T16:01:07.415Z"
   },
   {
    "duration": 11,
    "start_time": "2021-11-10T16:01:07.435Z"
   },
   {
    "duration": 14,
    "start_time": "2021-11-10T16:01:07.449Z"
   },
   {
    "duration": 27,
    "start_time": "2021-11-10T16:01:07.465Z"
   },
   {
    "duration": 10,
    "start_time": "2021-11-10T16:01:07.494Z"
   },
   {
    "duration": 10,
    "start_time": "2021-11-10T16:01:07.506Z"
   },
   {
    "duration": 7,
    "start_time": "2021-11-10T16:01:07.519Z"
   },
   {
    "duration": 8,
    "start_time": "2021-11-10T16:03:02.443Z"
   },
   {
    "duration": 8,
    "start_time": "2021-11-10T16:04:50.668Z"
   },
   {
    "duration": 5,
    "start_time": "2021-11-10T16:05:16.422Z"
   },
   {
    "duration": 7,
    "start_time": "2021-11-10T16:05:55.973Z"
   },
   {
    "duration": 5,
    "start_time": "2021-11-10T16:05:56.890Z"
   },
   {
    "duration": 27,
    "start_time": "2021-11-10T16:05:57.797Z"
   },
   {
    "duration": 27,
    "start_time": "2021-11-10T16:06:10.356Z"
   },
   {
    "duration": 26,
    "start_time": "2021-11-10T16:06:26.828Z"
   },
   {
    "duration": 15,
    "start_time": "2021-11-10T16:06:39.068Z"
   },
   {
    "duration": 7,
    "start_time": "2021-11-10T16:07:32.776Z"
   },
   {
    "duration": 8,
    "start_time": "2021-11-10T16:07:36.421Z"
   },
   {
    "duration": 4,
    "start_time": "2021-11-10T16:07:38.048Z"
   },
   {
    "duration": 17,
    "start_time": "2021-11-10T16:07:39.088Z"
   },
   {
    "duration": 29,
    "start_time": "2021-11-10T16:07:55.211Z"
   },
   {
    "duration": 29,
    "start_time": "2021-11-10T16:08:12.606Z"
   },
   {
    "duration": 31,
    "start_time": "2021-11-10T16:08:30.861Z"
   },
   {
    "duration": 17,
    "start_time": "2021-11-10T16:11:11.459Z"
   },
   {
    "duration": 12,
    "start_time": "2021-11-10T16:13:13.515Z"
   },
   {
    "duration": 393,
    "start_time": "2021-11-10T16:13:41.491Z"
   },
   {
    "duration": 1541,
    "start_time": "2021-11-10T16:14:03.954Z"
   },
   {
    "duration": 185,
    "start_time": "2021-11-10T16:14:05.498Z"
   },
   {
    "duration": 36,
    "start_time": "2021-11-10T16:14:05.687Z"
   },
   {
    "duration": 322,
    "start_time": "2021-11-10T16:14:05.726Z"
   },
   {
    "duration": 32,
    "start_time": "2021-11-10T16:14:06.050Z"
   },
   {
    "duration": 157,
    "start_time": "2021-11-10T16:14:06.085Z"
   },
   {
    "duration": 326,
    "start_time": "2021-11-10T16:14:06.245Z"
   },
   {
    "duration": 20,
    "start_time": "2021-11-10T16:14:06.575Z"
   },
   {
    "duration": 51,
    "start_time": "2021-11-10T16:14:06.599Z"
   },
   {
    "duration": 97,
    "start_time": "2021-11-10T16:14:06.653Z"
   },
   {
    "duration": 3,
    "start_time": "2021-11-10T16:14:06.753Z"
   },
   {
    "duration": 18,
    "start_time": "2021-11-10T16:14:06.759Z"
   },
   {
    "duration": 49,
    "start_time": "2021-11-10T16:14:06.779Z"
   },
   {
    "duration": 13,
    "start_time": "2021-11-10T16:14:06.832Z"
   },
   {
    "duration": 47,
    "start_time": "2021-11-10T16:14:06.848Z"
   },
   {
    "duration": 2,
    "start_time": "2021-11-10T16:14:06.898Z"
   },
   {
    "duration": 21,
    "start_time": "2021-11-10T16:14:06.903Z"
   },
   {
    "duration": 9,
    "start_time": "2021-11-10T16:14:06.928Z"
   },
   {
    "duration": 8,
    "start_time": "2021-11-10T16:14:06.939Z"
   },
   {
    "duration": 12,
    "start_time": "2021-11-10T16:14:06.949Z"
   },
   {
    "duration": 26,
    "start_time": "2021-11-10T16:14:06.964Z"
   },
   {
    "duration": 31,
    "start_time": "2021-11-10T16:14:06.993Z"
   },
   {
    "duration": 18,
    "start_time": "2021-11-10T16:14:07.031Z"
   },
   {
    "duration": 30,
    "start_time": "2021-11-10T16:14:07.053Z"
   },
   {
    "duration": 52,
    "start_time": "2021-11-10T16:14:07.085Z"
   },
   {
    "duration": 18,
    "start_time": "2021-11-10T16:14:07.140Z"
   },
   {
    "duration": 6,
    "start_time": "2021-11-10T16:14:07.160Z"
   },
   {
    "duration": 10,
    "start_time": "2021-11-10T16:14:07.168Z"
   },
   {
    "duration": 49,
    "start_time": "2021-11-10T16:14:07.181Z"
   },
   {
    "duration": 35,
    "start_time": "2021-11-10T16:14:07.233Z"
   },
   {
    "duration": 20,
    "start_time": "2021-11-10T16:14:07.271Z"
   },
   {
    "duration": 36,
    "start_time": "2021-11-10T16:14:07.294Z"
   },
   {
    "duration": 7,
    "start_time": "2021-11-10T16:14:07.333Z"
   },
   {
    "duration": 12,
    "start_time": "2021-11-10T16:14:07.343Z"
   },
   {
    "duration": 27,
    "start_time": "2021-11-10T16:14:07.357Z"
   },
   {
    "duration": 42,
    "start_time": "2021-11-10T16:14:07.386Z"
   },
   {
    "duration": 8,
    "start_time": "2021-11-10T16:14:07.432Z"
   },
   {
    "duration": 14,
    "start_time": "2021-11-10T16:14:07.443Z"
   },
   {
    "duration": 10,
    "start_time": "2021-11-10T16:14:07.459Z"
   },
   {
    "duration": 719,
    "start_time": "2021-11-10T16:14:07.472Z"
   },
   {
    "duration": 3,
    "start_time": "2021-11-10T16:14:08.193Z"
   },
   {
    "duration": 50,
    "start_time": "2021-11-10T16:14:08.199Z"
   },
   {
    "duration": 11,
    "start_time": "2021-11-10T16:14:08.252Z"
   },
   {
    "duration": 13,
    "start_time": "2021-11-10T16:14:08.266Z"
   },
   {
    "duration": 3,
    "start_time": "2021-11-10T16:14:08.282Z"
   },
   {
    "duration": 57,
    "start_time": "2021-11-10T16:14:08.287Z"
   },
   {
    "duration": 12,
    "start_time": "2021-11-10T16:14:08.347Z"
   },
   {
    "duration": 12,
    "start_time": "2021-11-10T16:14:08.362Z"
   },
   {
    "duration": 5,
    "start_time": "2021-11-10T16:14:08.376Z"
   },
   {
    "duration": 29,
    "start_time": "2021-11-10T16:14:08.423Z"
   },
   {
    "duration": 23,
    "start_time": "2021-11-10T16:14:08.455Z"
   },
   {
    "duration": 5,
    "start_time": "2021-11-10T16:14:08.481Z"
   },
   {
    "duration": 31,
    "start_time": "2021-11-10T16:14:08.523Z"
   },
   {
    "duration": 22,
    "start_time": "2021-11-10T16:14:08.556Z"
   },
   {
    "duration": 45,
    "start_time": "2021-11-10T16:14:08.581Z"
   },
   {
    "duration": 18,
    "start_time": "2021-11-10T16:14:08.629Z"
   },
   {
    "duration": 87,
    "start_time": "2021-11-10T16:14:08.650Z"
   },
   {
    "duration": 5,
    "start_time": "2021-11-10T16:14:08.739Z"
   },
   {
    "duration": 5,
    "start_time": "2021-11-10T16:14:08.746Z"
   },
   {
    "duration": 21,
    "start_time": "2021-11-10T16:14:08.754Z"
   },
   {
    "duration": 7,
    "start_time": "2021-11-10T16:14:08.779Z"
   },
   {
    "duration": 11,
    "start_time": "2021-11-10T16:14:08.789Z"
   },
   {
    "duration": 208,
    "start_time": "2021-11-10T16:14:08.803Z"
   },
   {
    "duration": 19,
    "start_time": "2021-11-10T16:14:09.014Z"
   },
   {
    "duration": 35,
    "start_time": "2021-11-10T16:14:09.036Z"
   },
   {
    "duration": 5,
    "start_time": "2021-11-10T16:14:09.073Z"
   },
   {
    "duration": 42,
    "start_time": "2021-11-10T16:14:09.080Z"
   },
   {
    "duration": 5,
    "start_time": "2021-11-10T16:14:09.133Z"
   },
   {
    "duration": 6,
    "start_time": "2021-11-10T16:14:09.143Z"
   },
   {
    "duration": 328,
    "start_time": "2021-11-10T16:14:09.152Z"
   },
   {
    "duration": 54,
    "start_time": "2021-11-10T16:14:09.483Z"
   },
   {
    "duration": 37,
    "start_time": "2021-11-10T16:14:09.539Z"
   },
   {
    "duration": 411,
    "start_time": "2021-11-10T16:14:09.578Z"
   },
   {
    "duration": 386,
    "start_time": "2021-11-10T16:14:09.991Z"
   },
   {
    "duration": 408,
    "start_time": "2021-11-10T16:14:10.380Z"
   },
   {
    "duration": 555,
    "start_time": "2021-11-10T16:14:10.791Z"
   },
   {
    "duration": 8,
    "start_time": "2021-11-10T16:14:11.349Z"
   },
   {
    "duration": 10,
    "start_time": "2021-11-10T16:14:11.359Z"
   },
   {
    "duration": 369,
    "start_time": "2021-11-10T16:14:11.371Z"
   },
   {
    "duration": 6,
    "start_time": "2021-11-10T16:14:11.742Z"
   },
   {
    "duration": 8,
    "start_time": "2021-11-10T16:14:11.751Z"
   },
   {
    "duration": 501,
    "start_time": "2021-11-10T16:14:11.762Z"
   },
   {
    "duration": 29,
    "start_time": "2021-11-10T16:14:12.267Z"
   },
   {
    "duration": 49,
    "start_time": "2021-11-10T16:14:12.298Z"
   },
   {
    "duration": 29,
    "start_time": "2021-11-10T16:14:12.349Z"
   },
   {
    "duration": 42,
    "start_time": "2021-11-10T16:14:12.380Z"
   },
   {
    "duration": 8,
    "start_time": "2021-11-10T16:14:12.425Z"
   },
   {
    "duration": 22,
    "start_time": "2021-11-10T16:14:12.436Z"
   },
   {
    "duration": 5,
    "start_time": "2021-11-10T16:14:12.461Z"
   },
   {
    "duration": 22,
    "start_time": "2021-11-10T16:14:12.469Z"
   },
   {
    "duration": 7,
    "start_time": "2021-11-10T16:14:12.522Z"
   },
   {
    "duration": 14,
    "start_time": "2021-11-10T16:14:12.533Z"
   },
   {
    "duration": 19,
    "start_time": "2021-11-10T16:14:12.550Z"
   },
   {
    "duration": 8,
    "start_time": "2021-11-10T16:14:12.572Z"
   },
   {
    "duration": 10,
    "start_time": "2021-11-10T16:14:12.624Z"
   },
   {
    "duration": 6,
    "start_time": "2021-11-10T16:14:12.637Z"
   },
   {
    "duration": 27,
    "start_time": "2021-11-10T16:14:12.646Z"
   },
   {
    "duration": 9,
    "start_time": "2021-11-10T16:14:12.676Z"
   },
   {
    "duration": 8,
    "start_time": "2021-11-10T16:14:12.723Z"
   },
   {
    "duration": 8,
    "start_time": "2021-11-10T16:14:12.734Z"
   },
   {
    "duration": 7,
    "start_time": "2021-11-10T16:14:12.747Z"
   },
   {
    "duration": 8,
    "start_time": "2021-11-10T16:14:12.757Z"
   },
   {
    "duration": 8,
    "start_time": "2021-11-10T16:14:12.768Z"
   },
   {
    "duration": 6,
    "start_time": "2021-11-10T16:14:12.824Z"
   },
   {
    "duration": 12,
    "start_time": "2021-11-10T16:14:12.832Z"
   },
   {
    "duration": 6,
    "start_time": "2021-11-10T16:14:12.847Z"
   },
   {
    "duration": 1409,
    "start_time": "2021-11-11T15:06:05.557Z"
   },
   {
    "duration": 166,
    "start_time": "2021-11-11T15:06:06.969Z"
   },
   {
    "duration": 23,
    "start_time": "2021-11-11T15:06:07.137Z"
   },
   {
    "duration": 357,
    "start_time": "2021-11-11T15:06:07.163Z"
   },
   {
    "duration": 32,
    "start_time": "2021-11-11T15:06:07.523Z"
   },
   {
    "duration": 150,
    "start_time": "2021-11-11T15:06:07.558Z"
   },
   {
    "duration": 336,
    "start_time": "2021-11-11T15:06:07.711Z"
   },
   {
    "duration": 19,
    "start_time": "2021-11-11T15:06:08.051Z"
   },
   {
    "duration": 54,
    "start_time": "2021-11-11T15:06:08.073Z"
   },
   {
    "duration": 83,
    "start_time": "2021-11-11T15:06:08.130Z"
   },
   {
    "duration": 4,
    "start_time": "2021-11-11T15:06:08.215Z"
   },
   {
    "duration": 20,
    "start_time": "2021-11-11T15:06:08.221Z"
   },
   {
    "duration": 30,
    "start_time": "2021-11-11T15:06:08.243Z"
   },
   {
    "duration": 30,
    "start_time": "2021-11-11T15:06:08.276Z"
   },
   {
    "duration": 42,
    "start_time": "2021-11-11T15:06:08.309Z"
   },
   {
    "duration": 3,
    "start_time": "2021-11-11T15:06:08.353Z"
   },
   {
    "duration": 14,
    "start_time": "2021-11-11T15:06:08.358Z"
   },
   {
    "duration": 27,
    "start_time": "2021-11-11T15:06:08.374Z"
   },
   {
    "duration": 6,
    "start_time": "2021-11-11T15:06:08.404Z"
   },
   {
    "duration": 17,
    "start_time": "2021-11-11T15:06:08.412Z"
   },
   {
    "duration": 26,
    "start_time": "2021-11-11T15:06:08.431Z"
   },
   {
    "duration": 3,
    "start_time": "2021-11-11T15:06:08.459Z"
   },
   {
    "duration": 41,
    "start_time": "2021-11-11T15:06:08.468Z"
   },
   {
    "duration": 37,
    "start_time": "2021-11-11T15:06:08.513Z"
   },
   {
    "duration": 22,
    "start_time": "2021-11-11T15:06:08.552Z"
   },
   {
    "duration": 35,
    "start_time": "2021-11-11T15:06:08.577Z"
   },
   {
    "duration": 6,
    "start_time": "2021-11-11T15:06:08.614Z"
   },
   {
    "duration": 11,
    "start_time": "2021-11-11T15:06:08.623Z"
   },
   {
    "duration": 27,
    "start_time": "2021-11-11T15:06:08.636Z"
   },
   {
    "duration": 44,
    "start_time": "2021-11-11T15:06:08.665Z"
   },
   {
    "duration": 20,
    "start_time": "2021-11-11T15:06:08.713Z"
   },
   {
    "duration": 15,
    "start_time": "2021-11-11T15:06:08.735Z"
   },
   {
    "duration": 6,
    "start_time": "2021-11-11T15:06:08.752Z"
   },
   {
    "duration": 41,
    "start_time": "2021-11-11T15:06:08.760Z"
   },
   {
    "duration": 17,
    "start_time": "2021-11-11T15:06:08.804Z"
   },
   {
    "duration": 14,
    "start_time": "2021-11-11T15:06:08.824Z"
   },
   {
    "duration": 11,
    "start_time": "2021-11-11T15:06:08.840Z"
   },
   {
    "duration": 12,
    "start_time": "2021-11-11T15:06:08.854Z"
   },
   {
    "duration": 9,
    "start_time": "2021-11-11T15:06:08.900Z"
   },
   {
    "duration": 483,
    "start_time": "2021-11-11T15:06:08.911Z"
   },
   {
    "duration": 3,
    "start_time": "2021-11-11T15:06:09.400Z"
   },
   {
    "duration": 37,
    "start_time": "2021-11-11T15:06:09.405Z"
   },
   {
    "duration": 12,
    "start_time": "2021-11-11T15:06:09.445Z"
   },
   {
    "duration": 43,
    "start_time": "2021-11-11T15:06:09.459Z"
   },
   {
    "duration": 8,
    "start_time": "2021-11-11T15:06:09.505Z"
   },
   {
    "duration": 33,
    "start_time": "2021-11-11T15:06:09.515Z"
   },
   {
    "duration": 12,
    "start_time": "2021-11-11T15:06:09.550Z"
   },
   {
    "duration": 13,
    "start_time": "2021-11-11T15:06:09.564Z"
   },
   {
    "duration": 4,
    "start_time": "2021-11-11T15:06:09.601Z"
   },
   {
    "duration": 33,
    "start_time": "2021-11-11T15:06:09.607Z"
   },
   {
    "duration": 20,
    "start_time": "2021-11-11T15:06:09.642Z"
   },
   {
    "duration": 36,
    "start_time": "2021-11-11T15:06:09.664Z"
   },
   {
    "duration": 27,
    "start_time": "2021-11-11T15:06:09.702Z"
   },
   {
    "duration": 22,
    "start_time": "2021-11-11T15:06:09.731Z"
   },
   {
    "duration": 13,
    "start_time": "2021-11-11T15:06:09.755Z"
   },
   {
    "duration": 41,
    "start_time": "2021-11-11T15:06:09.770Z"
   },
   {
    "duration": 15,
    "start_time": "2021-11-11T15:06:09.814Z"
   },
   {
    "duration": 4,
    "start_time": "2021-11-11T15:06:09.832Z"
   },
   {
    "duration": 6,
    "start_time": "2021-11-11T15:06:09.839Z"
   },
   {
    "duration": 16,
    "start_time": "2021-11-11T15:06:09.847Z"
   },
   {
    "duration": 36,
    "start_time": "2021-11-11T15:06:09.865Z"
   },
   {
    "duration": 15,
    "start_time": "2021-11-11T15:06:09.903Z"
   },
   {
    "duration": 186,
    "start_time": "2021-11-11T15:06:09.920Z"
   },
   {
    "duration": 19,
    "start_time": "2021-11-11T15:06:10.109Z"
   },
   {
    "duration": 34,
    "start_time": "2021-11-11T15:06:10.130Z"
   },
   {
    "duration": 5,
    "start_time": "2021-11-11T15:06:10.166Z"
   },
   {
    "duration": 5,
    "start_time": "2021-11-11T15:06:10.201Z"
   },
   {
    "duration": 6,
    "start_time": "2021-11-11T15:06:10.216Z"
   },
   {
    "duration": 6,
    "start_time": "2021-11-11T15:06:10.225Z"
   },
   {
    "duration": 345,
    "start_time": "2021-11-11T15:06:10.233Z"
   },
   {
    "duration": 47,
    "start_time": "2021-11-11T15:06:10.581Z"
   },
   {
    "duration": 44,
    "start_time": "2021-11-11T15:06:10.631Z"
   },
   {
    "duration": 429,
    "start_time": "2021-11-11T15:06:10.678Z"
   },
   {
    "duration": 411,
    "start_time": "2021-11-11T15:06:11.109Z"
   },
   {
    "duration": 408,
    "start_time": "2021-11-11T15:06:11.523Z"
   },
   {
    "duration": 497,
    "start_time": "2021-11-11T15:06:11.934Z"
   },
   {
    "duration": 7,
    "start_time": "2021-11-11T15:06:12.434Z"
   },
   {
    "duration": 17,
    "start_time": "2021-11-11T15:06:12.443Z"
   },
   {
    "duration": 352,
    "start_time": "2021-11-11T15:06:12.463Z"
   },
   {
    "duration": 7,
    "start_time": "2021-11-11T15:06:12.818Z"
   },
   {
    "duration": 8,
    "start_time": "2021-11-11T15:06:12.827Z"
   },
   {
    "duration": 415,
    "start_time": "2021-11-11T15:06:12.837Z"
   },
   {
    "duration": 27,
    "start_time": "2021-11-11T15:06:13.255Z"
   },
   {
    "duration": 26,
    "start_time": "2021-11-11T15:06:13.301Z"
   },
   {
    "duration": 28,
    "start_time": "2021-11-11T15:06:13.329Z"
   },
   {
    "duration": 41,
    "start_time": "2021-11-11T15:06:13.359Z"
   },
   {
    "duration": 7,
    "start_time": "2021-11-11T15:06:13.403Z"
   },
   {
    "duration": 18,
    "start_time": "2021-11-11T15:06:13.412Z"
   },
   {
    "duration": 6,
    "start_time": "2021-11-11T15:06:13.433Z"
   },
   {
    "duration": 20,
    "start_time": "2021-11-11T15:06:13.441Z"
   },
   {
    "duration": 38,
    "start_time": "2021-11-11T15:06:13.464Z"
   },
   {
    "duration": 8,
    "start_time": "2021-11-11T15:06:13.505Z"
   },
   {
    "duration": 17,
    "start_time": "2021-11-11T15:06:13.516Z"
   },
   {
    "duration": 12,
    "start_time": "2021-11-11T15:06:13.536Z"
   },
   {
    "duration": 12,
    "start_time": "2021-11-11T15:06:13.550Z"
   },
   {
    "duration": 7,
    "start_time": "2021-11-11T15:06:13.565Z"
   },
   {
    "duration": 42,
    "start_time": "2021-11-11T15:06:13.574Z"
   },
   {
    "duration": 11,
    "start_time": "2021-11-11T15:06:13.619Z"
   },
   {
    "duration": 9,
    "start_time": "2021-11-11T15:06:13.633Z"
   },
   {
    "duration": 20,
    "start_time": "2021-11-11T15:06:13.645Z"
   },
   {
    "duration": 34,
    "start_time": "2021-11-11T15:06:13.668Z"
   },
   {
    "duration": 6,
    "start_time": "2021-11-11T15:06:13.705Z"
   },
   {
    "duration": 10,
    "start_time": "2021-11-11T15:06:13.713Z"
   },
   {
    "duration": 9,
    "start_time": "2021-11-11T15:06:13.725Z"
   },
   {
    "duration": 13,
    "start_time": "2021-11-11T15:06:13.736Z"
   },
   {
    "duration": 6,
    "start_time": "2021-11-11T15:06:13.752Z"
   },
   {
    "duration": 7,
    "start_time": "2021-11-11T15:10:48.807Z"
   },
   {
    "duration": 8,
    "start_time": "2021-11-11T15:10:54.944Z"
   }
  ],
  "kernelspec": {
   "display_name": "Python 3",
   "language": "python",
   "name": "python3"
  },
  "language_info": {
   "codemirror_mode": {
    "name": "ipython",
    "version": 3
   },
   "file_extension": ".py",
   "mimetype": "text/x-python",
   "name": "python",
   "nbconvert_exporter": "python",
   "pygments_lexer": "ipython3",
   "version": "3.8.8"
  },
  "toc": {
   "base_numbering": 1,
   "nav_menu": {},
   "number_sections": true,
   "sideBar": true,
   "skip_h1_title": true,
   "title_cell": "Table of Contents",
   "title_sidebar": "Contents",
   "toc_cell": false,
   "toc_position": {},
   "toc_section_display": true,
   "toc_window_display": false
  }
 },
 "nbformat": 4,
 "nbformat_minor": 2
}
